{
 "cells": [
  {
   "cell_type": "markdown",
   "id": "bb35ca78-8334-45a6-839c-963796fc7095",
   "metadata": {},
   "source": [
    "# Система алертов для приложения"
   ]
  },
  {
   "cell_type": "markdown",
   "id": "5d34b8d8-8c5f-4884-819d-d9b5b50437dc",
   "metadata": {},
   "source": [
    "Система должна с периодичность каждые 15 минут проверять ключевые метрики, такие как: \n",
    "* **активные пользователи в ленте / мессенджере**, \n",
    "* **просмотры**, \n",
    "* **лайки**, \n",
    "* **CTR**, \n",
    "* **количество отправленных сообщений**. \n",
    "\n",
    "Изучите поведение метрик и подберите наиболее подходящий метод для детектирования аномалий. На практике как правило применяются статистические методы. \n",
    "В самом простом случае можно, например, проверять отклонение значения метрики в текущую 15-минутку от значения в такую же 15-минутку день назад. \n",
    "\n",
    "В случае обнаружения аномального значения, в чат должен отправиться алерт - сообщение со следующей информацией: метрика, ее значение, величина отклонения.  \n",
    "В сообщение можно добавить дополнительную информацию, которая поможет при исследовании причин возникновения аномалии, это может быть, например,  график, ссылки на дашборд/чарт в BI системе. "
   ]
  },
  {
   "cell_type": "code",
   "execution_count": null,
   "id": "2383b6e0-86df-44bc-80ad-9c80b03e50ff",
   "metadata": {},
   "outputs": [],
   "source": []
  },
  {
   "cell_type": "code",
   "execution_count": 1,
   "id": "3354450c-a4a6-4174-914b-0bc11c35f36e",
   "metadata": {},
   "outputs": [],
   "source": [
    "# Импортируем необходимые библиотеки\n",
    "\n",
    "import pandas as pd\n",
    "import matplotlib.pyplot as plt\n",
    "import seaborn as sns\n",
    "import telegram\n",
    "import pandahouse\n",
    "from datetime import date\n",
    "import io # библиотека для управления потоками ввода/вывода данных (чтобы  пересылать графики из буфера обмена и не сохранять их лишний раз)\n",
    "import sys\n",
    "import os"
   ]
  },
  {
   "cell_type": "code",
   "execution_count": 2,
   "id": "f0888368-bea7-4106-82a6-9e63cbf22665",
   "metadata": {},
   "outputs": [],
   "source": [
    "# # Создаем бота с помощью нашего токена\n",
    "# # (Токен получили в \"BotFather\" в Телеграме)\n",
    "# # bot_token = os.environ.get(\"tg_bot_token\")\n",
    "# # bot = telegram.Bot(token=os.environ.get(\"tg_bot_token\"))\n",
    "\n",
    "# bot = telegram.Bot(token='5227151149:AAGkhDIQK5PZo1i88XKZ22INjOnBXq_06Z4')"
   ]
  },
  {
   "cell_type": "code",
   "execution_count": 3,
   "id": "935413d7-f68d-4ae6-822e-a19ada3b879e",
   "metadata": {},
   "outputs": [],
   "source": [
    "# # Сохраним id, куда бот будет отправлять отчеты (наш id)\n",
    "# chat_id = 244991955"
   ]
  },
  {
   "cell_type": "code",
   "execution_count": null,
   "id": "8469137d-f4be-4c7e-97a2-94323476e0fa",
   "metadata": {},
   "outputs": [],
   "source": [
    "def check_anomaly(df, metric, a=4, n=5):\n",
    "    \"\"\"\n",
    "    функция check_anomaly предлагает алгоритм проверки значения на аномальность посредством\n",
    "    сравнения текущего значения метрики со средненедельным показателем в 15 минутном интервале.\n",
    "\n",
    "    Параметры:\n",
    "    df - датафрейм\n",
    "    metric - метрика для проверки на аномалии\n",
    "    a - коэффициент перед межквартильным размахом (a*IQR)\n",
    "    n - количество временных промежутков.\n",
    "\n",
    "    Функция возвращает: \n",
    "    is_alert - оповещение, есть отклонение (1) или нет (0)\n",
    "    df \n",
    "    current_val - \n",
    "    last_val_diff - отклонение от предыдущего значения\n",
    "    \"\"\"\n",
    "    # Реализуем метод межквартильного размаха\n",
    "    # Добавим столбцы с 25-м и 75-м квартилями и IQR\n",
    "    df['q25'] = df[metric].shift(1).rolling(n).quantile(0.25) # сдвигаем на одну 15-минутку назад, чтобы избежать влияния неполной 15-минутки на расчет\n",
    "    df['q75'] = df[metric].shift(1).rolling(n).quantile(0.75)\n",
    "    df['iqr'] = df['q75'] - df['q25']\n",
    "    # Добавим столбцы со значениями верхней и нижней границ\n",
    "    df['up'] = df['q75'] + a*df['iqr']\n",
    "    df['low'] = df['q25'] - a*df['iqr']\n",
    "    # Сгладим значения верхней и нижней границ\n",
    "    df['up'] = df['up'].rolling(n, center=True, min_periods=1).mean()\n",
    "    df['low'] = df['low'].rolling(n, center=True, min_periods=1).mean()\n",
    "    # Проверяемое значение метрики (в последней 15-минутке)\n",
    "    current_val = df[metric].iloc[-1]\n",
    "    # Отклонение от предыдущего значения (предыдущей 15-минутки)\n",
    "    last_val_diff = abs(1 - (current_val/df[metric].iloc[-2]))\n",
    "    # Проверяем на отклонение\n",
    "    if current_val < df['low'].iloc[-1] or current_val > df['up'].iloc[-1]:\n",
    "        is_alert = 1\n",
    "    else:\n",
    "        is_alert = 0\n",
    "    \n",
    "    return is_alert, df, current_val, last_val_diff"
   ]
  },
  {
   "cell_type": "code",
   "execution_count": 5,
   "id": "24de3d6e-35ed-4d06-8ebc-900e01fb31cb",
   "metadata": {},
   "outputs": [],
   "source": [
    "def run_alerts(chat=None):\n",
    "    \"\"\"\n",
    "    Функция run_alerts запускает подключение к базе данных, выполняет запрос на проверку \n",
    "    метрик на аномалии, а также формирует информацию для отчета в telegram\n",
    "    \n",
    "    Параметры:\n",
    "    chat - chat_id telegram для отправки сообщения\n",
    "    sigma - значение сигмы\n",
    "    \"\"\"\n",
    "    # Подключаем tg-бота и канал, куда будем отправлять сообщения\n",
    "    chat_id = chat or 244991955\n",
    "    bot = telegram.Bot(token='5227151149:AAGkhDIQK5PZo1i88XKZ22INjOnBXq_06Z4')\n",
    "    \n",
    "    # Загружаем датасет\n",
    "    # Подключаемся к БД\n",
    "    connection = {\n",
    "        'host': 'https://clickhouse.lab.karpov.courses',\n",
    "        'password': 'dpo_python_2020',\n",
    "        'user': 'student',\n",
    "        'database': 'simulator_20220420'\n",
    "    }\n",
    "    # Запрос к БД\n",
    "    # Получим обобщенную таблицу с пользователями, просмотрами, лайками, CTR и сообщениями за сегодня\n",
    "    q = '''\n",
    "        SELECT * FROM\n",
    "        (SELECT\n",
    "            toStartOfFifteenMinutes(time) as ts, \n",
    "            toDate(time) as day, \n",
    "            formatDateTime(ts, '%R') as hm, \n",
    "            uniqExact(user_id) as users_feed,\n",
    "            countIf(user_id, action='view') as views, \n",
    "            countIf(user_id, action='like') as likes,\n",
    "            100 * countIf(user_id, action='like') / countIf(user_id, action='view') as CTR\n",
    "        FROM \n",
    "            simulator.feed_actions \n",
    "        WHERE \n",
    "            ts >= yesterday() and ts < toStartOfFifteenMinutes(now()) \n",
    "        GROUP BY \n",
    "            ts, day, hm) as f \n",
    "        FULL JOIN\n",
    "        (SELECT\n",
    "            toStartOfFifteenMinutes(time) as ts, \n",
    "            toDate(time) as day, \n",
    "            formatDateTime(ts, '%R') as hm, \n",
    "            uniqExact(user_id) as users_messenger,\n",
    "            COUNT(reciever_id) AS messages\n",
    "        FROM\n",
    "            simulator.message_actions\n",
    "        GROUP BY\n",
    "            ts, day, hm) as m \n",
    "        USING \n",
    "            ts, day, hm\n",
    "        ORDER BY \n",
    "            ts\n",
    "    '''\n",
    "    # Сохраним результат запроса в pandas df\n",
    "    data = pandahouse.read_clickhouse(q, connection=connection)\n",
    "    \n",
    "    # Список метрик, которые будем проверять на аномалии\n",
    "    metrics = ['users_feed', 'views', 'likes', 'CTR', 'users_messenger', 'messages']\n",
    "    # Проверим каждую метрику на наличие аномалий\n",
    "    for metric in metrics:\n",
    "        # print(metric.capitalize())\n",
    "        df = data[['ts', 'day', 'hm', metric]].copy()\n",
    "        is_alert, df, current_val, last_val_diff = check_anomaly(df, metric)\n",
    "        \n",
    "        # Если обнаружили аномалию, отправляем отчет в чат \n",
    "        if is_alert == 1 or True:\n",
    "            # Сообщение об аномалии\n",
    "            message = (f'''Метрика {metric.capitalize()}:\\nтекущее значение: {current_val:.2f} \\nотклонение от предыдущего значения: {last_val_diff:.2%}\\n ссылка на график: https://superset.lab.karpov.courses/superset/dashboard/759/''')\n",
    "\n",
    "            # Зададим параметры графиков\n",
    "            sns.set(rc={\"figure.figsize\":(10, 5)}) \n",
    "            sns.set_palette(\"colorblind\")\n",
    "            plt.tight_layout() # чтобы все подписи к графика были в окошке графика\n",
    "\n",
    "            # Строим график\n",
    "            ax = sns.lineplot(x=df['hm'], y=df[metric], data=df, label='metric') # метрика\n",
    "            ax = sns.lineplot(x=df['hm'], y=df['up'], data=df, label='upper bound') # линия верхней границы\n",
    "            ax = sns.lineplot(x=df['hm'], y=df['low'], data=df, label='lower bound') # линия нижней границы\n",
    "            # plt.xticks(df['hm'][::10]) \n",
    "\n",
    "            # Сделаем подписи по оси Х чуть реже\n",
    "            for ind, label in enumerate(ax.get_xticklabels()): \n",
    "                if ind % 3 == 0:\n",
    "                    label.set_visible(True)\n",
    "                else:\n",
    "                    label.set_visible(False)\n",
    "\n",
    "            ax.set(xlabel='time') # задаем имя оси Х\n",
    "            ax.set(ylabel=metric.capitalize()) # задаем имя оси У\n",
    "            ax.set_title('{}'.format(metric.capitalize())) # задаем заголовок графика\n",
    "            ax.set(ylim=(0, None)) # задаем лимит для оси У\n",
    "\n",
    "            # формируем файловый объект\n",
    "            plot_object = io.BytesIO()\n",
    "            ax.figure.savefig(plot_object)\n",
    "            plot_object.seek(0)\n",
    "            plot_object.name = '{0}.png'.format(metric)\n",
    "            plt.close()\n",
    "\n",
    "            # отправляем алерт\n",
    "            bot.sendMessage(chat_id=chat_id, text=message)\n",
    "            bot.sendPhoto(chat_id=chat_id, photo=plot_object)"
   ]
  },
  {
   "cell_type": "code",
   "execution_count": 6,
   "id": "c37fcb68-6a15-4412-998a-7fdd7bd765e2",
   "metadata": {},
   "outputs": [
    {
     "name": "stdout",
     "output_type": "stream",
     "text": [
      "Users_feed\n"
     ]
    },
    {
     "name": "stderr",
     "output_type": "stream",
     "text": [
      "/tmp/ipykernel_126/628472110.py:32: RuntimeWarning: invalid value encountered in ulong_scalars\n",
      "  last_val_diff = abs(1 - (current_val/df[metric].iloc[-2]))\n"
     ]
    },
    {
     "name": "stdout",
     "output_type": "stream",
     "text": [
      "Views\n"
     ]
    },
    {
     "name": "stderr",
     "output_type": "stream",
     "text": [
      "/tmp/ipykernel_126/628472110.py:32: RuntimeWarning: invalid value encountered in ulong_scalars\n",
      "  last_val_diff = abs(1 - (current_val/df[metric].iloc[-2]))\n"
     ]
    },
    {
     "name": "stdout",
     "output_type": "stream",
     "text": [
      "Likes\n"
     ]
    },
    {
     "name": "stderr",
     "output_type": "stream",
     "text": [
      "/tmp/ipykernel_126/628472110.py:32: RuntimeWarning: invalid value encountered in ulong_scalars\n",
      "  last_val_diff = abs(1 - (current_val/df[metric].iloc[-2]))\n"
     ]
    },
    {
     "name": "stdout",
     "output_type": "stream",
     "text": [
      "Ctr\n"
     ]
    },
    {
     "name": "stderr",
     "output_type": "stream",
     "text": [
      "/tmp/ipykernel_126/628472110.py:32: RuntimeWarning: invalid value encountered in double_scalars\n",
      "  last_val_diff = abs(1 - (current_val/df[metric].iloc[-2]))\n"
     ]
    },
    {
     "name": "stdout",
     "output_type": "stream",
     "text": [
      "Users_messenger\n",
      "Messages\n"
     ]
    }
   ],
   "source": [
    "try:\n",
    "    run_alerts()\n",
    "except Exception as e:\n",
    "    print(e)"
   ]
  },
  {
   "cell_type": "code",
   "execution_count": null,
   "id": "925e6433-7c15-48dd-bdc5-687db07d7655",
   "metadata": {},
   "outputs": [],
   "source": []
  },
  {
   "cell_type": "code",
   "execution_count": null,
   "id": "8e34856b-d7f6-4583-a926-19905c1a45d9",
   "metadata": {},
   "outputs": [],
   "source": []
  },
  {
   "cell_type": "code",
   "execution_count": null,
   "id": "3242d730-74cc-48c0-b074-4542e3dd98d1",
   "metadata": {},
   "outputs": [],
   "source": []
  },
  {
   "cell_type": "code",
   "execution_count": null,
   "id": "bb8eb4ec-760a-438e-b4bf-f72b8fadedca",
   "metadata": {},
   "outputs": [],
   "source": []
  },
  {
   "cell_type": "code",
   "execution_count": 7,
   "id": "20e279c8-8fe9-4641-935f-07bac7074ee5",
   "metadata": {
    "tags": []
   },
   "outputs": [],
   "source": [
    "# # Загружаем датасет\n",
    "# # Подключаемся к БД\n",
    "# connection = {\n",
    "#     'host': 'https://clickhouse.lab.karpov.courses',\n",
    "#     'password': 'dpo_python_2020',\n",
    "#     'user': 'student',\n",
    "#     'database': 'simulator_20220420'\n",
    "# }\n",
    "# # Запрос к БД\n",
    "# # Получим обобщенную таблицу с пользователями, просмотрами, лайками, CTR и сообщениями за сегодня\n",
    "# q = '''\n",
    "#     SELECT * FROM\n",
    "#     (SELECT\n",
    "#         toStartOfFifteenMinutes(time) as ts, \n",
    "#         toDate(time) as day, \n",
    "#         formatDateTime(ts, '%R') as hm, \n",
    "#         uniqExact(user_id) as users_feed,\n",
    "#         countIf(user_id, action='view') as views, \n",
    "#         countIf(user_id, action='like') as likes,\n",
    "#         100 * countIf(user_id, action='like') / countIf(user_id, action='view') as CTR\n",
    "#     FROM \n",
    "#         simulator_20220420.feed_actions \n",
    "#     WHERE \n",
    "#         ts >= yesterday() and ts < toStartOfFifteenMinutes(now()) \n",
    "#     GROUP BY \n",
    "#         ts, day, hm) as f \n",
    "#     FULL JOIN\n",
    "#     (SELECT\n",
    "#         toStartOfFifteenMinutes(time) as ts, \n",
    "#         toDate(time) as day, \n",
    "#         formatDateTime(ts, '%R') as hm, \n",
    "#         uniqExact(user_id) as users_messenger,\n",
    "#         COUNT(reciever_id) AS messages\n",
    "#     FROM\n",
    "#         simulator_20220420.message_actions\n",
    "#     GROUP BY\n",
    "#         ts, day, hm) as m \n",
    "#     USING \n",
    "#         ts, day, hm\n",
    "#     ORDER BY \n",
    "#         ts\n",
    "# '''\n",
    "# # Сохраним результат запроса в pandas df\n",
    "# data = pandahouse.read_clickhouse(q, connection=connection)\n",
    "\n",
    "# # Список метрик, которые будем проверять на аномалии\n",
    "# metrics = ['users_feed', 'views', 'likes', 'CTR', 'users_messenger', 'messages']"
   ]
  },
  {
   "cell_type": "code",
   "execution_count": 8,
   "id": "1eed1b43-06cd-41e4-b369-8b2fc861690b",
   "metadata": {},
   "outputs": [],
   "source": [
    "# metric = 'users_feed'\n",
    "# df = data[['ts', 'day', 'hm', metric]].copy()"
   ]
  },
  {
   "cell_type": "code",
   "execution_count": 9,
   "id": "bac34b30-8229-496f-ad47-1ad12910347a",
   "metadata": {},
   "outputs": [],
   "source": [
    "# # Реализуем метод межквартильного размаха\n",
    "# a = 4\n",
    "# n = 5\n",
    "# # Добавим столбцы с 25-м и 75-м квартилями и IQR\n",
    "# df['q25'] = df[metric].shift(1).rolling(n).quantile(0.25) # сдвигаем на одну 15-минутку назад, чтобы избежать влияния неполной 15-минутки на расчет\n",
    "# df['q75'] = df[metric].shift(1).rolling(n).quantile(0.75)\n",
    "# df['iqr'] = df['q75'] - df['q25']\n",
    "# # Добавим столбцы со значениями верхней и нижней границ\n",
    "# df['up'] = df['q75'] + a*df['iqr']\n",
    "# df['low'] = df['q25'] - a*df['iqr']\n",
    "# # Сгладим значения верхней и нижней границ\n",
    "# df['up'] = df['up'].rolling(n, center=True, min_periods=1).mean()\n",
    "# df['low'] = df['low'].rolling(n, center=True, min_periods=1).mean()\n",
    "# # Проверяемое значение метрики (в последней 15-минутке)\n",
    "# current_val = df[metric].iloc[-1]\n",
    "# # Отклонение от предыдщего значения (предыдущей 15-минутки)\n",
    "# last_val_diff = abs(1 - (current_val/df[metric].iloc[-2]))\n",
    "# # Проверяем на отклонение\n",
    "# if current_val < df['low'].iloc[-1] or current_val > df['up'].iloc[-1]:\n",
    "#     is_alert = 1\n",
    "# else:\n",
    "#     is_alert = 0"
   ]
  },
  {
   "cell_type": "code",
   "execution_count": 10,
   "id": "069d89fd-b32f-46c7-8002-bbc1f19ab05f",
   "metadata": {},
   "outputs": [],
   "source": [
    "# # Реализуем метод межквартильного размаха\n",
    "# a = 4\n",
    "# n = 5\n",
    "# # Добавим столбцы с 25-м и 75-м квартилями и IQR\n",
    "# df['q25'] = df[metric].shift(1).rolling(n).quantile(0.25)\n",
    "# df['q75'] = df[metric].shift(1).rolling(n).quantile(0.75)\n",
    "# df['iqr'] = df['q75'] - df['q25']\n",
    "# # Добавим столбцы со значениями верхней и нижней границ\n",
    "# df['up'] = df['q75'] + a*df['iqr']\n",
    "# df['low'] = df['q25'] - a*df['iqr']\n",
    "# # Сгладим значения верхней и нижней границ\n",
    "# df['up'] = df['up'].rolling(n, center=True, min_periods=1).mean()\n",
    "# df['low'] = df['low'].rolling(n, center=True, min_periods=1).mean()\n",
    "# # Проверяемое значение метрики (в последней или предпоследней 15-минутке, чтобы не рассматривать 0)\n",
    "# if df[metric].iloc[-1] == 0:\n",
    "#     current_val = df[metric].iloc[-2]\n",
    "# else:\n",
    "#     current_val = df[metric].iloc[-1]\n",
    "# # print(current_val)\n",
    "# # Отклонение от предыдщего значения (предыдущей 15-минутки)\n",
    "# if df[metric].iloc[-1] == 0:\n",
    "#     last_val_diff = abs(1 - (current_val/df[metric].iloc[-3]))\n",
    "# else:\n",
    "#     last_val_diff = abs(1 - (current_val/df[metric].iloc[-2]))\n",
    "# # print(last_val_diff)\n",
    "# # Проверяем на отклонение\n",
    "# if current_val < df['low'].iloc[-1] or current_val > df['up'].iloc[-1]:\n",
    "#     is_alert = 1\n",
    "# else:\n",
    "#     is_alert = 0"
   ]
  },
  {
   "cell_type": "code",
   "execution_count": 11,
   "id": "fbe1b832-532e-4fff-8369-50ac743b2f1a",
   "metadata": {},
   "outputs": [],
   "source": [
    "# df"
   ]
  },
  {
   "cell_type": "code",
   "execution_count": null,
   "id": "93c6f682-2e8c-436b-a778-8f67b0e9f4f6",
   "metadata": {},
   "outputs": [],
   "source": []
  },
  {
   "cell_type": "code",
   "execution_count": null,
   "id": "7ce12d6f-0afd-4ce0-b373-fd04f0137546",
   "metadata": {},
   "outputs": [],
   "source": []
  }
 ],
 "metadata": {
  "kernelspec": {
   "display_name": "Python 3 (ipykernel)",
   "language": "python",
   "name": "python3"
  },
  "language_info": {
   "codemirror_mode": {
    "name": "ipython",
    "version": 3
   },
   "file_extension": ".py",
   "mimetype": "text/x-python",
   "name": "python",
   "nbconvert_exporter": "python",
   "pygments_lexer": "ipython3",
   "version": "3.9.12"
  }
 },
 "nbformat": 4,
 "nbformat_minor": 5
}
