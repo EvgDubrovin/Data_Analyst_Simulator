{
 "cells": [
  {
   "cell_type": "code",
   "execution_count": 1,
   "id": "d475c96e-6fa3-49c5-8fd1-11638fa892c7",
   "metadata": {},
   "outputs": [],
   "source": [
    "# Импортируем необходимые библиотеки\n",
    "\n",
    "import telegram # библиотека для работы с Telegram\n",
    "import numpy as np\n",
    "import matplotlib.pyplot as plt\n",
    "import seaborn as sns\n",
    "import io # библиотека для управления потоками ввода/вывода данных (чтобы  пересылать графики из буфера обмена и не сохранять их лишний раз)\n",
    "import logging\n",
    "import pandas as pd\n",
    "import pandahouse\n",
    "# from read_db.CH import Getch # импортируем коннектор, чтобы подключиться к базе из Jupyter'а. (НЕ РАБОТАЕТ! говорит, нет read_db)\n",
    "import os"
   ]
  },
  {
   "cell_type": "code",
   "execution_count": 3,
   "id": "06b8e85d-293a-4993-b0b0-6c0a4eb2bb58",
   "metadata": {},
   "outputs": [],
   "source": [
    "# Создаем бота с помощью нашего токена\n",
    "bot = telegram.Bot(token='5227151149:AAGkhDIQK5PZo1i88XKZ22INjOnBXq_06Z4')"
   ]
  },
  {
   "cell_type": "markdown",
   "id": "0489cafa-9f16-42be-ab14-b413800d8ee3",
   "metadata": {},
   "source": [
    "Чтобы бот смог отправлять нам сообщения, нужно самим написать (или просто запустить) что-то боту из своего аккаунта в Телеграме. Сделали это."
   ]
  },
  {
   "cell_type": "code",
   "execution_count": 4,
   "id": "60ad3128-543f-4029-b3ee-04f8417c7168",
   "metadata": {},
   "outputs": [
    {
     "name": "stdout",
     "output_type": "stream",
     "text": [
      "{'my_chat_member': {'date': 1652003913, 'old_chat_member': {'user': {'username': 'evg_kc_report_bot', 'first_name': 'KC report bot (evg.)', 'id': 5227151149, 'is_bot': True}, 'status': 'left', 'until_date': None}, 'new_chat_member': {'user': {'username': 'evg_kc_report_bot', 'first_name': 'KC report bot (evg.)', 'id': 5227151149, 'is_bot': True}, 'status': 'member', 'until_date': None}, 'chat': {'all_members_are_administrators': False, 'title': '20.04.22 karpov.courses Симулятор аналитика | АЛЕРТЫ', 'type': 'group', 'id': -691600284}, 'from': {'username': 'evg_dbrvn', 'first_name': 'Evg.', 'language_code': 'ru', 'id': 244991955, 'is_bot': False}}, 'update_id': 19389167}\n"
     ]
    }
   ],
   "source": [
    "# Посмотрим последние обновления в боте, чтобы увидеть id, куда бот будет отправлять сообщения\n",
    "updates = bot.getUpdates()\n",
    "\n",
    "print(updates[-1])"
   ]
  },
  {
   "cell_type": "code",
   "execution_count": 3,
   "id": "fa5ef1de-8d88-4ec0-b353-c895c7d9299c",
   "metadata": {},
   "outputs": [],
   "source": [
    "# Сохраним id, куда бот будет отправлять отчеты (наш id)\n",
    "chat_id = 244991955\n",
    "# id чата '20.04.22 karpov.courses Симулятор аналитика | ОТЧЕТЫ'\n",
    "# chat_id = -799682816"
   ]
  },
  {
   "cell_type": "code",
   "execution_count": 4,
   "id": "96388fa4-218b-44d9-b6cf-e4e32c4045d8",
   "metadata": {},
   "outputs": [
    {
     "data": {
      "text/plain": [
       "<telegram.message.Message at 0x7f13e84fca40>"
      ]
     },
     "execution_count": 4,
     "metadata": {},
     "output_type": "execute_result"
    }
   ],
   "source": [
    "# Отправим сообщение от бота по указанному id\n",
    "msg = 'Hi!'\n",
    "\n",
    "bot.sendMessage(chat_id=chat_id, text=msg)"
   ]
  },
  {
   "cell_type": "markdown",
   "id": "39868f9a-9af9-41c6-82c5-921b47001b23",
   "metadata": {},
   "source": [
    "### Отправим график с помощью бота"
   ]
  },
  {
   "cell_type": "code",
   "execution_count": null,
   "id": "0c8877d5-1933-4512-b028-d32dd1caa1bc",
   "metadata": {},
   "outputs": [],
   "source": [
    "# Зададим параметры тестового графика\n",
    "x = np.arange(1, 10, 1)\n",
    "y = np.random.choice(10, len(x))"
   ]
  },
  {
   "cell_type": "code",
   "execution_count": null,
   "id": "e175f2eb-814a-42c6-8196-b1f4f542a1ca",
   "metadata": {},
   "outputs": [],
   "source": [
    "# Пересылаем график с помощью пакета io\n",
    "sns.lineplot(x, y)\n",
    "plt.title('test plot')\n",
    "\n",
    "plot_object = io.BytesIO() # создаем файловый объект - картинку\n",
    "plt.savefig(plot_object) # сохраняем в него наш график\n",
    "plot_object.name = 'test_plot.png' # задаем имя нашего файлового объекта\n",
    "plot_object.seek(0) # переносим курсор из конца файлового объекта в начало, чтобы прочитать весь файл (чтобы избежать отправки боту пустого файла)\n",
    "\n",
    "plt.close()\n",
    "\n",
    "# Отправляем изображение\n",
    "bot.sendPhoto(chat_id=chat_id, photo=plot_object)"
   ]
  },
  {
   "cell_type": "markdown",
   "id": "4ad85ea9-d056-4217-88ce-307935e03756",
   "metadata": {},
   "source": [
    "### Отправим файл с помощью бота"
   ]
  },
  {
   "cell_type": "code",
   "execution_count": 5,
   "id": "8be71a94-8d3d-422c-86dd-33ff87861f7b",
   "metadata": {},
   "outputs": [],
   "source": [
    "# Подключаемся к БД\n",
    "connection = {\n",
    "    'host': 'https://clickhouse.lab.karpov.courses',\n",
    "    'password': 'dpo_python_2020',\n",
    "    'user': 'student',\n",
    "    'database': 'simulator_20220420'\n",
    "}"
   ]
  },
  {
   "cell_type": "code",
   "execution_count": 9,
   "id": "34b77471-df61-4d71-a5ae-5856fd91563c",
   "metadata": {},
   "outputs": [],
   "source": [
    "# Запрос\n",
    "# Все данные за вчера\n",
    "q = '''SELECT *\n",
    "       FROM {db}.feed_actions \n",
    "       WHERE toDate(time) = yesterday()\n",
    "       ORDER BY time DESC\n",
    "       LIMIT 100'''"
   ]
  },
  {
   "cell_type": "code",
   "execution_count": 10,
   "id": "87109d8a-334a-46d3-a1d7-b7dc93808f9f",
   "metadata": {},
   "outputs": [
    {
     "data": {
      "text/html": [
       "<div>\n",
       "<style scoped>\n",
       "    .dataframe tbody tr th:only-of-type {\n",
       "        vertical-align: middle;\n",
       "    }\n",
       "\n",
       "    .dataframe tbody tr th {\n",
       "        vertical-align: top;\n",
       "    }\n",
       "\n",
       "    .dataframe thead th {\n",
       "        text-align: right;\n",
       "    }\n",
       "</style>\n",
       "<table border=\"1\" class=\"dataframe\">\n",
       "  <thead>\n",
       "    <tr style=\"text-align: right;\">\n",
       "      <th></th>\n",
       "      <th>user_id</th>\n",
       "      <th>post_id</th>\n",
       "      <th>action</th>\n",
       "      <th>time</th>\n",
       "      <th>gender</th>\n",
       "      <th>age</th>\n",
       "      <th>country</th>\n",
       "      <th>city</th>\n",
       "      <th>os</th>\n",
       "      <th>source</th>\n",
       "      <th>exp_group</th>\n",
       "    </tr>\n",
       "  </thead>\n",
       "  <tbody>\n",
       "    <tr>\n",
       "      <th>0</th>\n",
       "      <td>143977</td>\n",
       "      <td>3598</td>\n",
       "      <td>view</td>\n",
       "      <td>2022-04-25 23:59:59</td>\n",
       "      <td>1</td>\n",
       "      <td>22</td>\n",
       "      <td>Russia</td>\n",
       "      <td>Mytishchi</td>\n",
       "      <td>Android</td>\n",
       "      <td>organic</td>\n",
       "      <td>1</td>\n",
       "    </tr>\n",
       "    <tr>\n",
       "      <th>1</th>\n",
       "      <td>154475</td>\n",
       "      <td>3567</td>\n",
       "      <td>view</td>\n",
       "      <td>2022-04-25 23:59:59</td>\n",
       "      <td>0</td>\n",
       "      <td>27</td>\n",
       "      <td>Russia</td>\n",
       "      <td>Alkhan-Kala</td>\n",
       "      <td>Android</td>\n",
       "      <td>organic</td>\n",
       "      <td>2</td>\n",
       "    </tr>\n",
       "    <tr>\n",
       "      <th>2</th>\n",
       "      <td>151363</td>\n",
       "      <td>3645</td>\n",
       "      <td>view</td>\n",
       "      <td>2022-04-25 23:59:58</td>\n",
       "      <td>0</td>\n",
       "      <td>29</td>\n",
       "      <td>Russia</td>\n",
       "      <td>Voronezh</td>\n",
       "      <td>Android</td>\n",
       "      <td>organic</td>\n",
       "      <td>3</td>\n",
       "    </tr>\n",
       "    <tr>\n",
       "      <th>3</th>\n",
       "      <td>145964</td>\n",
       "      <td>3628</td>\n",
       "      <td>view</td>\n",
       "      <td>2022-04-25 23:59:58</td>\n",
       "      <td>1</td>\n",
       "      <td>17</td>\n",
       "      <td>Russia</td>\n",
       "      <td>Kamyshin</td>\n",
       "      <td>Android</td>\n",
       "      <td>organic</td>\n",
       "      <td>1</td>\n",
       "    </tr>\n",
       "    <tr>\n",
       "      <th>4</th>\n",
       "      <td>145964</td>\n",
       "      <td>3591</td>\n",
       "      <td>view</td>\n",
       "      <td>2022-04-25 23:59:58</td>\n",
       "      <td>1</td>\n",
       "      <td>17</td>\n",
       "      <td>Russia</td>\n",
       "      <td>Kamyshin</td>\n",
       "      <td>Android</td>\n",
       "      <td>organic</td>\n",
       "      <td>1</td>\n",
       "    </tr>\n",
       "    <tr>\n",
       "      <th>...</th>\n",
       "      <td>...</td>\n",
       "      <td>...</td>\n",
       "      <td>...</td>\n",
       "      <td>...</td>\n",
       "      <td>...</td>\n",
       "      <td>...</td>\n",
       "      <td>...</td>\n",
       "      <td>...</td>\n",
       "      <td>...</td>\n",
       "      <td>...</td>\n",
       "      <td>...</td>\n",
       "    </tr>\n",
       "    <tr>\n",
       "      <th>95</th>\n",
       "      <td>154711</td>\n",
       "      <td>3585</td>\n",
       "      <td>view</td>\n",
       "      <td>2022-04-25 23:59:45</td>\n",
       "      <td>1</td>\n",
       "      <td>43</td>\n",
       "      <td>Russia</td>\n",
       "      <td>Petropavlovka</td>\n",
       "      <td>Android</td>\n",
       "      <td>organic</td>\n",
       "      <td>2</td>\n",
       "    </tr>\n",
       "    <tr>\n",
       "      <th>96</th>\n",
       "      <td>129004</td>\n",
       "      <td>3625</td>\n",
       "      <td>like</td>\n",
       "      <td>2022-04-25 23:59:45</td>\n",
       "      <td>1</td>\n",
       "      <td>28</td>\n",
       "      <td>Russia</td>\n",
       "      <td>Elista</td>\n",
       "      <td>iOS</td>\n",
       "      <td>organic</td>\n",
       "      <td>3</td>\n",
       "    </tr>\n",
       "    <tr>\n",
       "      <th>97</th>\n",
       "      <td>8164</td>\n",
       "      <td>3547</td>\n",
       "      <td>view</td>\n",
       "      <td>2022-04-25 23:59:45</td>\n",
       "      <td>0</td>\n",
       "      <td>22</td>\n",
       "      <td>Russia</td>\n",
       "      <td>Moscow</td>\n",
       "      <td>Android</td>\n",
       "      <td>ads</td>\n",
       "      <td>3</td>\n",
       "    </tr>\n",
       "    <tr>\n",
       "      <th>98</th>\n",
       "      <td>144161</td>\n",
       "      <td>3462</td>\n",
       "      <td>like</td>\n",
       "      <td>2022-04-25 23:59:44</td>\n",
       "      <td>1</td>\n",
       "      <td>40</td>\n",
       "      <td>Russia</td>\n",
       "      <td>Shchigry</td>\n",
       "      <td>iOS</td>\n",
       "      <td>organic</td>\n",
       "      <td>0</td>\n",
       "    </tr>\n",
       "    <tr>\n",
       "      <th>99</th>\n",
       "      <td>129599</td>\n",
       "      <td>3656</td>\n",
       "      <td>view</td>\n",
       "      <td>2022-04-25 23:59:44</td>\n",
       "      <td>0</td>\n",
       "      <td>14</td>\n",
       "      <td>Russia</td>\n",
       "      <td>Samara</td>\n",
       "      <td>Android</td>\n",
       "      <td>organic</td>\n",
       "      <td>4</td>\n",
       "    </tr>\n",
       "  </tbody>\n",
       "</table>\n",
       "<p>100 rows × 11 columns</p>\n",
       "</div>"
      ],
      "text/plain": [
       "    user_id  post_id action                time  gender  age country  \\\n",
       "0    143977     3598   view 2022-04-25 23:59:59       1   22  Russia   \n",
       "1    154475     3567   view 2022-04-25 23:59:59       0   27  Russia   \n",
       "2    151363     3645   view 2022-04-25 23:59:58       0   29  Russia   \n",
       "3    145964     3628   view 2022-04-25 23:59:58       1   17  Russia   \n",
       "4    145964     3591   view 2022-04-25 23:59:58       1   17  Russia   \n",
       "..      ...      ...    ...                 ...     ...  ...     ...   \n",
       "95   154711     3585   view 2022-04-25 23:59:45       1   43  Russia   \n",
       "96   129004     3625   like 2022-04-25 23:59:45       1   28  Russia   \n",
       "97     8164     3547   view 2022-04-25 23:59:45       0   22  Russia   \n",
       "98   144161     3462   like 2022-04-25 23:59:44       1   40  Russia   \n",
       "99   129599     3656   view 2022-04-25 23:59:44       0   14  Russia   \n",
       "\n",
       "             city       os   source  exp_group  \n",
       "0       Mytishchi  Android  organic          1  \n",
       "1     Alkhan-Kala  Android  organic          2  \n",
       "2        Voronezh  Android  organic          3  \n",
       "3        Kamyshin  Android  organic          1  \n",
       "4        Kamyshin  Android  organic          1  \n",
       "..            ...      ...      ...        ...  \n",
       "95  Petropavlovka  Android  organic          2  \n",
       "96         Elista      iOS  organic          3  \n",
       "97         Moscow  Android      ads          3  \n",
       "98       Shchigry      iOS  organic          0  \n",
       "99         Samara  Android  organic          4  \n",
       "\n",
       "[100 rows x 11 columns]"
      ]
     },
     "execution_count": 10,
     "metadata": {},
     "output_type": "execute_result"
    }
   ],
   "source": [
    "# Сохраним результат запроса в pandas df\n",
    "test_df = pandahouse.read_clickhouse(q, connection=connection)\n",
    "test_df"
   ]
  },
  {
   "cell_type": "code",
   "execution_count": 11,
   "id": "f2a3f540-a206-4030-ada0-68eff797995c",
   "metadata": {},
   "outputs": [
    {
     "data": {
      "text/plain": [
       "<telegram.message.Message at 0x7f13e842e440>"
      ]
     },
     "execution_count": 11,
     "metadata": {},
     "output_type": "execute_result"
    }
   ],
   "source": [
    "file_object = io.StringIO() # создаем файловый объект - текст\n",
    "test_df.to_csv(file_object) # переводим в csv-формат\n",
    "file_object.seek(0) # переносим курсор из конца файлового объекта в начало\n",
    "file_object.name = 'test_doc.csv' # задаем имя нашего файлового объекта\n",
    "\n",
    "# Отправляем файл\n",
    "bot.sendDocument(chat_id=chat_id, document=file_object)"
   ]
  },
  {
   "cell_type": "markdown",
   "id": "55ed5cef-3abd-493e-90bd-85978aa98886",
   "metadata": {},
   "source": [
    "Fin."
   ]
  }
 ],
 "metadata": {
  "kernelspec": {
   "display_name": "Python 3 (ipykernel)",
   "language": "python",
   "name": "python3"
  },
  "language_info": {
   "codemirror_mode": {
    "name": "ipython",
    "version": 3
   },
   "file_extension": ".py",
   "mimetype": "text/x-python",
   "name": "python",
   "nbconvert_exporter": "python",
   "pygments_lexer": "ipython3",
   "version": "3.8.10"
  }
 },
 "nbformat": 4,
 "nbformat_minor": 5
}
