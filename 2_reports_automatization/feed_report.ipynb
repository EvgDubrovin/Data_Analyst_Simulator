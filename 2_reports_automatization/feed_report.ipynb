{
 "cells": [
  {
   "cell_type": "markdown",
   "id": "f606e4b5-9c23-4e2f-81ea-77b520920485",
   "metadata": {},
   "source": [
    "# Отчет по ленте новостей"
   ]
  },
  {
   "cell_type": "markdown",
   "id": "7091b3cc-96d1-4460-b7be-4d86f0f71564",
   "metadata": {},
   "source": [
    "Напишите скрипт для сборки отчета по ленте новостей. Отчет должен состоять из двух частей:\n",
    "\n",
    "* текст с информацией о значениях ключевых метрик за предыдущий день\n",
    "* график с значениями метрик за предыдущие 7 дней\n",
    "\n",
    "Отобразите в отчете следующие ключевые метрики: \n",
    "* DAU \n",
    "* Просмотры\n",
    "* Лайки\n",
    "* CTR"
   ]
  },
  {
   "cell_type": "markdown",
   "id": "e38be32d-936a-4737-9ea9-25b8e7d470c5",
   "metadata": {},
   "source": [
    "Создайте свой репозиторий в GitLab для автоматизации отчетности, сохраните в него код сборки отчета. Автоматизируйте отправку отчета с помощью GitLab CI/CD.\n",
    "\n",
    "Используйте следующий докер образ:\n",
    "\n",
    "**image:** *cr.yandex/crp742p3qacifd2hcon2/practice-da:latest*\n",
    "\n",
    "Отчет должен приходить ежедневно в 11:00 в чат. "
   ]
  },
  {
   "cell_type": "code",
   "execution_count": null,
   "id": "09d3e42a-975a-451a-a71c-0da807888f3e",
   "metadata": {},
   "outputs": [],
   "source": [
    "# Импортируем необходимые библиотеки\n",
    "\n",
    "import telegram # библиотека для работы с Telegram\n",
    "import numpy as np\n",
    "import matplotlib.pyplot as plt\n",
    "import seaborn as sns\n",
    "import io # библиотека для управления потоками ввода/вывода данных (чтобы  пересылать графики из буфера обмена и не сохранять их лишний раз)\n",
    "import logging\n",
    "import pandas as pd\n",
    "import pandahouse\n",
    "import os"
   ]
  },
  {
   "cell_type": "code",
   "execution_count": 3,
   "id": "8ecc2740-8f32-41da-8223-fdb981f6f441",
   "metadata": {},
   "outputs": [],
   "source": [
    "# Создаем бота с помощью нашего токена\n",
    "# (Токен получили в \"BotFather\" в Телеграме)\n",
    "# bot_token = os.environ.get(\"tg_bot_token\")\n",
    "# bot = telegram.Bot(token=os.environ.get(\"tg_bot_token\"))\n",
    "\n",
    "bot = telegram.Bot(token='*********************************************')"
   ]
  },
  {
   "cell_type": "code",
   "execution_count": 76,
   "id": "6382facc-6648-409e-8765-4d8e59990540",
   "metadata": {},
   "outputs": [],
   "source": [
    "# Сохраним id, куда бот будет отправлять отчеты (наш id)\n",
    "chat_id = *********"
   ]
  },
  {
   "cell_type": "code",
   "execution_count": null,
   "id": "3b0c17d2-98ef-471f-afc9-339289b641ae",
   "metadata": {},
   "outputs": [],
   "source": [
    "# Приветствие\n",
    "initial_message = \"Доброе утро!\\nОтчет по Ленте Новостей\"\n",
    "bot.sendMessage(chat_id=chat_id, text=initial_message)"
   ]
  },
  {
   "cell_type": "code",
   "execution_count": 4,
   "id": "9c0043d3-0a64-43ad-a9f5-10441c9e6d87",
   "metadata": {},
   "outputs": [],
   "source": [
    "# Подключаемся к БД\n",
    "connection = {\n",
    "    'host': 'https://clickhouse.lab.karpov.courses',\n",
    "    'password': 'dpo_python_2020',\n",
    "    'user': 'student',\n",
    "    'database': 'simulator_20220420'\n",
    "}"
   ]
  },
  {
   "cell_type": "code",
   "execution_count": 7,
   "id": "8a87c0a5-6a6d-432c-9897-3042c8653de6",
   "metadata": {},
   "outputs": [],
   "source": [
    "# Запрос к базе данных\n",
    "# Выберем DAU, views, likes и CTR за предыдущие 7 дней\n",
    "q = '''\n",
    "SELECT \n",
    "    toDate(time) as day,\n",
    "    COUNT(DISTINCT user_id) as DAU, \n",
    "    countIf(user_id, action='view') as views, \n",
    "    countIf(user_id, action='like') as likes, \n",
    "    (countIf(user_id, action='like') / countIf(user_id, action='view'))*100 as CTR\n",
    "FROM\n",
    "    simulator_20220420.feed_actions\n",
    "WHERE\n",
    "    toDate(time) BETWEEN (today() - 7) AND yesterday()\n",
    "GROUP BY\n",
    "    day\n",
    "ORDER BY \n",
    "    day\n",
    "    '''"
   ]
  },
  {
   "cell_type": "code",
   "execution_count": 8,
   "id": "428466ad-97ce-4559-be00-02e1b31a5ec3",
   "metadata": {},
   "outputs": [
    {
     "data": {
      "text/html": [
       "<div>\n",
       "<style scoped>\n",
       "    .dataframe tbody tr th:only-of-type {\n",
       "        vertical-align: middle;\n",
       "    }\n",
       "\n",
       "    .dataframe tbody tr th {\n",
       "        vertical-align: top;\n",
       "    }\n",
       "\n",
       "    .dataframe thead th {\n",
       "        text-align: right;\n",
       "    }\n",
       "</style>\n",
       "<table border=\"1\" class=\"dataframe\">\n",
       "  <thead>\n",
       "    <tr style=\"text-align: right;\">\n",
       "      <th></th>\n",
       "      <th>day</th>\n",
       "      <th>DAU</th>\n",
       "      <th>views</th>\n",
       "      <th>likes</th>\n",
       "      <th>CTR</th>\n",
       "    </tr>\n",
       "  </thead>\n",
       "  <tbody>\n",
       "    <tr>\n",
       "      <th>0</th>\n",
       "      <td>2022-04-20</td>\n",
       "      <td>16781</td>\n",
       "      <td>522143</td>\n",
       "      <td>117204</td>\n",
       "      <td>22.446724</td>\n",
       "    </tr>\n",
       "    <tr>\n",
       "      <th>1</th>\n",
       "      <td>2022-04-21</td>\n",
       "      <td>16968</td>\n",
       "      <td>524892</td>\n",
       "      <td>115725</td>\n",
       "      <td>22.047393</td>\n",
       "    </tr>\n",
       "    <tr>\n",
       "      <th>2</th>\n",
       "      <td>2022-04-22</td>\n",
       "      <td>17671</td>\n",
       "      <td>619660</td>\n",
       "      <td>133540</td>\n",
       "      <td>21.550528</td>\n",
       "    </tr>\n",
       "    <tr>\n",
       "      <th>3</th>\n",
       "      <td>2022-04-23</td>\n",
       "      <td>17960</td>\n",
       "      <td>652026</td>\n",
       "      <td>137059</td>\n",
       "      <td>21.020481</td>\n",
       "    </tr>\n",
       "    <tr>\n",
       "      <th>4</th>\n",
       "      <td>2022-04-24</td>\n",
       "      <td>17369</td>\n",
       "      <td>572519</td>\n",
       "      <td>116134</td>\n",
       "      <td>20.284742</td>\n",
       "    </tr>\n",
       "    <tr>\n",
       "      <th>5</th>\n",
       "      <td>2022-04-25</td>\n",
       "      <td>17132</td>\n",
       "      <td>632043</td>\n",
       "      <td>134584</td>\n",
       "      <td>21.293488</td>\n",
       "    </tr>\n",
       "    <tr>\n",
       "      <th>6</th>\n",
       "      <td>2022-04-26</td>\n",
       "      <td>14073</td>\n",
       "      <td>461120</td>\n",
       "      <td>97982</td>\n",
       "      <td>21.248699</td>\n",
       "    </tr>\n",
       "  </tbody>\n",
       "</table>\n",
       "</div>"
      ],
      "text/plain": [
       "         day    DAU   views   likes        CTR\n",
       "0 2022-04-20  16781  522143  117204  22.446724\n",
       "1 2022-04-21  16968  524892  115725  22.047393\n",
       "2 2022-04-22  17671  619660  133540  21.550528\n",
       "3 2022-04-23  17960  652026  137059  21.020481\n",
       "4 2022-04-24  17369  572519  116134  20.284742\n",
       "5 2022-04-25  17132  632043  134584  21.293488\n",
       "6 2022-04-26  14073  461120   97982  21.248699"
      ]
     },
     "execution_count": 8,
     "metadata": {},
     "output_type": "execute_result"
    }
   ],
   "source": [
    "# Сохраним результат запроса в pandas df\n",
    "df = pandahouse.read_clickhouse(q, connection=connection)\n",
    "# df"
   ]
  },
  {
   "cell_type": "code",
   "execution_count": 25,
   "id": "5950ee80-47ba-4e19-990c-328034f46ccc",
   "metadata": {},
   "outputs": [
    {
     "name": "stdout",
     "output_type": "stream",
     "text": [
      "<class 'pandas.core.frame.DataFrame'>\n",
      "RangeIndex: 7 entries, 0 to 6\n",
      "Data columns (total 5 columns):\n",
      " #   Column  Non-Null Count  Dtype         \n",
      "---  ------  --------------  -----         \n",
      " 0   day     7 non-null      datetime64[ns]\n",
      " 1   DAU     7 non-null      uint64        \n",
      " 2   views   7 non-null      uint64        \n",
      " 3   likes   7 non-null      uint64        \n",
      " 4   CTR     7 non-null      float64       \n",
      "dtypes: datetime64[ns](1), float64(1), uint64(3)\n",
      "memory usage: 408.0 bytes\n"
     ]
    }
   ],
   "source": [
    "df.info()"
   ]
  },
  {
   "cell_type": "markdown",
   "id": "b6b1283c-8240-4abc-aa4a-b37e76e93fa1",
   "metadata": {
    "tags": []
   },
   "source": [
    "## Ключевые метрики за вчерашний день - текст"
   ]
  },
  {
   "cell_type": "code",
   "execution_count": 39,
   "id": "ae3b4b87-4dc6-4f01-a3d5-be543e2951b5",
   "metadata": {},
   "outputs": [
    {
     "data": {
      "text/plain": [
       "14073"
      ]
     },
     "execution_count": 39,
     "metadata": {},
     "output_type": "execute_result"
    }
   ],
   "source": [
    "# DAU\n",
    "DAU = df[df['day'] == df['day'].max()]['DAU'].item()\n",
    "DAU"
   ]
  },
  {
   "cell_type": "code",
   "execution_count": 40,
   "id": "19da03ee-f4d7-4981-9657-88109b87c545",
   "metadata": {},
   "outputs": [
    {
     "data": {
      "text/plain": [
       "461120"
      ]
     },
     "execution_count": 40,
     "metadata": {},
     "output_type": "execute_result"
    }
   ],
   "source": [
    "# views\n",
    "views = df[df['day'] == df['day'].max()]['views'].item()\n",
    "views"
   ]
  },
  {
   "cell_type": "code",
   "execution_count": 41,
   "id": "2e2eaec8-fa5a-4b25-920c-a7ba97c9799a",
   "metadata": {},
   "outputs": [
    {
     "data": {
      "text/plain": [
       "97982"
      ]
     },
     "execution_count": 41,
     "metadata": {},
     "output_type": "execute_result"
    }
   ],
   "source": [
    "# likes\n",
    "likes = df[df['day'] == df['day'].max()]['likes'].item()\n",
    "likes"
   ]
  },
  {
   "cell_type": "code",
   "execution_count": 42,
   "id": "114031f4-fdba-4c9a-8262-70bc0ebcf598",
   "metadata": {},
   "outputs": [
    {
     "data": {
      "text/plain": [
       "21.248698820263705"
      ]
     },
     "execution_count": 42,
     "metadata": {},
     "output_type": "execute_result"
    }
   ],
   "source": [
    "# CTR\n",
    "CTR = df[df['day'] == df['day'].max()]['CTR'].item()\n",
    "CTR"
   ]
  },
  {
   "cell_type": "code",
   "execution_count": 59,
   "id": "72bc6b13-2784-4958-86d4-a603baada461",
   "metadata": {},
   "outputs": [
    {
     "data": {
      "text/plain": [
       "'26.04.2022'"
      ]
     },
     "execution_count": 59,
     "metadata": {},
     "output_type": "execute_result"
    }
   ],
   "source": [
    "yesterday = df['day'].max().strftime(\"%d.%m.%Y\")\n",
    "yesterday"
   ]
  },
  {
   "cell_type": "code",
   "execution_count": 74,
   "id": "da19e7f4-9758-4954-bad7-41a8cc22133c",
   "metadata": {},
   "outputs": [],
   "source": [
    "# Текст с информацией о значениях ключевых метрик за предыдущий день\n",
    "message = \"Ключевые Метрики по Ленте Новостей за {}: \\nDAU - {:,} \\nПросмотры - {:,} \\nЛайки - {:,} \\nCTR - {}%\".format(\n",
    "                                            yesterday,       DAU,              views,         likes,  round(CTR, 2)).replace(',', ' ')"
   ]
  },
  {
   "cell_type": "code",
   "execution_count": 75,
   "id": "923b4f86-00a5-4899-965f-e65780f7736b",
   "metadata": {},
   "outputs": [
    {
     "name": "stdout",
     "output_type": "stream",
     "text": [
      "Ключевые Метрики по Ленте Новостей за 26.04.2022: \n",
      "DAU - 14 073 \n",
      "Просмотры - 461 120 \n",
      "Лайки - 97 982 \n",
      "CTR - 21.25%\n"
     ]
    }
   ],
   "source": [
    "# print(message)"
   ]
  },
  {
   "cell_type": "code",
   "execution_count": 95,
   "id": "bbe2c9fc-1af5-483c-b13c-7f29d8def248",
   "metadata": {},
   "outputs": [
    {
     "data": {
      "text/plain": [
       "<telegram.message.Message at 0x7fc198680040>"
      ]
     },
     "execution_count": 95,
     "metadata": {},
     "output_type": "execute_result"
    }
   ],
   "source": [
    "# Отправим сообщение от бота по необходимому id\n",
    "bot.sendMessage(chat_id=chat_id, text=message)"
   ]
  },
  {
   "cell_type": "markdown",
   "id": "b2ef7ec6-4da0-4b14-b2ef-c55561599526",
   "metadata": {},
   "source": [
    "## График со значениями метрик за предыдущие 7 дней"
   ]
  },
  {
   "cell_type": "code",
   "execution_count": 78,
   "id": "9af7adfc-27c1-4849-bf8a-f8da7ff1acf7",
   "metadata": {},
   "outputs": [],
   "source": [
    "sns.set()"
   ]
  },
  {
   "cell_type": "code",
   "execution_count": 86,
   "id": "0c6780aa-62ce-4579-92e6-0dec5889c4d9",
   "metadata": {},
   "outputs": [],
   "source": [
    "df['date_month'] = df['day'].dt.strftime('%d-%m')"
   ]
  },
  {
   "cell_type": "code",
   "execution_count": 144,
   "id": "91cee9dc-d48d-48f9-bdb9-b5008cfb6be3",
   "metadata": {},
   "outputs": [],
   "source": [
    "# Зададим размеры графика\n",
    "sns.set(rc={\"figure.figsize\":(8, 4)}) "
   ]
  },
  {
   "cell_type": "code",
   "execution_count": 145,
   "id": "2f0d890e-89b6-404e-99e5-a37d1599f736",
   "metadata": {},
   "outputs": [
    {
     "data": {
      "text/plain": [
       "<telegram.message.Message at 0x7fc191fdaa40>"
      ]
     },
     "execution_count": 145,
     "metadata": {},
     "output_type": "execute_result"
    }
   ],
   "source": [
    "# Отправляем график DAU за 7 дней\n",
    "\n",
    "sns.set_palette(\"colorblind\")\n",
    "\n",
    "sns.lineplot(x='date_month', y='DAU', data=df, linewidth=3, marker='o', color='r')\n",
    "plt.title('DAU за последнюю неделю', fontweight='bold')\n",
    "plt.xlabel('Дата')\n",
    "plt.ylabel('Количество')\n",
    "# plt.show()\n",
    "\n",
    "plot_object = io.BytesIO() # создаем файловый объект - картинку\n",
    "plt.savefig(plot_object) # сохраняем в него наш график\n",
    "plot_object.name = 'DAU_week_plot.png' # задаем имя нашего файлового объекта\n",
    "plot_object.seek(0) # переносим курсор из конца файлового объекта в начало, чтобы прочитать весь файл (чтобы избежать отправки боту пустого файла)\n",
    "\n",
    "plt.close()\n",
    "\n",
    "# Отправляем изображение\n",
    "bot.sendPhoto(chat_id=chat_id, photo=plot_object)"
   ]
  },
  {
   "cell_type": "code",
   "execution_count": 146,
   "id": "4a548ccb-8b87-4cb1-beef-54da10deaff6",
   "metadata": {},
   "outputs": [
    {
     "data": {
      "text/plain": [
       "<telegram.message.Message at 0x7fc19842ec40>"
      ]
     },
     "execution_count": 146,
     "metadata": {},
     "output_type": "execute_result"
    }
   ],
   "source": [
    "# Отправляем график просмотров за 7 дней\n",
    "\n",
    "sns.lineplot(x='date_month', y='views', data=df, linewidth=3, marker='o', color='b')\n",
    "plt.title('Просмотры за последнюю неделю', fontweight='bold')\n",
    "plt.xlabel('Дата')\n",
    "plt.ylabel('Количество')\n",
    "\n",
    "plot_object = io.BytesIO() # создаем файловый объект - картинку\n",
    "plt.savefig(plot_object) # сохраняем в него наш график\n",
    "plot_object.name = 'views_week_plot.png' # задаем имя нашего файлового объекта\n",
    "plot_object.seek(0) # переносим курсор из конца файлового объекта в начало, чтобы прочитать весь файл (чтобы избежать отправки боту пустого файла)\n",
    "\n",
    "plt.close()\n",
    "\n",
    "# Отправляем изображение\n",
    "bot.sendPhoto(chat_id=chat_id, photo=plot_object)"
   ]
  },
  {
   "cell_type": "code",
   "execution_count": 148,
   "id": "3f1a9f20-9802-4aec-97a8-3760bb5d2122",
   "metadata": {},
   "outputs": [
    {
     "data": {
      "text/plain": [
       "<telegram.message.Message at 0x7fc191fda640>"
      ]
     },
     "execution_count": 148,
     "metadata": {},
     "output_type": "execute_result"
    }
   ],
   "source": [
    "# Отправляем график лайков за 7 дней\n",
    "\n",
    "sns.lineplot(x='date_month', y='likes', data=df, linewidth=3, marker='o', color='g')\n",
    "plt.title('Лайки за последнюю неделю', fontweight='bold')\n",
    "plt.xlabel('Дата')\n",
    "plt.ylabel('Количество')\n",
    "\n",
    "plot_object = io.BytesIO() # создаем файловый объект - картинку\n",
    "plt.savefig(plot_object) # сохраняем в него наш график\n",
    "plot_object.name = 'likes_week_plot.png' # задаем имя нашего файлового объекта\n",
    "plot_object.seek(0) # переносим курсор из конца файлового объекта в начало, чтобы прочитать весь файл (чтобы избежать отправки боту пустого файла)\n",
    "\n",
    "plt.close()\n",
    "\n",
    "# Отправляем изображение\n",
    "bot.sendPhoto(chat_id=chat_id, photo=plot_object)"
   ]
  },
  {
   "cell_type": "code",
   "execution_count": 152,
   "id": "73facf91-1eac-4d74-8a27-9077e07b9da4",
   "metadata": {},
   "outputs": [
    {
     "data": {
      "text/plain": [
       "<telegram.message.Message at 0x7fc19842e440>"
      ]
     },
     "execution_count": 152,
     "metadata": {},
     "output_type": "execute_result"
    }
   ],
   "source": [
    "# Отправляем график CTR за 7 дней\n",
    "\n",
    "sns.lineplot(x='date_month', y='CTR', data=df, linewidth=3, marker='o', color='purple')\n",
    "plt.title('CTR за последнюю неделю', fontweight='bold')\n",
    "plt.xlabel('Дата')\n",
    "plt.ylabel('Лайки / Просмотры, %')\n",
    "\n",
    "plot_object = io.BytesIO() # создаем файловый объект - картинку\n",
    "plt.savefig(plot_object) # сохраняем в него наш график\n",
    "plot_object.name = 'CTR_week_plot.png' # задаем имя нашего файлового объекта\n",
    "plot_object.seek(0) # переносим курсор из конца файлового объекта в начало, чтобы прочитать весь файл (чтобы избежать отправки боту пустого файла)\n",
    "\n",
    "plt.close()\n",
    "\n",
    "# Отправляем изображение\n",
    "bot.sendPhoto(chat_id=chat_id, photo=plot_object)"
   ]
  },
  {
   "cell_type": "code",
   "execution_count": null,
   "id": "b4290dfb-4c9a-46a8-8254-0f7a3d0f34f1",
   "metadata": {},
   "outputs": [],
   "source": []
  },
  {
   "cell_type": "code",
   "execution_count": null,
   "id": "31007059-cf48-43d5-8d46-c66940b6e3cb",
   "metadata": {},
   "outputs": [],
   "source": []
  },
  {
   "cell_type": "code",
   "execution_count": null,
   "id": "16e41608-bf61-46e8-af1d-271200a9fd66",
   "metadata": {},
   "outputs": [],
   "source": []
  },
  {
   "cell_type": "code",
   "execution_count": null,
   "id": "bc3b568a-3910-482e-83e5-6a369eecf63f",
   "metadata": {},
   "outputs": [],
   "source": []
  },
  {
   "cell_type": "code",
   "execution_count": null,
   "id": "c4d2e316-3f6d-4327-a395-c18d412b1ed0",
   "metadata": {},
   "outputs": [],
   "source": []
  }
 ],
 "metadata": {
  "kernelspec": {
   "display_name": "Python 3 (ipykernel)",
   "language": "python",
   "name": "python3"
  },
  "language_info": {
   "codemirror_mode": {
    "name": "ipython",
    "version": 3
   },
   "file_extension": ".py",
   "mimetype": "text/x-python",
   "name": "python",
   "nbconvert_exporter": "python",
   "pygments_lexer": "ipython3",
   "version": "3.9.12"
  }
 },
 "nbformat": 4,
 "nbformat_minor": 5
}
