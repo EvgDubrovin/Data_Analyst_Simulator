{
 "cells": [
  {
   "cell_type": "markdown",
   "id": "428d0bf6-a70b-431e-ac5f-9bb51bc237d3",
   "metadata": {},
   "source": [
    "# Единый отчет по всему приложению (лента новостей и мессенджер)"
   ]
  },
  {
   "cell_type": "code",
   "execution_count": 1,
   "id": "9b283455-a209-45d3-b3dc-4c7a2e72f488",
   "metadata": {},
   "outputs": [],
   "source": [
    "# Импортируем необходимые библиотеки\n",
    "\n",
    "import telegram # библиотека для работы с Telegram\n",
    "import numpy as np\n",
    "import matplotlib.pyplot as plt\n",
    "import seaborn as sns\n",
    "import io # библиотека для управления потоками ввода/вывода данных (чтобы  пересылать графики из буфера обмена и не сохранять их лишний раз)\n",
    "import logging\n",
    "import pandas as pd\n",
    "import pandahouse\n",
    "import os"
   ]
  },
  {
   "cell_type": "code",
   "execution_count": 2,
   "id": "de6988cd-b732-44a4-b750-f6685e27f0cf",
   "metadata": {},
   "outputs": [],
   "source": [
    "# Создаем бота с помощью нашего токена\n",
    "# (Токен получили в \"BotFather\" в Телеграме)\n",
    "# bot_token = os.environ.get(\"tg_bot_token\")\n",
    "# bot = telegram.Bot(token=os.environ.get(\"tg_bot_token\"))\n",
    "\n",
    "bot = telegram.Bot(token='5227151149:AAGkhDIQK5PZo1i88XKZ22INjOnBXq_06Z4')"
   ]
  },
  {
   "cell_type": "code",
   "execution_count": 3,
   "id": "e410f1a9-146c-4642-a3c5-64766be973a0",
   "metadata": {},
   "outputs": [],
   "source": [
    "# Сохраним id, куда бот будет отправлять отчеты (наш id)\n",
    "chat_id = 244991955"
   ]
  },
  {
   "cell_type": "code",
   "execution_count": 4,
   "id": "4b7a29cf-a991-4c2d-b674-c46d5b280041",
   "metadata": {},
   "outputs": [
    {
     "data": {
      "text/plain": [
       "<telegram.message.Message at 0x7f8e52b64a40>"
      ]
     },
     "execution_count": 4,
     "metadata": {},
     "output_type": "execute_result"
    }
   ],
   "source": [
    "# Приветствие\n",
    "initial_message = \"Доброе утро!\\nОбщий Отчет по Приложению\"\n",
    "bot.sendMessage(chat_id=chat_id, text=initial_message)"
   ]
  },
  {
   "cell_type": "code",
   "execution_count": 5,
   "id": "8508b3c5-9939-4f34-a420-7cb20afa07b9",
   "metadata": {},
   "outputs": [],
   "source": [
    "# Подключаемся к БД\n",
    "connection = {\n",
    "    'host': 'https://clickhouse.lab.karpov.courses',\n",
    "    'password': 'dpo_python_2020',\n",
    "    'user': 'student',\n",
    "    'database': 'simulator_20220420'\n",
    "}"
   ]
  },
  {
   "cell_type": "code",
   "execution_count": 6,
   "id": "4ece0e30-cd56-4ab7-8638-a9bb76f94815",
   "metadata": {},
   "outputs": [],
   "source": [
    "# Запрос к базе данных\n",
    "# Получим обобщенную таблицу с пользователями, просмотрами, лайками и сообщениями, сгруппированными по дням  \n",
    "q = '''\n",
    "SELECT *\n",
    "FROM\n",
    "(\n",
    "SELECT \n",
    "    user_id, \n",
    "    toDate(time) as day,\n",
    "    countIf(post_id, action='view') as views,\n",
    "    countIf(post_id, action='like') as likes\n",
    "FROM \n",
    "    simulator_20220420.feed_actions\n",
    "GROUP BY \n",
    "    user_id, day) as f\n",
    "FULL JOIN\n",
    "(\n",
    "SELECT \n",
    "    user_id,\n",
    "    toDate(time) as day,\n",
    "    COUNT(reciever_id) AS messages\n",
    "FROM \n",
    "    simulator_20220420.message_actions\n",
    "GROUP BY \n",
    "    user_id, day) as m \n",
    "USING user_id, day\n",
    "'''"
   ]
  },
  {
   "cell_type": "code",
   "execution_count": 7,
   "id": "789b4c16-c160-4e44-a3d9-48a7aa3e250a",
   "metadata": {},
   "outputs": [
    {
     "data": {
      "text/html": [
       "<div>\n",
       "<style scoped>\n",
       "    .dataframe tbody tr th:only-of-type {\n",
       "        vertical-align: middle;\n",
       "    }\n",
       "\n",
       "    .dataframe tbody tr th {\n",
       "        vertical-align: top;\n",
       "    }\n",
       "\n",
       "    .dataframe thead th {\n",
       "        text-align: right;\n",
       "    }\n",
       "</style>\n",
       "<table border=\"1\" class=\"dataframe\">\n",
       "  <thead>\n",
       "    <tr style=\"text-align: right;\">\n",
       "      <th></th>\n",
       "      <th>user_id</th>\n",
       "      <th>day</th>\n",
       "      <th>views</th>\n",
       "      <th>likes</th>\n",
       "      <th>messages</th>\n",
       "    </tr>\n",
       "  </thead>\n",
       "  <tbody>\n",
       "    <tr>\n",
       "      <th>0</th>\n",
       "      <td>144479</td>\n",
       "      <td>2022-04-24</td>\n",
       "      <td>30</td>\n",
       "      <td>11</td>\n",
       "      <td>0</td>\n",
       "    </tr>\n",
       "    <tr>\n",
       "      <th>1</th>\n",
       "      <td>4693</td>\n",
       "      <td>2022-03-30</td>\n",
       "      <td>35</td>\n",
       "      <td>10</td>\n",
       "      <td>0</td>\n",
       "    </tr>\n",
       "    <tr>\n",
       "      <th>2</th>\n",
       "      <td>20107</td>\n",
       "      <td>2022-04-17</td>\n",
       "      <td>29</td>\n",
       "      <td>3</td>\n",
       "      <td>0</td>\n",
       "    </tr>\n",
       "    <tr>\n",
       "      <th>3</th>\n",
       "      <td>116462</td>\n",
       "      <td>2022-04-08</td>\n",
       "      <td>55</td>\n",
       "      <td>14</td>\n",
       "      <td>0</td>\n",
       "    </tr>\n",
       "    <tr>\n",
       "      <th>4</th>\n",
       "      <td>159087</td>\n",
       "      <td>2022-04-30</td>\n",
       "      <td>45</td>\n",
       "      <td>14</td>\n",
       "      <td>0</td>\n",
       "    </tr>\n",
       "  </tbody>\n",
       "</table>\n",
       "</div>"
      ],
      "text/plain": [
       "   user_id        day  views  likes  messages\n",
       "0   144479 2022-04-24     30     11         0\n",
       "1     4693 2022-03-30     35     10         0\n",
       "2    20107 2022-04-17     29      3         0\n",
       "3   116462 2022-04-08     55     14         0\n",
       "4   159087 2022-04-30     45     14         0"
      ]
     },
     "execution_count": 7,
     "metadata": {},
     "output_type": "execute_result"
    }
   ],
   "source": [
    "# Сохраним результат запроса в pandas df\n",
    "df = pandahouse.read_clickhouse(q, connection=connection)\n",
    "df.head()"
   ]
  },
  {
   "cell_type": "code",
   "execution_count": 8,
   "id": "e94b7530-9b9a-4e3a-bf8b-7dbe508e3ce4",
   "metadata": {},
   "outputs": [
    {
     "name": "stdout",
     "output_type": "stream",
     "text": [
      "<class 'pandas.core.frame.DataFrame'>\n",
      "RangeIndex: 712070 entries, 0 to 712069\n",
      "Data columns (total 5 columns):\n",
      " #   Column    Non-Null Count   Dtype         \n",
      "---  ------    --------------   -----         \n",
      " 0   user_id   712070 non-null  uint32        \n",
      " 1   day       712070 non-null  datetime64[ns]\n",
      " 2   views     712070 non-null  uint64        \n",
      " 3   likes     712070 non-null  uint64        \n",
      " 4   messages  712070 non-null  uint64        \n",
      "dtypes: datetime64[ns](1), uint32(1), uint64(3)\n",
      "memory usage: 24.4 MB\n"
     ]
    }
   ],
   "source": [
    "df.info()"
   ]
  },
  {
   "cell_type": "markdown",
   "id": "a3d2cb4a-ddd2-4a07-bb32-92baea6dca4e",
   "metadata": {},
   "source": [
    "## Ключевые метрики за вчерашний день"
   ]
  },
  {
   "cell_type": "code",
   "execution_count": 9,
   "id": "44897b45-721d-4053-ac15-7df8043e859d",
   "metadata": {},
   "outputs": [
    {
     "data": {
      "text/plain": [
       "<telegram.message.Message at 0x7f8e52ab5a40>"
      ]
     },
     "execution_count": 9,
     "metadata": {},
     "output_type": "execute_result"
    }
   ],
   "source": [
    "# Приветствие - 2\n",
    "message = \"Ключевые метрики за вчерашний день:\"\n",
    "bot.sendMessage(chat_id=chat_id, text=message)"
   ]
  },
  {
   "cell_type": "markdown",
   "id": "daf22c2f-b607-419f-8cfa-22a88c1b9fa8",
   "metadata": {
    "tags": []
   },
   "source": [
    "### DAU - текст"
   ]
  },
  {
   "cell_type": "code",
   "execution_count": 10,
   "id": "f50899a5-49f6-4604-8324-d7b7e6c0caaf",
   "metadata": {},
   "outputs": [],
   "source": [
    "# Количество пользователей вчера\n",
    "\n",
    "# Всего пользователей вчера\n",
    "# Общее DAU за все время\n",
    "DAU_total_daily = df.groupby('day', as_index=False)['user_id'].nunique()\n",
    "# Общее DAU за вчера\n",
    "DAU_total_yesterday = DAU_total_daily[DAU_total_daily['day'] == DAU_total_daily['day'].iloc[-2]]['user_id'].item()\n",
    "\n",
    "# Пользователей только ленты новостей вчера\n",
    "# DAU только ленты за все время\n",
    "DAU_feed_only_daily = df.query('messages == 0').groupby('day', as_index=False)['user_id'].nunique() \n",
    "# DAU только ленты вчера\n",
    "DAU_feed_only_yesterday = DAU_feed_only_daily[DAU_feed_only_daily['day'] == DAU_feed_only_daily['day'].iloc[-2]]['user_id'].item()\n",
    "\n",
    "# Пользователей только мессенджера вчера\n",
    "# DAU только мессенджера за все время\n",
    "DAU_messenger_only_daily = df.query('messages>0 & (views+likes)==0').groupby('day', as_index=False)['user_id'].nunique() \n",
    "# DAU только мессенджера вчера\n",
    "DAU_messenger_only_yesterday = DAU_messenger_only_daily[DAU_messenger_only_daily['day'] == DAU_messenger_only_daily['day'].iloc[-2]]['user_id'].item()\n",
    "\n",
    "# Пользователей и ленты новостей и мессенджера вчера\n",
    "# DAU только ленты+мессенджера за все время\n",
    "DAU_feed_messenger_only_daily = df.query('messages>0 & (views+likes)>0').groupby('day', as_index=False)['user_id'].nunique() \n",
    "# DAU только ленты+мессенджера за вчера\n",
    "DAU_feed_messenger_only_yesterday = DAU_feed_messenger_only_daily[DAU_feed_messenger_only_daily['day'] == DAU_feed_messenger_only_daily['day'].iloc[-2]]['user_id'].item()"
   ]
  },
  {
   "cell_type": "code",
   "execution_count": 11,
   "id": "5ef76f6b-a837-402a-8f4d-3f4f34c6d1ac",
   "metadata": {},
   "outputs": [],
   "source": [
    "# Найдем и сохраним вчерашнюю дату в удобном формате\n",
    "yesterday = df['day'].drop_duplicates().nlargest(2).iloc[-1]\n",
    "yesterday = yesterday.strftime('%d.%m.%Y')"
   ]
  },
  {
   "cell_type": "code",
   "execution_count": 12,
   "id": "9768261b-4369-4944-9fea-ea5820024d28",
   "metadata": {},
   "outputs": [],
   "source": [
    "# Текст с информацией о DAU за предыдущий день\n",
    "message_1 = \"DAU за вчерашний день ({}): \\nВсего - {:,} \\nТолько в ленте - {:,} \\nТолько в мессенджере - {:,} \\nИ лента и мессенджер - {}\".format(\n",
    "                            yesterday,                  DAU_total_yesterday,      DAU_feed_only_yesterday,       DAU_messenger_only_yesterday,  DAU_feed_messenger_only_yesterday).replace(',', ' ')"
   ]
  },
  {
   "cell_type": "code",
   "execution_count": 13,
   "id": "9df97b06-f965-4e5f-a6e8-c71fcb2da1c3",
   "metadata": {},
   "outputs": [
    {
     "name": "stdout",
     "output_type": "stream",
     "text": [
      "DAU за вчерашний день (30.04.2022): \n",
      "Всего - 20 517 \n",
      "Только в ленте - 18 948 \n",
      "Только в мессенджере - 1 388 \n",
      "И лента и мессенджер - 181\n"
     ]
    }
   ],
   "source": [
    "print(message_1)"
   ]
  },
  {
   "cell_type": "code",
   "execution_count": 14,
   "id": "0602ee92-80a7-4af2-85f1-4a4895cf2439",
   "metadata": {},
   "outputs": [
    {
     "data": {
      "text/plain": [
       "<telegram.message.Message at 0x7f8e52adbc40>"
      ]
     },
     "execution_count": 14,
     "metadata": {},
     "output_type": "execute_result"
    }
   ],
   "source": [
    "# Отправим сообщение от бота по необходимому id\n",
    "bot.sendMessage(chat_id=chat_id, text=message_1)"
   ]
  },
  {
   "cell_type": "markdown",
   "id": "0dce3f04-ffdc-41bc-8c36-5b5458ea3421",
   "metadata": {},
   "source": [
    "### DAU за вчера - графики"
   ]
  },
  {
   "cell_type": "code",
   "execution_count": 15,
   "id": "631aab37-d47b-4c7c-b74d-99f0be7ebbbb",
   "metadata": {},
   "outputs": [],
   "source": [
    "# Просмотры, лайки, сообщения и  в течение вчерашнего дня   \n",
    "q = '''\n",
    "SELECT *\n",
    "FROM\n",
    "(\n",
    "SELECT \n",
    "    user_id, \n",
    "    toStartOfFifteenMinutes(time) as mins_15,\n",
    "    countIf(post_id, action='view') as views,\n",
    "    countIf(post_id, action='like') as likes\n",
    "FROM \n",
    "    simulator_20220420.feed_actions\n",
    "WHERE\n",
    "    toDate(time) = yesterday()\n",
    "GROUP BY \n",
    "    user_id, mins_15) as f\n",
    "FULL JOIN\n",
    "(\n",
    "SELECT \n",
    "    user_id,\n",
    "    toStartOfFifteenMinutes(time) as mins_15,\n",
    "    COUNT(reciever_id) AS messages\n",
    "FROM \n",
    "    simulator_20220420.message_actions\n",
    "WHERE\n",
    "    toDate(time) = yesterday()\n",
    "GROUP BY \n",
    "    user_id, mins_15) as m \n",
    "USING user_id, mins_15\n",
    "'''"
   ]
  },
  {
   "cell_type": "code",
   "execution_count": 16,
   "id": "a32b70db-57b7-42bf-85a9-faa48ab9be05",
   "metadata": {},
   "outputs": [
    {
     "data": {
      "text/html": [
       "<div>\n",
       "<style scoped>\n",
       "    .dataframe tbody tr th:only-of-type {\n",
       "        vertical-align: middle;\n",
       "    }\n",
       "\n",
       "    .dataframe tbody tr th {\n",
       "        vertical-align: top;\n",
       "    }\n",
       "\n",
       "    .dataframe thead th {\n",
       "        text-align: right;\n",
       "    }\n",
       "</style>\n",
       "<table border=\"1\" class=\"dataframe\">\n",
       "  <thead>\n",
       "    <tr style=\"text-align: right;\">\n",
       "      <th></th>\n",
       "      <th>user_id</th>\n",
       "      <th>mins_15</th>\n",
       "      <th>views</th>\n",
       "      <th>likes</th>\n",
       "      <th>messages</th>\n",
       "    </tr>\n",
       "  </thead>\n",
       "  <tbody>\n",
       "    <tr>\n",
       "      <th>17822</th>\n",
       "      <td>159824</td>\n",
       "      <td>2022-04-30 00:00:00</td>\n",
       "      <td>18</td>\n",
       "      <td>7</td>\n",
       "      <td>0</td>\n",
       "    </tr>\n",
       "    <tr>\n",
       "      <th>4895</th>\n",
       "      <td>135065</td>\n",
       "      <td>2022-04-30 00:00:00</td>\n",
       "      <td>15</td>\n",
       "      <td>4</td>\n",
       "      <td>0</td>\n",
       "    </tr>\n",
       "    <tr>\n",
       "      <th>41994</th>\n",
       "      <td>16537</td>\n",
       "      <td>2022-04-30 00:00:00</td>\n",
       "      <td>13</td>\n",
       "      <td>2</td>\n",
       "      <td>0</td>\n",
       "    </tr>\n",
       "    <tr>\n",
       "      <th>23585</th>\n",
       "      <td>131725</td>\n",
       "      <td>2022-04-30 00:00:00</td>\n",
       "      <td>18</td>\n",
       "      <td>3</td>\n",
       "      <td>0</td>\n",
       "    </tr>\n",
       "    <tr>\n",
       "      <th>54561</th>\n",
       "      <td>3118</td>\n",
       "      <td>2022-04-30 00:00:00</td>\n",
       "      <td>0</td>\n",
       "      <td>0</td>\n",
       "      <td>1</td>\n",
       "    </tr>\n",
       "    <tr>\n",
       "      <th>...</th>\n",
       "      <td>...</td>\n",
       "      <td>...</td>\n",
       "      <td>...</td>\n",
       "      <td>...</td>\n",
       "      <td>...</td>\n",
       "    </tr>\n",
       "    <tr>\n",
       "      <th>682</th>\n",
       "      <td>25548</td>\n",
       "      <td>2022-04-30 23:45:00</td>\n",
       "      <td>16</td>\n",
       "      <td>3</td>\n",
       "      <td>0</td>\n",
       "    </tr>\n",
       "    <tr>\n",
       "      <th>53132</th>\n",
       "      <td>13995</td>\n",
       "      <td>2022-04-30 23:45:00</td>\n",
       "      <td>0</td>\n",
       "      <td>0</td>\n",
       "      <td>1</td>\n",
       "    </tr>\n",
       "    <tr>\n",
       "      <th>42940</th>\n",
       "      <td>56677</td>\n",
       "      <td>2022-04-30 23:45:00</td>\n",
       "      <td>15</td>\n",
       "      <td>2</td>\n",
       "      <td>0</td>\n",
       "    </tr>\n",
       "    <tr>\n",
       "      <th>29070</th>\n",
       "      <td>128491</td>\n",
       "      <td>2022-04-30 23:45:00</td>\n",
       "      <td>2</td>\n",
       "      <td>0</td>\n",
       "      <td>0</td>\n",
       "    </tr>\n",
       "    <tr>\n",
       "      <th>18585</th>\n",
       "      <td>122948</td>\n",
       "      <td>2022-04-30 23:45:00</td>\n",
       "      <td>34</td>\n",
       "      <td>11</td>\n",
       "      <td>0</td>\n",
       "    </tr>\n",
       "  </tbody>\n",
       "</table>\n",
       "<p>57585 rows × 5 columns</p>\n",
       "</div>"
      ],
      "text/plain": [
       "       user_id             mins_15  views  likes  messages\n",
       "17822   159824 2022-04-30 00:00:00     18      7         0\n",
       "4895    135065 2022-04-30 00:00:00     15      4         0\n",
       "41994    16537 2022-04-30 00:00:00     13      2         0\n",
       "23585   131725 2022-04-30 00:00:00     18      3         0\n",
       "54561     3118 2022-04-30 00:00:00      0      0         1\n",
       "...        ...                 ...    ...    ...       ...\n",
       "682      25548 2022-04-30 23:45:00     16      3         0\n",
       "53132    13995 2022-04-30 23:45:00      0      0         1\n",
       "42940    56677 2022-04-30 23:45:00     15      2         0\n",
       "29070   128491 2022-04-30 23:45:00      2      0         0\n",
       "18585   122948 2022-04-30 23:45:00     34     11         0\n",
       "\n",
       "[57585 rows x 5 columns]"
      ]
     },
     "execution_count": 16,
     "metadata": {},
     "output_type": "execute_result"
    }
   ],
   "source": [
    "# Таблица за вчера\n",
    "# Сохраним результат запроса в pandas df\n",
    "df_yesterday = pandahouse.read_clickhouse(q, connection=connection)\n",
    "df_yesterday.sort_values(by='mins_15')"
   ]
  },
  {
   "cell_type": "code",
   "execution_count": 17,
   "id": "62aeee43-da28-4606-a573-f2591a06811b",
   "metadata": {},
   "outputs": [],
   "source": [
    "# Добавим столбец status для разбивки пользователей по группам: только мессенджер, только лента, лента+мессенджер\n",
    "df_yesterday['status'] = ' '\n",
    "\n",
    "# Только мессенджер\n",
    "df_yesterday.loc[(df_yesterday['messages']>0) & (df_yesterday['views'] + df_yesterday['likes'] == 0), 'status'] = 'messenger_only'\n",
    "\n",
    "# Только лента новостей\n",
    "df_yesterday.loc[df_yesterday['messages']==0, 'status'] = 'feed_only'\n",
    "\n",
    "# Лента новостей + мессенджер\n",
    "df_yesterday.loc[(df_yesterday['messages']>0) & (df_yesterday['views'] + df_yesterday['likes'] > 0), 'status'] = 'feed+messenger'"
   ]
  },
  {
   "cell_type": "code",
   "execution_count": 18,
   "id": "83c23362-5cce-410c-8b92-ef63958e50ed",
   "metadata": {},
   "outputs": [],
   "source": [
    "# DAU в течение вчерашнего дня\n",
    "DAU_yesterday = df_yesterday.groupby(['mins_15', 'status'], as_index=False)['user_id'].nunique()"
   ]
  },
  {
   "cell_type": "code",
   "execution_count": 19,
   "id": "0581e2ee-9920-4b8f-b5d3-97ff73628533",
   "metadata": {},
   "outputs": [
    {
     "data": {
      "text/html": [
       "<div>\n",
       "<style scoped>\n",
       "    .dataframe tbody tr th:only-of-type {\n",
       "        vertical-align: middle;\n",
       "    }\n",
       "\n",
       "    .dataframe tbody tr th {\n",
       "        vertical-align: top;\n",
       "    }\n",
       "\n",
       "    .dataframe thead th {\n",
       "        text-align: right;\n",
       "    }\n",
       "</style>\n",
       "<table border=\"1\" class=\"dataframe\">\n",
       "  <thead>\n",
       "    <tr style=\"text-align: right;\">\n",
       "      <th></th>\n",
       "      <th>mins_15</th>\n",
       "      <th>status</th>\n",
       "      <th>user_id</th>\n",
       "    </tr>\n",
       "  </thead>\n",
       "  <tbody>\n",
       "    <tr>\n",
       "      <th>215</th>\n",
       "      <td>2022-04-30 23:15:00</td>\n",
       "      <td>messenger_only</td>\n",
       "      <td>67</td>\n",
       "    </tr>\n",
       "    <tr>\n",
       "      <th>216</th>\n",
       "      <td>2022-04-30 23:30:00</td>\n",
       "      <td>feed_only</td>\n",
       "      <td>459</td>\n",
       "    </tr>\n",
       "    <tr>\n",
       "      <th>217</th>\n",
       "      <td>2022-04-30 23:30:00</td>\n",
       "      <td>messenger_only</td>\n",
       "      <td>67</td>\n",
       "    </tr>\n",
       "    <tr>\n",
       "      <th>218</th>\n",
       "      <td>2022-04-30 23:45:00</td>\n",
       "      <td>feed_only</td>\n",
       "      <td>430</td>\n",
       "    </tr>\n",
       "    <tr>\n",
       "      <th>219</th>\n",
       "      <td>2022-04-30 23:45:00</td>\n",
       "      <td>messenger_only</td>\n",
       "      <td>65</td>\n",
       "    </tr>\n",
       "  </tbody>\n",
       "</table>\n",
       "</div>"
      ],
      "text/plain": [
       "                mins_15          status  user_id\n",
       "215 2022-04-30 23:15:00  messenger_only       67\n",
       "216 2022-04-30 23:30:00       feed_only      459\n",
       "217 2022-04-30 23:30:00  messenger_only       67\n",
       "218 2022-04-30 23:45:00       feed_only      430\n",
       "219 2022-04-30 23:45:00  messenger_only       65"
      ]
     },
     "execution_count": 19,
     "metadata": {},
     "output_type": "execute_result"
    }
   ],
   "source": [
    "DAU_yesterday.tail()"
   ]
  },
  {
   "cell_type": "code",
   "execution_count": 20,
   "id": "18eed816-ba35-446d-aa6b-7968a09c2eb7",
   "metadata": {},
   "outputs": [],
   "source": [
    "# Время за вчера в удобном формате\n",
    "hours_mins = np.array(DAU_yesterday['mins_15'].dt.strftime('%H-%M').drop_duplicates())\n",
    "# print(hour_mins)\n",
    "hours = np.array(DAU_yesterday['mins_15'].dt.strftime('%H').drop_duplicates())\n",
    "# print(hours)"
   ]
  },
  {
   "cell_type": "code",
   "execution_count": 21,
   "id": "1af08581-a934-4272-8496-f79ccb83d71d",
   "metadata": {},
   "outputs": [],
   "source": [
    "# Дополним таблицу\n",
    "DAU_yesterday['hours_mins'] = DAU_yesterday['mins_15'].dt.strftime('%H-%M')"
   ]
  },
  {
   "cell_type": "code",
   "execution_count": 22,
   "id": "6040b269-c8cd-446f-a634-a351093e0063",
   "metadata": {},
   "outputs": [],
   "source": [
    "# Зададим параметры графиков\n",
    "sns.set(rc={\"figure.figsize\":(9, 5)}) \n",
    "sns.set_palette(\"colorblind\")"
   ]
  },
  {
   "cell_type": "code",
   "execution_count": 23,
   "id": "8ff7900d-c112-4257-8810-07195d21e1f5",
   "metadata": {
    "tags": []
   },
   "outputs": [
    {
     "data": {
      "text/plain": [
       "<telegram.message.Message at 0x7f8e52891440>"
      ]
     },
     "execution_count": 23,
     "metadata": {},
     "output_type": "execute_result"
    }
   ],
   "source": [
    "# График DAU за вчера\n",
    "sns.lineplot(x='hours_mins', y='user_id', data=DAU_yesterday, hue='status', linewidth=3)\n",
    "\n",
    "plt.title('DAU за вчерашний день - {}'.format(yesterday), fontweight='bold')\n",
    "plt.xlabel('Время')\n",
    "plt.ylabel('Количество')\n",
    "plt.xticks(DAU_yesterday['hours_mins'][::5],  rotation='90')\n",
    "plt.tight_layout() # чтобы все подписи к графика были в окошке графика\n",
    "# plt.show()\n",
    "\n",
    "# Отправляем DAU за вчера\n",
    "plot_object_1 = io.BytesIO() # создаем файловый объект - картинку\n",
    "plt.savefig(plot_object_1) # сохраняем в него наш график\n",
    "plot_object_1.name = 'DAU_yesterday.png' # задаем имя нашего файлового объекта\n",
    "plot_object_1.seek(0) # переносим курсор из конца файлового объекта в начало, чтобы прочитать весь файл (чтобы избежать отправки боту пустого файла)\n",
    "\n",
    "plt.close()\n",
    "\n",
    "# Отправляем изображение\n",
    "bot.sendPhoto(chat_id=chat_id, photo=plot_object_1)"
   ]
  },
  {
   "cell_type": "markdown",
   "id": "e78adfc1-efcb-4a77-b3e4-3164e73c7880",
   "metadata": {},
   "source": [
    "### Просмотры, лайки, сообщения за вчера - текст"
   ]
  },
  {
   "cell_type": "code",
   "execution_count": 24,
   "id": "ccb9a8d0-4401-4f1b-ac95-29264b80867b",
   "metadata": {},
   "outputs": [],
   "source": [
    "# Всего просмотров вчера\n",
    "views_yesterday = df_yesterday['views'].sum()\n",
    "# Всего лайков вчера\n",
    "likes_yesterday = df_yesterday['likes'].sum()\n",
    "# Всего сообщений вчера\n",
    "messages_yesterday = df_yesterday['messages'].sum()"
   ]
  },
  {
   "cell_type": "code",
   "execution_count": 25,
   "id": "cc7d401a-d2c5-4052-8338-3fc32725ca6b",
   "metadata": {},
   "outputs": [],
   "source": [
    "# Текст с информацией о просмотрах, лайках и сообщениях за вчера\n",
    "message_2 = \"Всего событий за вчера ({}): \\nПросмотры - {:,} \\nЛайки - {:,} \\nСообщения - {:,}\".format(\n",
    "                                                      yesterday, views_yesterday, likes_yesterday, messages_yesterday).replace(',', ' ')"
   ]
  },
  {
   "cell_type": "code",
   "execution_count": 26,
   "id": "73268c9e-60e4-45f3-b3f0-fef7e2e7fd30",
   "metadata": {},
   "outputs": [
    {
     "name": "stdout",
     "output_type": "stream",
     "text": [
      "Всего событий за вчера (30.04.2022): \n",
      "Просмотры - 537 657 \n",
      "Лайки - 112 224 \n",
      "Сообщения - 12 900\n"
     ]
    }
   ],
   "source": [
    "print(message_2)"
   ]
  },
  {
   "cell_type": "code",
   "execution_count": 27,
   "id": "32214125-71f7-4854-a28c-18c3d0a761f5",
   "metadata": {},
   "outputs": [
    {
     "data": {
      "text/plain": [
       "<telegram.message.Message at 0x7f8e52c28840>"
      ]
     },
     "execution_count": 27,
     "metadata": {},
     "output_type": "execute_result"
    }
   ],
   "source": [
    "# Отправим сообщение от бота по необходимому id\n",
    "bot.sendMessage(chat_id=chat_id, text=message_2)"
   ]
  },
  {
   "cell_type": "markdown",
   "id": "0be26798-7e2e-44cf-a45a-642a60ecb298",
   "metadata": {},
   "source": [
    "### Просмотры, лайки, сообщения за вчера - график"
   ]
  },
  {
   "cell_type": "code",
   "execution_count": 28,
   "id": "16b86a81-0cde-487e-b4b8-d2658c21a5f3",
   "metadata": {},
   "outputs": [],
   "source": [
    "# Дополним таблицу\n",
    "df_yesterday['hours_mins'] = df_yesterday['mins_15'].dt.strftime('%H-%M')"
   ]
  },
  {
   "cell_type": "code",
   "execution_count": 29,
   "id": "ac60ce84-be06-4f62-8efa-34148457f3fa",
   "metadata": {},
   "outputs": [],
   "source": [
    "# Просмотры, лайки, сообщения в течение вчерашенго дня\n",
    "vlm_yesterday = df_yesterday.groupby('hours_mins', as_index=False).sum(['views', 'likes', 'messages'])"
   ]
  },
  {
   "cell_type": "code",
   "execution_count": 30,
   "id": "42b6d84c-b889-4be2-81a8-eb98df22e369",
   "metadata": {},
   "outputs": [
    {
     "data": {
      "text/plain": [
       "<telegram.message.Message at 0x7f8e527edc40>"
      ]
     },
     "execution_count": 30,
     "metadata": {},
     "output_type": "execute_result"
    }
   ],
   "source": [
    "# График просмотров, лайков, сообщений в течение вчерашенго дня\n",
    "sns.lineplot(x='hours_mins', y='views', data=vlm_yesterday, linewidth=3)\n",
    "sns.lineplot(x='hours_mins', y='likes', data=vlm_yesterday, linewidth=3)\n",
    "sns.lineplot(x='hours_mins', y='messages', data=vlm_yesterday, linewidth=3)\n",
    "\n",
    "plt.title('Просмотры, лайки, сообщения за вчерашний день - {}'.format(yesterday), fontweight='bold')\n",
    "plt.xlabel('Время')\n",
    "plt.ylabel('Количество')\n",
    "plt.xticks(vlm_yesterday['hours_mins'][::5],  rotation='90')\n",
    "plt.legend(labels=[\"views\",\"likes\", \"messages\"])\n",
    "plt.tight_layout() # чтобы все подписи к графика были в окошке графика\n",
    "# plt.show()\n",
    "\n",
    "# Отправляем DAU за вчера\n",
    "plot_object_2 = io.BytesIO() # создаем файловый объект - картинку\n",
    "plt.savefig(plot_object_2) # сохраняем в него наш график\n",
    "plot_object_2.name = 'views_likes_messages_yesterday.png' # задаем имя нашего файлового объекта\n",
    "plot_object_2.seek(0) # переносим курсор из конца файлового объекта в начало, чтобы прочитать весь файл (чтобы избежать отправки боту пустого файла)\n",
    "\n",
    "plt.close()\n",
    "\n",
    "# Отправляем изображение\n",
    "bot.sendPhoto(chat_id=chat_id, photo=plot_object_2)"
   ]
  },
  {
   "cell_type": "markdown",
   "id": "2e9b8f83-8ec8-4f6c-a6f1-09a64b608a37",
   "metadata": {},
   "source": [
    "### Среднее число просмотров, лайков и сообщений на пользователя за вчера - текст"
   ]
  },
  {
   "cell_type": "code",
   "execution_count": 31,
   "id": "889dd3b4-6ee3-4ec6-b3ba-258b27677d43",
   "metadata": {},
   "outputs": [],
   "source": [
    "# Среднее количество просмотров на пользователя за вчера\n",
    "views_avg_yesterday = df_yesterday.query(\"views>0\").groupby('user_id', as_index=False).agg({'views':'sum'})['views'].mean()\n",
    "# Среднее количество лайков на пользователя за вчера\n",
    "likes_avg_yesterday = df_yesterday.query(\"likes>0\").groupby('user_id', as_index=False).agg({'likes':'sum'})['likes'].mean()\n",
    "# Среднее количество сообщений на пользователя за вчера\n",
    "messages_avg_yesterday = df_yesterday.query(\"messages>0\").groupby('user_id', as_index=False).agg({'messages':'sum'})['messages'].mean()"
   ]
  },
  {
   "cell_type": "code",
   "execution_count": 32,
   "id": "35ce7363-e0bb-4571-b5b2-0488c31c487d",
   "metadata": {},
   "outputs": [
    {
     "name": "stdout",
     "output_type": "stream",
     "text": [
      "Среднее число событий на пользователя вчера (30.04.2022): \n",
      "Просмотры (сред.) - 28.11 \n",
      "Лайки (сред.) - 6.04 \n",
      "Сообщения (сред.) - 8.22\n"
     ]
    }
   ],
   "source": [
    "# Текст с информацией о просмотрах, лайках и сообщениях за вчера\n",
    "message_3 = \"Среднее число событий на пользователя вчера ({}): \\nПросмотры (сред.) - {:,} \\nЛайки (сред.) - {:,} \\nСообщения (сред.) - {:,}\".format(\n",
    "                                        yesterday, round(views_avg_yesterday,2), round(likes_avg_yesterday,2), round(messages_avg_yesterday,2)).replace(',', ' ')\n",
    "print(message_3)"
   ]
  },
  {
   "cell_type": "code",
   "execution_count": 33,
   "id": "848979e4-9aa0-4bac-8d6d-9348eddd3466",
   "metadata": {},
   "outputs": [
    {
     "data": {
      "text/plain": [
       "<telegram.message.Message at 0x7f8e52353640>"
      ]
     },
     "execution_count": 33,
     "metadata": {},
     "output_type": "execute_result"
    }
   ],
   "source": [
    "# Отправим сообщение от бота по необходимому id\n",
    "bot.sendMessage(chat_id=chat_id, text=message_3)"
   ]
  },
  {
   "cell_type": "markdown",
   "id": "5ddfba70-f1c0-45eb-a459-f31bd7f585b7",
   "metadata": {},
   "source": [
    "### Новых пользователей за вчера"
   ]
  },
  {
   "cell_type": "code",
   "execution_count": 34,
   "id": "77bab81c-a5de-4281-87da-0ecc136b027d",
   "metadata": {},
   "outputs": [],
   "source": [
    "# Запрос - новые пользователи за вчера   \n",
    "q = '''\n",
    "SELECT DISTINCT user_id\n",
    "FROM\n",
    "(\n",
    "SELECT \n",
    "    DISTINCT user_id\n",
    "FROM \n",
    "    simulator_20220420.feed_actions\n",
    "WHERE\n",
    "    toDate(time) = yesterday()\n",
    ") as f\n",
    "FULL JOIN\n",
    "(\n",
    "SELECT \n",
    "    DISTINCT user_id\n",
    "FROM \n",
    "    simulator_20220420.message_actions\n",
    "WHERE\n",
    "    toDate(time) = yesterday()\n",
    ") as m \n",
    "USING user_id\n",
    "WHERE\n",
    "    user_id NOT IN\n",
    "        (\n",
    "        SELECT * FROM\n",
    "            (SELECT DISTINCT user_id FROM simulator_20220420.feed_actions \n",
    "             WHERE toDate(time) BETWEEN (SELECT MIN(toDate(time)) FROM simulator_20220420.feed_actions) AND (yesterday() - 1)) f\n",
    "            FULL JOIN\n",
    "            (SELECT DISTINCT user_id FROM simulator_20220420.message_actions \n",
    "             WHERE toDate(time) BETWEEN (SELECT MIN(toDate(time)) FROM simulator_20220420.message_actions) AND (yesterday() - 1)) m\n",
    "            USING user_id\n",
    "        )\n",
    "'''\n",
    "# Новые пользователи за вчера\n",
    "# Сохраним результат запроса в pandas df\n",
    "df_new_users_yesterday = pandahouse.read_clickhouse(q, connection=connection)\n",
    "# df_new_users_yesterday"
   ]
  },
  {
   "cell_type": "code",
   "execution_count": 35,
   "id": "a874477c-221b-4500-8aaf-9cdef0e70c68",
   "metadata": {},
   "outputs": [],
   "source": [
    "new_users_yesterday = df_new_users_yesterday.user_id.nunique()"
   ]
  },
  {
   "cell_type": "code",
   "execution_count": 36,
   "id": "827e39c0-6412-4067-8aed-8d7b1a8f4440",
   "metadata": {},
   "outputs": [
    {
     "name": "stdout",
     "output_type": "stream",
     "text": [
      "Новых пользователей вчера (30.04.2022) - 2 164\n"
     ]
    }
   ],
   "source": [
    "# Текст с информацией о новых пользователях за вчера\n",
    "message_4 = \"Новых пользователей вчера ({}) - {:,}\".format(\n",
    "                                 yesterday, new_users_yesterday).replace(',', ' ')\n",
    "print(message_4)"
   ]
  },
  {
   "cell_type": "code",
   "execution_count": 37,
   "id": "27d13535-062d-463e-8666-0f8d508d2316",
   "metadata": {},
   "outputs": [
    {
     "data": {
      "text/plain": [
       "<telegram.message.Message at 0x7f8e52353040>"
      ]
     },
     "execution_count": 37,
     "metadata": {},
     "output_type": "execute_result"
    }
   ],
   "source": [
    "# Отправим сообщение от бота по необходимому id\n",
    "bot.sendMessage(chat_id=chat_id, text=message_4)"
   ]
  },
  {
   "cell_type": "markdown",
   "id": "78422c4c-b859-4021-a60f-5382294c6718",
   "metadata": {},
   "source": [
    "## Ключевые метрики за все время"
   ]
  },
  {
   "cell_type": "markdown",
   "id": "fe30a32e-194b-4849-90ef-ff3d9fb92d17",
   "metadata": {
    "tags": []
   },
   "source": [
    "### DAU за все время - график"
   ]
  },
  {
   "cell_type": "code",
   "execution_count": 38,
   "id": "719b4cee-93cc-4eef-98cc-ee271308e319",
   "metadata": {},
   "outputs": [],
   "source": [
    "# Добавим столбец status для разбивки пользователей по группам: только мессенджер, только лента, лента+мессенджер\n",
    "df['status'] = ' '\n",
    "# Только мессенджер\n",
    "df.loc[(df['messages']>0) & (df['views'] + df['likes'] == 0), 'status'] = 'messenger_only'\n",
    "# Только лента новостей\n",
    "df.loc[df['messages']==0, 'status'] = 'feed_only'\n",
    "# Лента новостей + мессенджер\n",
    "df.loc[(df['messages']>0) & (df['views'] + df['likes'] > 0), 'status'] = 'feed+messenger'"
   ]
  },
  {
   "cell_type": "code",
   "execution_count": 39,
   "id": "83c821b3-203f-4cb2-8d0e-b7656feafd1c",
   "metadata": {},
   "outputs": [],
   "source": [
    "# DAU за все время в разрезе ленты (только ленты новостей) и мессенджера\n",
    "DAU_all_time = df.groupby(['day', 'status'], as_index=False)['user_id'].nunique()"
   ]
  },
  {
   "cell_type": "code",
   "execution_count": 40,
   "id": "9555feb5-b07a-4ce1-85e4-263af7cc1cee",
   "metadata": {},
   "outputs": [
    {
     "data": {
      "text/html": [
       "<div>\n",
       "<style scoped>\n",
       "    .dataframe tbody tr th:only-of-type {\n",
       "        vertical-align: middle;\n",
       "    }\n",
       "\n",
       "    .dataframe tbody tr th {\n",
       "        vertical-align: top;\n",
       "    }\n",
       "\n",
       "    .dataframe thead th {\n",
       "        text-align: right;\n",
       "    }\n",
       "</style>\n",
       "<table border=\"1\" class=\"dataframe\">\n",
       "  <thead>\n",
       "    <tr style=\"text-align: right;\">\n",
       "      <th></th>\n",
       "      <th>day</th>\n",
       "      <th>status</th>\n",
       "      <th>user_id</th>\n",
       "    </tr>\n",
       "  </thead>\n",
       "  <tbody>\n",
       "    <tr>\n",
       "      <th>0</th>\n",
       "      <td>2022-03-08</td>\n",
       "      <td>feed+messenger</td>\n",
       "      <td>180</td>\n",
       "    </tr>\n",
       "    <tr>\n",
       "      <th>1</th>\n",
       "      <td>2022-03-08</td>\n",
       "      <td>feed_only</td>\n",
       "      <td>1018</td>\n",
       "    </tr>\n",
       "    <tr>\n",
       "      <th>2</th>\n",
       "      <td>2022-03-08</td>\n",
       "      <td>messenger_only</td>\n",
       "      <td>54</td>\n",
       "    </tr>\n",
       "    <tr>\n",
       "      <th>3</th>\n",
       "      <td>2022-03-09</td>\n",
       "      <td>feed+messenger</td>\n",
       "      <td>267</td>\n",
       "    </tr>\n",
       "    <tr>\n",
       "      <th>4</th>\n",
       "      <td>2022-03-09</td>\n",
       "      <td>feed_only</td>\n",
       "      <td>2058</td>\n",
       "    </tr>\n",
       "  </tbody>\n",
       "</table>\n",
       "</div>"
      ],
      "text/plain": [
       "         day          status  user_id\n",
       "0 2022-03-08  feed+messenger      180\n",
       "1 2022-03-08       feed_only     1018\n",
       "2 2022-03-08  messenger_only       54\n",
       "3 2022-03-09  feed+messenger      267\n",
       "4 2022-03-09       feed_only     2058"
      ]
     },
     "execution_count": 40,
     "metadata": {},
     "output_type": "execute_result"
    }
   ],
   "source": [
    "DAU_all_time.head()"
   ]
  },
  {
   "cell_type": "code",
   "execution_count": 41,
   "id": "5bfbc627-5ce9-43ac-bcbb-0dd7bc9bca98",
   "metadata": {},
   "outputs": [],
   "source": [
    "# Вспомогательные переменные (для оформления отчета)\n",
    "start_date = DAU_all_time['day'].min().strftime('%d.%m')\n",
    "end_date = DAU_all_time['day'].max().strftime('%d.%m')\n",
    "year = DAU_all_time['day'].max().strftime('%Y')"
   ]
  },
  {
   "cell_type": "code",
   "execution_count": 42,
   "id": "390a5b94-8b89-4e5c-9ec8-852a966908fb",
   "metadata": {},
   "outputs": [
    {
     "data": {
      "text/plain": [
       "<telegram.message.Message at 0x7f8e52353c40>"
      ]
     },
     "execution_count": 42,
     "metadata": {},
     "output_type": "execute_result"
    }
   ],
   "source": [
    "# Приветствие - 3\n",
    "message = f\"Ключевые метрики за период {start_date}-{end_date} {year}:\"\n",
    "bot.sendMessage(chat_id=chat_id, text=message)"
   ]
  },
  {
   "cell_type": "code",
   "execution_count": 43,
   "id": "a18d5a3d-80a3-41b6-90cc-75d05d9f0ce5",
   "metadata": {},
   "outputs": [
    {
     "data": {
      "text/plain": [
       "<telegram.message.Message at 0x7f8e52365840>"
      ]
     },
     "execution_count": 43,
     "metadata": {},
     "output_type": "execute_result"
    }
   ],
   "source": [
    "# График DAU за все время\n",
    "sns.set(rc={\"figure.figsize\":(9, 6)})\n",
    "\n",
    "sns.lineplot(x='day', y='user_id', data=DAU_all_time, hue='status', linewidth=3)\n",
    "\n",
    "plt.title(f'DAU за период {start_date}-{end_date} {year}', fontweight='bold')\n",
    "plt.xlabel('Время')\n",
    "plt.ylabel('Количество')\n",
    "plt.xticks(DAU_all_time['day'][::10],  rotation='45')\n",
    "plt.tight_layout() # чтобы все подписи к графика были в окошке графика\n",
    "# plt.show()\n",
    "\n",
    "# Отправляем DAU за все время\n",
    "plot_object_3 = io.BytesIO() # создаем файловый объект - картинку\n",
    "plt.savefig(plot_object_3) # сохраняем в него наш график\n",
    "plot_object_3.name = 'DAU_all_time.png' # задаем имя нашего файлового объекта\n",
    "plot_object_3.seek(0) # переносим курсор из конца файлового объекта в начало, чтобы прочитать весь файл (чтобы избежать отправки боту пустого файла)\n",
    "\n",
    "plt.close()\n",
    "\n",
    "# Отправляем изображение\n",
    "bot.sendPhoto(chat_id=chat_id, photo=plot_object_3)"
   ]
  },
  {
   "cell_type": "markdown",
   "id": "265db281-9b93-481a-a131-4a5226ed5b59",
   "metadata": {},
   "source": [
    "### Просмотры, лайки, сообщения за все время - график"
   ]
  },
  {
   "cell_type": "code",
   "execution_count": 44,
   "id": "2853e35d-2cf7-4f3d-8de0-8f346f6fbb63",
   "metadata": {},
   "outputs": [],
   "source": [
    "# Просмотры, лайки, сообщения за все время\n",
    "vlm_all_time = df[['day','views','likes','messages']].groupby('day', as_index=False).sum(['views','likes','messages'])"
   ]
  },
  {
   "cell_type": "code",
   "execution_count": 45,
   "id": "e791888f-8423-423d-a711-3ed7e30d939c",
   "metadata": {},
   "outputs": [
    {
     "data": {
      "text/plain": [
       "<telegram.message.Message at 0x7f8e529d6a40>"
      ]
     },
     "execution_count": 45,
     "metadata": {},
     "output_type": "execute_result"
    }
   ],
   "source": [
    "# График просмотров, лайков, сообщений за все время\n",
    "sns.set(rc={\"figure.figsize\":(9, 6)})\n",
    "\n",
    "sns.lineplot(x='day', y='views', data=vlm_all_time, linewidth=3)\n",
    "sns.lineplot(x='day', y='likes', data=vlm_all_time, linewidth=3)\n",
    "sns.lineplot(x='day', y='messages', data=vlm_all_time, linewidth=3)\n",
    "\n",
    "plt.title(f'Просмотры, лайки, сообщения за период {start_date}-{end_date} {year}', fontweight='bold')\n",
    "plt.xlabel('Дата')\n",
    "plt.ylabel('Количество')\n",
    "plt.xticks(vlm_all_time['day'][::10])\n",
    "plt.legend(labels=[\"views\",\"likes\", \"messages\"])\n",
    "plt.tight_layout() # чтобы все подписи к графика были в окошке графика\n",
    "# plt.show()\n",
    "\n",
    "# Отправляем просмотры, лайки, сообщения за весь период\n",
    "plot_object_4 = io.BytesIO() # создаем файловый объект - картинку\n",
    "plt.savefig(plot_object_4) # сохраняем в него наш график\n",
    "plot_object_4.name = 'views_likes_messages_all_time.png' # задаем имя нашего файлового объекта\n",
    "plot_object_4.seek(0) # переносим курсор из конца файлового объекта в начало, чтобы прочитать весь файл (чтобы избежать отправки боту пустого файла)\n",
    "\n",
    "plt.close()\n",
    "\n",
    "# Отправляем изображение\n",
    "bot.sendPhoto(chat_id=chat_id, photo=plot_object_4)"
   ]
  },
  {
   "cell_type": "markdown",
   "id": "bb19fc1a-3ed8-4af0-98da-3b5025b660f3",
   "metadata": {},
   "source": [
    "### Среднее число просмотров, лайков, сообщений на пользователя за все время - график"
   ]
  },
  {
   "cell_type": "code",
   "execution_count": 46,
   "id": "e9ffacf9-21ce-440d-8784-5687a6c68287",
   "metadata": {},
   "outputs": [],
   "source": [
    "# Среднее количество просмотров, лайков, сообщений за весь период\n",
    "vlm_avg_all_time = pd.DataFrame() # пустой датафрейм\n",
    "# Среднее просмотров\n",
    "vlm_avg_all_time[['day','views_avg']] = df[['day','views']].query('views>0').groupby('day', as_index=False).mean('views')\n",
    "# Среднее лайков\n",
    "vlm_avg_all_time['likes_avg'] = df[['day','likes']].query('likes>0').groupby('day', as_index=False).mean('likes')['likes']\n",
    "# Среднее сообщений\n",
    "vlm_avg_all_time['messages_avg'] = df[['day','messages']].query('messages>0').groupby('day', as_index=False).mean('messages')['messages']"
   ]
  },
  {
   "cell_type": "code",
   "execution_count": 47,
   "id": "e757a41b-daa3-444a-9799-4c6f5fef7457",
   "metadata": {},
   "outputs": [
    {
     "data": {
      "text/plain": [
       "<telegram.message.Message at 0x7f8e529d6040>"
      ]
     },
     "execution_count": 47,
     "metadata": {},
     "output_type": "execute_result"
    }
   ],
   "source": [
    "# График среднего количества просмотров, лайков, сообщений на пользователя за все время\n",
    "sns.set(rc={\"figure.figsize\":(9, 6)})\n",
    "\n",
    "sns.lineplot(x='day', y='views_avg', data=vlm_avg_all_time, linewidth=3)\n",
    "sns.lineplot(x='day', y='likes_avg', data=vlm_avg_all_time, linewidth=3)\n",
    "sns.lineplot(x='day', y='messages_avg', data=vlm_avg_all_time, linewidth=3)\n",
    "\n",
    "plt.title(f'Среднее число событий на пользователя за период {start_date}-{end_date} {year}', fontweight='bold')\n",
    "plt.xlabel('Дата')\n",
    "plt.ylabel('Количество')\n",
    "plt.xticks(vlm_avg_all_time['day'][::10])\n",
    "plt.legend(labels=[\"avg_views\",\"avg_likes\", \"avg_messages\"])\n",
    "plt.tight_layout() # чтобы все подписи к графика были в окошке графика\n",
    "# plt.show()\n",
    "\n",
    "# Отправляем просмотры, лайки, сообщения за весь период\n",
    "plot_object_5 = io.BytesIO() # создаем файловый объект - картинку\n",
    "plt.savefig(plot_object_5) # сохраняем в него наш график\n",
    "plot_object_5.name = 'avg_views_likes_messages_all_time.png' # задаем имя нашего файлового объекта\n",
    "plot_object_5.seek(0) # переносим курсор из конца файлового объекта в начало, чтобы прочитать весь файл (чтобы избежать отправки боту пустого файла)\n",
    "\n",
    "plt.close()\n",
    "\n",
    "# Отправляем изображение\n",
    "bot.sendPhoto(chat_id=chat_id, photo=plot_object_5)"
   ]
  },
  {
   "cell_type": "markdown",
   "id": "d27c22ce-828e-462f-ad1e-192bc3ac3adc",
   "metadata": {},
   "source": [
    "### Новые пользователи за все время - график"
   ]
  },
  {
   "cell_type": "code",
   "execution_count": 48,
   "id": "1aefeb0c-24de-4f44-82fd-1db4229a2c44",
   "metadata": {},
   "outputs": [],
   "source": [
    "# Новые пользователи по дням\n",
    "new_users_daily = (df.sort_values(by='day').groupby('user_id', as_index=False).first().rename(columns={'day':'birthday'})\n",
    "                  .groupby(['birthday', 'status'], as_index=False).agg({'user_id':'count'}))"
   ]
  },
  {
   "cell_type": "code",
   "execution_count": 49,
   "id": "ec57352f-ceb6-47d0-babd-bff6eeff3c1a",
   "metadata": {},
   "outputs": [
    {
     "data": {
      "text/plain": [
       "Timestamp('2022-03-08 00:00:00')"
      ]
     },
     "execution_count": 49,
     "metadata": {},
     "output_type": "execute_result"
    }
   ],
   "source": [
    "new_users_daily.birthday.min()"
   ]
  },
  {
   "cell_type": "code",
   "execution_count": 50,
   "id": "7b1f301f-f351-4531-b784-27af04577089",
   "metadata": {},
   "outputs": [
    {
     "data": {
      "text/plain": [
       "<telegram.message.Message at 0x7f8e528f3c40>"
      ]
     },
     "execution_count": 50,
     "metadata": {},
     "output_type": "execute_result"
    }
   ],
   "source": [
    "# График новых пользователей приложения за все время по дням\n",
    "sns.set(rc={\"figure.figsize\":(10, 6)})\n",
    "\n",
    "sns.lineplot(x='birthday', y='user_id', data=new_users_daily, linewidth=3)\n",
    "\n",
    "plt.title(f'Новые пользователи приложения по дням за период {start_date}-{end_date} {year}', fontweight='bold')\n",
    "plt.xlabel('Время')\n",
    "plt.ylabel('Количество')\n",
    "plt.xlim([new_users_daily.birthday.min(), new_users_daily.birthday.max()])\n",
    "plt.xticks(new_users_daily['birthday'][::6],  rotation='45')\n",
    "plt.tight_layout() # чтобы все подписи к графика были в окошке графика\n",
    "# plt.show()\n",
    "\n",
    "# Отправляем DAU за все время\n",
    "plot_object_6 = io.BytesIO() # создаем файловый объект - картинку\n",
    "plt.savefig(plot_object_6) # сохраняем в него наш график\n",
    "plot_object_6.name = 'new_users_all_time.png' # задаем имя нашего файлового объекта\n",
    "plot_object_6.seek(0) # переносим курсор из конца файлового объекта в начало, чтобы прочитать весь файл (чтобы избежать отправки боту пустого файла)\n",
    "\n",
    "plt.close()\n",
    "\n",
    "# Отправляем изображение\n",
    "bot.sendPhoto(chat_id=chat_id, photo=plot_object_6)"
   ]
  },
  {
   "cell_type": "markdown",
   "id": "703d7fc0-ad85-4d41-b3b5-816efbb94bea",
   "metadata": {},
   "source": [
    "Fin."
   ]
  }
 ],
 "metadata": {
  "kernelspec": {
   "display_name": "Python 3 (ipykernel)",
   "language": "python",
   "name": "python3"
  },
  "language_info": {
   "codemirror_mode": {
    "name": "ipython",
    "version": 3
   },
   "file_extension": ".py",
   "mimetype": "text/x-python",
   "name": "python",
   "nbconvert_exporter": "python",
   "pygments_lexer": "ipython3",
   "version": "3.8.10"
  }
 },
 "nbformat": 4,
 "nbformat_minor": 5
}
