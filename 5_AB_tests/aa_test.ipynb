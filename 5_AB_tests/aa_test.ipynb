{
 "cells": [
  {
   "cell_type": "markdown",
   "id": "7f088ca4-c203-442c-90a3-224f36d5f946",
   "metadata": {},
   "source": [
    "# Корректно ли работает система сплитования? АА-тест."
   ]
  },
  {
   "cell_type": "markdown",
   "id": "b5018748-5448-4786-8a6b-9758d3af16a0",
   "metadata": {},
   "source": [
    "При проведении АА-теста было бы здорово убедиться в том, что наша система сплитования работает корректно, и ключевая метрика не отличается между 0 и 1 группой не только в конкретно нашем АА-тесте, но и в целом.\n",
    "\n",
    "Мы будем многократно извлекать подвыборки с повторениями из наших данных, проводить t-test, и в конце посмотрим, в каком проценте случаев нам удалось отклонить нулевую гипотезу.\n",
    "\n",
    "У нас есть данные АА-теста с '2022-03-28' по '2022-04-03'. Вам нужно сделать симуляцию, как будто мы провели 10000 АА-тестов. На каждой итерации вам нужно сформировать подвыборки с повторением в 500 юзеров из 2 и 3 экспериментальной группы. Провести сравнение этих подвыборок t-testом.\n",
    "\n",
    "1. Построить гистограмму распределения получившихся 10000 p-values.\n",
    "\n",
    "2. Посчитать, какой процент p values оказался меньше либо равен 0.05\n",
    "\n",
    "3. Написать вывод по проведенному АА-тесту, корректно ли работает наша система сплитования."
   ]
  },
  {
   "cell_type": "code",
   "execution_count": 57,
   "id": "82f6f518-8953-462d-8203-e4c59a26eb34",
   "metadata": {},
   "outputs": [],
   "source": [
    "# Импортируем необходимые библиотеки\n",
    "\n",
    "import pandas as pd\n",
    "import matplotlib.pyplot as plt\n",
    "import seaborn as sns\n",
    "import pandahouse\n",
    "from scipy import stats"
   ]
  },
  {
   "cell_type": "markdown",
   "id": "4d449117-b31e-4e75-a619-bfb9f8e6f247",
   "metadata": {},
   "source": [
    "## Загружаем данные"
   ]
  },
  {
   "cell_type": "code",
   "execution_count": 5,
   "id": "6ce17cf9-4cf0-418b-ad90-8b45a1b0168a",
   "metadata": {},
   "outputs": [],
   "source": [
    "# Загружаем датасет\n",
    "# Подключаемся к БД\n",
    "connection = {\n",
    "    'host': 'https://clickhouse.lab.karpov.courses',\n",
    "    'password': 'dpo_python_2020',\n",
    "    'user': 'student',\n",
    "    'database': 'simulator_20220420'\n",
    "}\n",
    "# Запрос к БД\n",
    "# Данные о количестве пользователей, просмотров, лайков и сообщений в приложении за неделю\n",
    "q = '''\n",
    "    SELECT \n",
    "        exp_group, user_id,  \n",
    "        countIf(action='like') as likes,\n",
    "        countIf(action='view') as views,\n",
    "        countIf(action='like')/countIf(action='view') as ctr\n",
    "    FROM\n",
    "        simulator_20220420.feed_actions\n",
    "    WHERE \n",
    "        (toDate(time) BETWEEN '2022-03-28' AND '2022-04-03') \n",
    "        AND (exp_group IN (2, 3))\n",
    "    GROUP BY\n",
    "        user_id, exp_group\n",
    "'''\n",
    "# Сохраним результат запроса в pandas df\n",
    "df = pandahouse.read_clickhouse(q, connection=connection)"
   ]
  },
  {
   "cell_type": "code",
   "execution_count": 8,
   "id": "bb394b42-edd0-4e7a-ac52-de60a1e52f6c",
   "metadata": {},
   "outputs": [
    {
     "data": {
      "text/html": [
       "<div>\n",
       "<style scoped>\n",
       "    .dataframe tbody tr th:only-of-type {\n",
       "        vertical-align: middle;\n",
       "    }\n",
       "\n",
       "    .dataframe tbody tr th {\n",
       "        vertical-align: top;\n",
       "    }\n",
       "\n",
       "    .dataframe thead th {\n",
       "        text-align: right;\n",
       "    }\n",
       "</style>\n",
       "<table border=\"1\" class=\"dataframe\">\n",
       "  <thead>\n",
       "    <tr style=\"text-align: right;\">\n",
       "      <th></th>\n",
       "      <th>exp_group</th>\n",
       "      <th>user_id</th>\n",
       "      <th>likes</th>\n",
       "      <th>views</th>\n",
       "      <th>ctr</th>\n",
       "    </tr>\n",
       "  </thead>\n",
       "  <tbody>\n",
       "    <tr>\n",
       "      <th>0</th>\n",
       "      <td>3</td>\n",
       "      <td>115383</td>\n",
       "      <td>11</td>\n",
       "      <td>36</td>\n",
       "      <td>0.305556</td>\n",
       "    </tr>\n",
       "    <tr>\n",
       "      <th>1</th>\n",
       "      <td>3</td>\n",
       "      <td>123580</td>\n",
       "      <td>15</td>\n",
       "      <td>92</td>\n",
       "      <td>0.163043</td>\n",
       "    </tr>\n",
       "    <tr>\n",
       "      <th>2</th>\n",
       "      <td>2</td>\n",
       "      <td>131473</td>\n",
       "      <td>26</td>\n",
       "      <td>148</td>\n",
       "      <td>0.175676</td>\n",
       "    </tr>\n",
       "    <tr>\n",
       "      <th>3</th>\n",
       "      <td>2</td>\n",
       "      <td>23985</td>\n",
       "      <td>12</td>\n",
       "      <td>66</td>\n",
       "      <td>0.181818</td>\n",
       "    </tr>\n",
       "    <tr>\n",
       "      <th>4</th>\n",
       "      <td>2</td>\n",
       "      <td>24523</td>\n",
       "      <td>17</td>\n",
       "      <td>120</td>\n",
       "      <td>0.141667</td>\n",
       "    </tr>\n",
       "    <tr>\n",
       "      <th>...</th>\n",
       "      <td>...</td>\n",
       "      <td>...</td>\n",
       "      <td>...</td>\n",
       "      <td>...</td>\n",
       "      <td>...</td>\n",
       "    </tr>\n",
       "    <tr>\n",
       "      <th>17044</th>\n",
       "      <td>3</td>\n",
       "      <td>122008</td>\n",
       "      <td>4</td>\n",
       "      <td>31</td>\n",
       "      <td>0.129032</td>\n",
       "    </tr>\n",
       "    <tr>\n",
       "      <th>17045</th>\n",
       "      <td>2</td>\n",
       "      <td>25383</td>\n",
       "      <td>16</td>\n",
       "      <td>57</td>\n",
       "      <td>0.280702</td>\n",
       "    </tr>\n",
       "    <tr>\n",
       "      <th>17046</th>\n",
       "      <td>3</td>\n",
       "      <td>122190</td>\n",
       "      <td>25</td>\n",
       "      <td>74</td>\n",
       "      <td>0.337838</td>\n",
       "    </tr>\n",
       "    <tr>\n",
       "      <th>17047</th>\n",
       "      <td>2</td>\n",
       "      <td>108927</td>\n",
       "      <td>8</td>\n",
       "      <td>33</td>\n",
       "      <td>0.242424</td>\n",
       "    </tr>\n",
       "    <tr>\n",
       "      <th>17048</th>\n",
       "      <td>2</td>\n",
       "      <td>17310</td>\n",
       "      <td>2</td>\n",
       "      <td>14</td>\n",
       "      <td>0.142857</td>\n",
       "    </tr>\n",
       "  </tbody>\n",
       "</table>\n",
       "<p>17049 rows × 5 columns</p>\n",
       "</div>"
      ],
      "text/plain": [
       "       exp_group  user_id  likes  views       ctr\n",
       "0              3   115383     11     36  0.305556\n",
       "1              3   123580     15     92  0.163043\n",
       "2              2   131473     26    148  0.175676\n",
       "3              2    23985     12     66  0.181818\n",
       "4              2    24523     17    120  0.141667\n",
       "...          ...      ...    ...    ...       ...\n",
       "17044          3   122008      4     31  0.129032\n",
       "17045          2    25383     16     57  0.280702\n",
       "17046          3   122190     25     74  0.337838\n",
       "17047          2   108927      8     33  0.242424\n",
       "17048          2    17310      2     14  0.142857\n",
       "\n",
       "[17049 rows x 5 columns]"
      ]
     },
     "execution_count": 8,
     "metadata": {},
     "output_type": "execute_result"
    }
   ],
   "source": [
    "df"
   ]
  },
  {
   "cell_type": "markdown",
   "id": "38ff9eb1-4416-437a-a159-37efb05e8b29",
   "metadata": {},
   "source": [
    "## EDA"
   ]
  },
  {
   "cell_type": "markdown",
   "id": "12e6c859-5084-487f-94b8-c29793e0e35a",
   "metadata": {},
   "source": [
    "Проверим наши экспериментальные группы (2 и 3) на \"одинаковость\"."
   ]
  },
  {
   "cell_type": "code",
   "execution_count": 21,
   "id": "dbfee204-3dea-443d-84e7-3bf98320d1a3",
   "metadata": {},
   "outputs": [
    {
     "data": {
      "text/plain": [
       "<Figure size 864x432 with 0 Axes>"
      ]
     },
     "metadata": {},
     "output_type": "display_data"
    }
   ],
   "source": [
    "# Зададим параметры графиков\n",
    "sns.set(rc={\"figure.figsize\":(12, 6)}) \n",
    "plt.tight_layout()"
   ]
  },
  {
   "cell_type": "code",
   "execution_count": 24,
   "id": "b4f29581-1c01-4bd7-9e93-d168732fa4fa",
   "metadata": {},
   "outputs": [
    {
     "data": {
      "image/png": "[encoded data removed]",
      "text/plain": [
       "<Figure size 864x432 with 1 Axes>"
      ]
     },
     "metadata": {},
     "output_type": "display_data"
    }
   ],
   "source": [
    "# Проверяем по CTR\n",
    "ax = sns.histplot(data=df, x='ctr', hue='exp_group', palette=['r', 'b'])"
   ]
  },
  {
   "cell_type": "markdown",
   "id": "0b6f9892-842b-44f1-abd3-d04446cd7c91",
   "metadata": {},
   "source": [
    "Распределение отдаленно похоже на нормальное, также есть выбросы.  \n",
    "Визуально обе группы похожи. Проверим это t-тестом и тестом Манна-Уитни."
   ]
  },
  {
   "cell_type": "code",
   "execution_count": 30,
   "id": "4a0af0d2-ff11-4457-a2fc-fbede597c324",
   "metadata": {},
   "outputs": [
    {
     "data": {
      "text/plain": [
       "Ttest_indResult(statistic=-0.7393597924958364, pvalue=0.45969873156476293)"
      ]
     },
     "execution_count": 30,
     "metadata": {},
     "output_type": "execute_result"
    }
   ],
   "source": [
    "# t-критерий Стьюдента\n",
    "# H0 - средние двух групп равны; \n",
    "# H1 - средние двух групп не равны\n",
    "stats.ttest_ind(df[df['exp_group']==2].ctr, \n",
    "                df[df['exp_group']==3].ctr, \n",
    "                equal_var=False)"
   ]
  },
  {
   "cell_type": "code",
   "execution_count": 31,
   "id": "b9bc0cf4-3c32-49e2-be35-fa694df24f4c",
   "metadata": {},
   "outputs": [
    {
     "data": {
      "text/plain": [
       "MannwhitneyuResult(statistic=36124728.5, pvalue=0.5177480614337441)"
      ]
     },
     "execution_count": 31,
     "metadata": {},
     "output_type": "execute_result"
    }
   ],
   "source": [
    "# # тест Манна-Уитни\n",
    "# # H0 - сумма рангов в обеих группах [примерно] равна; \n",
    "# # H1 - сумма рангов не равна\n",
    "# stats.mannwhitneyu(df[df.exp_group == 2].ctr, \n",
    "#                    df[df.exp_group == 3].ctr)"
   ]
  },
  {
   "cell_type": "markdown",
   "id": "964099cc-f4de-4304-be2c-b4133e354738",
   "metadata": {},
   "source": [
    "По результатам обоих тестов можем принять H0.  \n",
    "Но это один АА-тест. Чтобы получить представление о генеральной совокупности каждой из групп, проведем 10000 тестов."
   ]
  },
  {
   "cell_type": "markdown",
   "id": "731897ee-80c5-4a39-981a-26f096022d86",
   "metadata": {},
   "source": [
    "## Симуляция 10000 АА-тестов"
   ]
  },
  {
   "cell_type": "code",
   "execution_count": 34,
   "id": "cfeacfab-e39a-4d15-bc9a-7bff7847755e",
   "metadata": {},
   "outputs": [
    {
     "name": "stdout",
     "output_type": "stream",
     "text": [
      "CPU times: user 31 s, sys: 13.3 ms, total: 31 s\n",
      "Wall time: 31 s\n"
     ]
    }
   ],
   "source": [
    "# Симуляция 10000 АА-тестов на выборках по 500 пользователей из каждой группы\n",
    "n_tests = 10000\n",
    "n_samples = 500\n",
    "p_values_list = []\n",
    "for i in range(n_tests):\n",
    "    group_2 = df[df['exp_group']==2].ctr.sample(n_samples, replace=True)\n",
    "    group_3 = df[df['exp_group']==3].ctr.sample(n_samples, replace=True)\n",
    "    # Т-тест\n",
    "    p_value = stats.ttest_ind(group_2, group_3, equal_var=False)[1]\n",
    "    p_values_list.append(p_value)"
   ]
  },
  {
   "cell_type": "code",
   "execution_count": 38,
   "id": "b5255bdb-2530-4a8c-9b3d-b376df548d76",
   "metadata": {},
   "outputs": [
    {
     "data": {
      "text/plain": [
       "[0.6373527513780219,\n",
       " 0.13007506819340273,\n",
       " 0.08019333378329141,\n",
       " 0.8769837437668251,\n",
       " 0.1700037206389963]"
      ]
     },
     "execution_count": 38,
     "metadata": {},
     "output_type": "execute_result"
    }
   ],
   "source": [
    "p_values_list[:5]"
   ]
  },
  {
   "cell_type": "markdown",
   "id": "97d40814-991b-4dc3-a4b7-2e1d53fe91fe",
   "metadata": {},
   "source": [
    "### 1. Гистограмма распределения получившихся 10000 p-values"
   ]
  },
  {
   "cell_type": "code",
   "execution_count": 56,
   "id": "c526d31f-bbef-4dbd-8bbd-f8cc59d4c804",
   "metadata": {},
   "outputs": [
    {
     "data": {
      "image/png": "[encoded data removed]",
      "text/plain": [
       "<Figure size 864x432 with 1 Axes>"
      ]
     },
     "metadata": {},
     "output_type": "display_data"
    }
   ],
   "source": [
    "ax = sns.histplot(p_values_list, bins=20)"
   ]
  },
  {
   "cell_type": "markdown",
   "id": "b61c8926-09c1-4901-b2c6-50c25f2bff95",
   "metadata": {},
   "source": [
    "### 2. Какой процент p values оказался меньше либо равен 0.05"
   ]
  },
  {
   "cell_type": "code",
   "execution_count": 50,
   "id": "cfa5f712-9781-42a2-9202-fa49d991d83d",
   "metadata": {},
   "outputs": [
    {
     "name": "stdout",
     "output_type": "stream",
     "text": [
      "Всего p-values <= 0.05: 5.57%\n"
     ]
    }
   ],
   "source": [
    "p_values = pd.Series(p_values_list)\n",
    "prcnt = 100 * len(p_values[p_values<=0.05]) / len(p_values)\n",
    "print(\"Всего p-values <= 0.05:\", f\"{prcnt}%\")"
   ]
  },
  {
   "cell_type": "markdown",
   "id": "a7431f0c-ad91-47b2-b766-e67a5b8896c2",
   "metadata": {},
   "source": [
    "### 3. Вывод"
   ]
  },
  {
   "cell_type": "markdown",
   "id": "f08113c7-2676-4565-b952-0a59b1727b0d",
   "metadata": {},
   "source": [
    "* Распределение p-values равномерное.\n",
    "* Всего в 5.57% случаев p-value оказалось ниже или равно 0.05.  \n",
    "\n",
    "Следовательно, система сплитования работает корректно - можем тестировать новые функции на группах 2 и 3."
   ]
  }
 ],
 "metadata": {
  "kernelspec": {
   "display_name": "Python 3 (ipykernel)",
   "language": "python",
   "name": "python3"
  },
  "language_info": {
   "codemirror_mode": {
    "name": "ipython",
    "version": 3
   },
   "file_extension": ".py",
   "mimetype": "text/x-python",
   "name": "python",
   "nbconvert_exporter": "python",
   "pygments_lexer": "ipython3",
   "version": "3.9.12"
  }
 },
 "nbformat": 4,
 "nbformat_minor": 5
}
