{
 "cells": [
  {
   "cell_type": "markdown",
   "id": "a7430ae5-2180-41b7-96ba-d099e0d246e2",
   "metadata": {},
   "source": [
    "# Тест по метрике linearized likes"
   ]
  },
  {
   "cell_type": "markdown",
   "id": "84432f6c-6d9c-4efb-b0c0-f59fbdf2a1d2",
   "metadata": {},
   "source": [
    "Метод *linearized likes* для увеличения чувствительности теста:\n",
    "* Считаем общий CTR в контрольной группе  𝐶𝑇𝑅𝑐𝑜𝑛𝑡𝑟𝑜𝑙=𝑠𝑢𝑚(𝑙𝑖𝑘𝑒𝑠)/𝑠𝑢𝑚(𝑣𝑖𝑒𝑤𝑠)\n",
    "* Посчитаем в обеих группах поюзерную метрику  𝑙𝑖𝑛𝑒𝑎𝑟𝑖𝑧𝑒𝑑_𝑙𝑖𝑘𝑒𝑠=𝑙𝑖𝑘𝑒𝑠−𝐶𝑇𝑅𝑐𝑜𝑛𝑡𝑟𝑜𝑙∗𝑣𝑖𝑒𝑤𝑠\n",
    "* После чего сравним  t-тестом отличия в группах по метрике 𝑙𝑖𝑛𝑒𝑎𝑟𝑖𝑧𝑒𝑑_𝑙𝑖𝑘𝑒𝑠  \n",
    "\n",
    "Если тест на метрике *linearized likes* «прокрасится» и увидит изменения, значит изменения есть и в метрике исходной (то есть в лайках на пользователя и в пользовательских CTR)."
   ]
  },
  {
   "cell_type": "markdown",
   "id": "3daade7b-fb65-4a8b-9d7e-2dc6e140402b",
   "metadata": {},
   "source": [
    "**Задачи:**\n",
    "1. Проанализируйте тест между группами 0 и 3 по метрике линеаризованных лайков. Видно ли отличие? Стало ли 𝑝−𝑣𝑎𝑙𝑢𝑒 меньше?\n",
    "2. Проанализируйте тест между группами 1 и 2 по метрике линеаризованных лайков. Видно ли отличие? Стало ли 𝑝−𝑣𝑎𝑙𝑢𝑒 меньше?"
   ]
  },
  {
   "cell_type": "code",
   "execution_count": 1,
   "id": "8e6247fd-7982-4c61-be84-c48b3ffa95b6",
   "metadata": {},
   "outputs": [],
   "source": [
    "# Импортируем необходимые библиотеки\n",
    "\n",
    "import pandas as pd\n",
    "import matplotlib.pyplot as plt\n",
    "import seaborn as sns\n",
    "import pandahouse\n",
    "from scipy import stats\n",
    "import numpy as np"
   ]
  },
  {
   "cell_type": "markdown",
   "id": "691fa3ac-373c-491b-985d-5055f1ce30a8",
   "metadata": {},
   "source": [
    "## Загружаем данные"
   ]
  },
  {
   "cell_type": "code",
   "execution_count": 2,
   "id": "10872fd7-55fa-48b7-97f4-a30e082ff0e5",
   "metadata": {},
   "outputs": [],
   "source": [
    "# Загружаем датасет\n",
    "# Подключаемся к БД\n",
    "connection = {\n",
    "    'host': 'https://clickhouse.lab.karpov.courses',\n",
    "    'password': 'dpo_python_2020',\n",
    "    'user': 'student',\n",
    "    'database': 'simulator_20220420'\n",
    "}\n",
    "# Запрос к БД\n",
    "# Данные о количестве пользователей, просмотров, лайков и сообщений в приложении за неделю\n",
    "q = '''\n",
    "    SELECT \n",
    "        exp_group, user_id, \n",
    "        countIf(action='like') as likes,\n",
    "        countIf(action='view') as views,\n",
    "        countIf(action='like')/countIf(action='view') as ctr\n",
    "    FROM\n",
    "        simulator_20220420.feed_actions\n",
    "    WHERE \n",
    "        (toDate(time) BETWEEN '2022-04-04' AND '2022-04-10') \n",
    "        AND (exp_group IN (0, 1, 2, 3))\n",
    "    GROUP BY\n",
    "        user_id, exp_group\n",
    "'''\n",
    "# Сохраним результат запроса в pandas df\n",
    "df = pandahouse.read_clickhouse(q, connection=connection)"
   ]
  },
  {
   "cell_type": "code",
   "execution_count": 3,
   "id": "8892f561-4d6a-4df0-9462-1b92fa4a7159",
   "metadata": {},
   "outputs": [
    {
     "data": {
      "text/html": [
       "<div>\n",
       "<style scoped>\n",
       "    .dataframe tbody tr th:only-of-type {\n",
       "        vertical-align: middle;\n",
       "    }\n",
       "\n",
       "    .dataframe tbody tr th {\n",
       "        vertical-align: top;\n",
       "    }\n",
       "\n",
       "    .dataframe thead th {\n",
       "        text-align: right;\n",
       "    }\n",
       "</style>\n",
       "<table border=\"1\" class=\"dataframe\">\n",
       "  <thead>\n",
       "    <tr style=\"text-align: right;\">\n",
       "      <th></th>\n",
       "      <th>exp_group</th>\n",
       "      <th>user_id</th>\n",
       "      <th>likes</th>\n",
       "      <th>views</th>\n",
       "      <th>ctr</th>\n",
       "    </tr>\n",
       "  </thead>\n",
       "  <tbody>\n",
       "    <tr>\n",
       "      <th>0</th>\n",
       "      <td>3</td>\n",
       "      <td>115383</td>\n",
       "      <td>9</td>\n",
       "      <td>30</td>\n",
       "      <td>0.300000</td>\n",
       "    </tr>\n",
       "    <tr>\n",
       "      <th>1</th>\n",
       "      <td>1</td>\n",
       "      <td>18392</td>\n",
       "      <td>7</td>\n",
       "      <td>32</td>\n",
       "      <td>0.218750</td>\n",
       "    </tr>\n",
       "    <tr>\n",
       "      <th>2</th>\n",
       "      <td>3</td>\n",
       "      <td>123580</td>\n",
       "      <td>13</td>\n",
       "      <td>48</td>\n",
       "      <td>0.270833</td>\n",
       "    </tr>\n",
       "    <tr>\n",
       "      <th>3</th>\n",
       "      <td>2</td>\n",
       "      <td>131473</td>\n",
       "      <td>14</td>\n",
       "      <td>134</td>\n",
       "      <td>0.104478</td>\n",
       "    </tr>\n",
       "    <tr>\n",
       "      <th>4</th>\n",
       "      <td>2</td>\n",
       "      <td>32420</td>\n",
       "      <td>26</td>\n",
       "      <td>128</td>\n",
       "      <td>0.203125</td>\n",
       "    </tr>\n",
       "    <tr>\n",
       "      <th>...</th>\n",
       "      <td>...</td>\n",
       "      <td>...</td>\n",
       "      <td>...</td>\n",
       "      <td>...</td>\n",
       "      <td>...</td>\n",
       "    </tr>\n",
       "    <tr>\n",
       "      <th>40074</th>\n",
       "      <td>0</td>\n",
       "      <td>27030</td>\n",
       "      <td>8</td>\n",
       "      <td>39</td>\n",
       "      <td>0.205128</td>\n",
       "    </tr>\n",
       "    <tr>\n",
       "      <th>40075</th>\n",
       "      <td>3</td>\n",
       "      <td>122758</td>\n",
       "      <td>30</td>\n",
       "      <td>198</td>\n",
       "      <td>0.151515</td>\n",
       "    </tr>\n",
       "    <tr>\n",
       "      <th>40076</th>\n",
       "      <td>1</td>\n",
       "      <td>132567</td>\n",
       "      <td>45</td>\n",
       "      <td>296</td>\n",
       "      <td>0.152027</td>\n",
       "    </tr>\n",
       "    <tr>\n",
       "      <th>40077</th>\n",
       "      <td>3</td>\n",
       "      <td>122190</td>\n",
       "      <td>19</td>\n",
       "      <td>65</td>\n",
       "      <td>0.292308</td>\n",
       "    </tr>\n",
       "    <tr>\n",
       "      <th>40078</th>\n",
       "      <td>2</td>\n",
       "      <td>17310</td>\n",
       "      <td>9</td>\n",
       "      <td>82</td>\n",
       "      <td>0.109756</td>\n",
       "    </tr>\n",
       "  </tbody>\n",
       "</table>\n",
       "<p>40079 rows × 5 columns</p>\n",
       "</div>"
      ],
      "text/plain": [
       "       exp_group  user_id  likes  views       ctr\n",
       "0              3   115383      9     30  0.300000\n",
       "1              1    18392      7     32  0.218750\n",
       "2              3   123580     13     48  0.270833\n",
       "3              2   131473     14    134  0.104478\n",
       "4              2    32420     26    128  0.203125\n",
       "...          ...      ...    ...    ...       ...\n",
       "40074          0    27030      8     39  0.205128\n",
       "40075          3   122758     30    198  0.151515\n",
       "40076          1   132567     45    296  0.152027\n",
       "40077          3   122190     19     65  0.292308\n",
       "40078          2    17310      9     82  0.109756\n",
       "\n",
       "[40079 rows x 5 columns]"
      ]
     },
     "execution_count": 3,
     "metadata": {},
     "output_type": "execute_result"
    }
   ],
   "source": [
    "df"
   ]
  },
  {
   "cell_type": "markdown",
   "id": "c05b6226-05ba-4a6a-a9f4-462e7e4a8e98",
   "metadata": {},
   "source": [
    "## 1. Тест между группами 0 и 3"
   ]
  },
  {
   "cell_type": "code",
   "execution_count": 4,
   "id": "ef210a93-0154-49a2-acf1-91f07933f859",
   "metadata": {},
   "outputs": [],
   "source": [
    "# Сохраним необходимые данные в новый df\n",
    "df_03 = df.query('exp_group==0 or exp_group==3').copy()"
   ]
  },
  {
   "cell_type": "code",
   "execution_count": 5,
   "id": "aaed0dea-9909-4db5-b188-e22204ab2fba",
   "metadata": {},
   "outputs": [
    {
     "data": {
      "text/html": [
       "<div>\n",
       "<style scoped>\n",
       "    .dataframe tbody tr th:only-of-type {\n",
       "        vertical-align: middle;\n",
       "    }\n",
       "\n",
       "    .dataframe tbody tr th {\n",
       "        vertical-align: top;\n",
       "    }\n",
       "\n",
       "    .dataframe thead th {\n",
       "        text-align: right;\n",
       "    }\n",
       "</style>\n",
       "<table border=\"1\" class=\"dataframe\">\n",
       "  <thead>\n",
       "    <tr style=\"text-align: right;\">\n",
       "      <th></th>\n",
       "      <th>exp_group</th>\n",
       "      <th>user_id</th>\n",
       "      <th>likes</th>\n",
       "      <th>views</th>\n",
       "      <th>ctr</th>\n",
       "    </tr>\n",
       "  </thead>\n",
       "  <tbody>\n",
       "    <tr>\n",
       "      <th>0</th>\n",
       "      <td>3</td>\n",
       "      <td>115383</td>\n",
       "      <td>9</td>\n",
       "      <td>30</td>\n",
       "      <td>0.300000</td>\n",
       "    </tr>\n",
       "    <tr>\n",
       "      <th>2</th>\n",
       "      <td>3</td>\n",
       "      <td>123580</td>\n",
       "      <td>13</td>\n",
       "      <td>48</td>\n",
       "      <td>0.270833</td>\n",
       "    </tr>\n",
       "    <tr>\n",
       "      <th>6</th>\n",
       "      <td>0</td>\n",
       "      <td>30319</td>\n",
       "      <td>21</td>\n",
       "      <td>110</td>\n",
       "      <td>0.190909</td>\n",
       "    </tr>\n",
       "    <tr>\n",
       "      <th>8</th>\n",
       "      <td>3</td>\n",
       "      <td>118359</td>\n",
       "      <td>7</td>\n",
       "      <td>38</td>\n",
       "      <td>0.184211</td>\n",
       "    </tr>\n",
       "    <tr>\n",
       "      <th>10</th>\n",
       "      <td>0</td>\n",
       "      <td>7626</td>\n",
       "      <td>14</td>\n",
       "      <td>39</td>\n",
       "      <td>0.358974</td>\n",
       "    </tr>\n",
       "  </tbody>\n",
       "</table>\n",
       "</div>"
      ],
      "text/plain": [
       "    exp_group  user_id  likes  views       ctr\n",
       "0           3   115383      9     30  0.300000\n",
       "2           3   123580     13     48  0.270833\n",
       "6           0    30319     21    110  0.190909\n",
       "8           3   118359      7     38  0.184211\n",
       "10          0     7626     14     39  0.358974"
      ]
     },
     "execution_count": 5,
     "metadata": {},
     "output_type": "execute_result"
    }
   ],
   "source": [
    "# 0 - контрольная группа; 3 - экспериментальная группа\n",
    "df_03.head()"
   ]
  },
  {
   "cell_type": "code",
   "execution_count": 6,
   "id": "383cf897-57a9-498d-8059-9d78ecbbbeb8",
   "metadata": {},
   "outputs": [],
   "source": [
    "# Рассчитаем общий CTR в контрольной группе\n",
    "ctr_control_03 = df_03[df_03['exp_group']==0].likes.sum() / df_03[df_03['exp_group']==0].views.sum()\n",
    "# ctr_control_03"
   ]
  },
  {
   "cell_type": "code",
   "execution_count": 7,
   "id": "03bcb31b-2720-4718-b183-bf1018316d5c",
   "metadata": {},
   "outputs": [],
   "source": [
    "# Посчитаем в обеих группах поюзерную метрику \n",
    "linearized_likes_0 = df_03[df_03['exp_group']==0].likes - ctr_control_03 * df_03[df_03['exp_group']==0].views\n",
    "linearized_likes_3 = df_03[df_03['exp_group']==3].likes - ctr_control_03 * df_03[df_03['exp_group']==3].views\n",
    "# Добавим linearized likes в df\n",
    "df_03.loc[df_03['exp_group']==0, 'linearized_likes'] = linearized_likes_0\n",
    "df_03.loc[df_03['exp_group']==3, 'linearized_likes'] = linearized_likes_3"
   ]
  },
  {
   "cell_type": "code",
   "execution_count": 8,
   "id": "bd248e07-6010-45b4-a8aa-81ebc0b321c0",
   "metadata": {},
   "outputs": [
    {
     "data": {
      "text/html": [
       "<div>\n",
       "<style scoped>\n",
       "    .dataframe tbody tr th:only-of-type {\n",
       "        vertical-align: middle;\n",
       "    }\n",
       "\n",
       "    .dataframe tbody tr th {\n",
       "        vertical-align: top;\n",
       "    }\n",
       "\n",
       "    .dataframe thead th {\n",
       "        text-align: right;\n",
       "    }\n",
       "</style>\n",
       "<table border=\"1\" class=\"dataframe\">\n",
       "  <thead>\n",
       "    <tr style=\"text-align: right;\">\n",
       "      <th></th>\n",
       "      <th>exp_group</th>\n",
       "      <th>user_id</th>\n",
       "      <th>likes</th>\n",
       "      <th>views</th>\n",
       "      <th>ctr</th>\n",
       "      <th>linearized_likes</th>\n",
       "    </tr>\n",
       "  </thead>\n",
       "  <tbody>\n",
       "    <tr>\n",
       "      <th>0</th>\n",
       "      <td>3</td>\n",
       "      <td>115383</td>\n",
       "      <td>9</td>\n",
       "      <td>30</td>\n",
       "      <td>0.300000</td>\n",
       "      <td>2.752916</td>\n",
       "    </tr>\n",
       "    <tr>\n",
       "      <th>2</th>\n",
       "      <td>3</td>\n",
       "      <td>123580</td>\n",
       "      <td>13</td>\n",
       "      <td>48</td>\n",
       "      <td>0.270833</td>\n",
       "      <td>3.004666</td>\n",
       "    </tr>\n",
       "    <tr>\n",
       "      <th>6</th>\n",
       "      <td>0</td>\n",
       "      <td>30319</td>\n",
       "      <td>21</td>\n",
       "      <td>110</td>\n",
       "      <td>0.190909</td>\n",
       "      <td>-1.905973</td>\n",
       "    </tr>\n",
       "    <tr>\n",
       "      <th>8</th>\n",
       "      <td>3</td>\n",
       "      <td>118359</td>\n",
       "      <td>7</td>\n",
       "      <td>38</td>\n",
       "      <td>0.184211</td>\n",
       "      <td>-0.912973</td>\n",
       "    </tr>\n",
       "    <tr>\n",
       "      <th>10</th>\n",
       "      <td>0</td>\n",
       "      <td>7626</td>\n",
       "      <td>14</td>\n",
       "      <td>39</td>\n",
       "      <td>0.358974</td>\n",
       "      <td>5.878791</td>\n",
       "    </tr>\n",
       "  </tbody>\n",
       "</table>\n",
       "</div>"
      ],
      "text/plain": [
       "    exp_group  user_id  likes  views       ctr  linearized_likes\n",
       "0           3   115383      9     30  0.300000          2.752916\n",
       "2           3   123580     13     48  0.270833          3.004666\n",
       "6           0    30319     21    110  0.190909         -1.905973\n",
       "8           3   118359      7     38  0.184211         -0.912973\n",
       "10          0     7626     14     39  0.358974          5.878791"
      ]
     },
     "execution_count": 8,
     "metadata": {},
     "output_type": "execute_result"
    }
   ],
   "source": [
    "df_03.head()"
   ]
  },
  {
   "cell_type": "markdown",
   "id": "66eb34d4-13a4-4588-a1f3-5ffd695b4112",
   "metadata": {},
   "source": [
    "### 1.1. Тесты"
   ]
  },
  {
   "cell_type": "markdown",
   "id": "ca5ecd69-ba89-4004-be87-179873846010",
   "metadata": {},
   "source": [
    "**H0 - значимых различий метрик в группах нет;  \n",
    "H1 - значимые различия между группами есть.**"
   ]
  },
  {
   "cell_type": "markdown",
   "id": "a69e201f-58af-4ee1-9bed-d94c79bf3e62",
   "metadata": {},
   "source": [
    "#### t-тест Стьюдента"
   ]
  },
  {
   "cell_type": "code",
   "execution_count": 9,
   "id": "e08256f8-7fec-4677-8375-509c85d1a860",
   "metadata": {},
   "outputs": [
    {
     "data": {
      "text/plain": [
       "Ttest_indResult(statistic=-15.214995460903827, pvalue=5.4914249479690016e-52)"
      ]
     },
     "execution_count": 9,
     "metadata": {},
     "output_type": "execute_result"
    }
   ],
   "source": [
    "# Сравним t-тестом отличия в группах по метрике 𝑙𝑖𝑛𝑒𝑎𝑟𝑖𝑧𝑒𝑑_𝑙𝑖𝑘𝑒𝑠\n",
    "stats.ttest_ind(linearized_likes_0, \n",
    "                linearized_likes_3,\n",
    "                equal_var=False)"
   ]
  },
  {
   "cell_type": "code",
   "execution_count": 10,
   "id": "f5ff0cec-5122-4035-8106-db058dca50eb",
   "metadata": {},
   "outputs": [
    {
     "data": {
      "text/plain": [
       "Ttest_indResult(statistic=-13.896870721904069, pvalue=1.055849414662529e-43)"
      ]
     },
     "execution_count": 10,
     "metadata": {},
     "output_type": "execute_result"
    }
   ],
   "source": [
    "# Сравним t-тестом отличия в группах по метрике CTR\n",
    "stats.ttest_ind(df[df['exp_group']==0].ctr, \n",
    "                df[df['exp_group']==3].ctr,\n",
    "                equal_var=False)"
   ]
  },
  {
   "cell_type": "markdown",
   "id": "94d501b1-a94f-4b9d-9b7f-f744f8ce43f8",
   "metadata": {},
   "source": [
    "#### Тест Манна-Уитни"
   ]
  },
  {
   "cell_type": "code",
   "execution_count": 11,
   "id": "1690d8fc-35a7-4163-8f73-17f4dce6ec78",
   "metadata": {},
   "outputs": [
    {
     "data": {
      "text/plain": [
       "MannwhitneyuResult(statistic=43338326.0, pvalue=1.1517315029786597e-63)"
      ]
     },
     "execution_count": 11,
     "metadata": {},
     "output_type": "execute_result"
    }
   ],
   "source": [
    "# Сравним тестом Манна-Уитни отличия в группах по метрике 𝑙𝑖𝑛𝑒𝑎𝑟𝑖𝑧𝑒𝑑_𝑙𝑖𝑘e𝑠\n",
    "stats.mannwhitneyu(linearized_likes_0, \n",
    "                   linearized_likes_3)"
   ]
  },
  {
   "cell_type": "code",
   "execution_count": 12,
   "id": "768f145e-8f69-497d-ba8c-e32f87d0babb",
   "metadata": {},
   "outputs": [
    {
     "data": {
      "text/plain": [
       "MannwhitneyuResult(statistic=43682792.0, pvalue=1.1952055473582936e-57)"
      ]
     },
     "execution_count": 12,
     "metadata": {},
     "output_type": "execute_result"
    }
   ],
   "source": [
    "# Сравним тестом Манна-Уитни отличия в группах по метрике CTR\n",
    "stats.mannwhitneyu(df[df['exp_group']==0].ctr, \n",
    "                   df[df['exp_group']==3].ctr)"
   ]
  },
  {
   "cell_type": "markdown",
   "id": "6dea1725-ae46-4f65-b88f-994f037a3878",
   "metadata": {},
   "source": [
    "### 1.2. Визуализация"
   ]
  },
  {
   "cell_type": "code",
   "execution_count": 13,
   "id": "eb612978-9d98-47e6-a93a-b6dd78cce953",
   "metadata": {},
   "outputs": [
    {
     "data": {
      "text/plain": [
       "<AxesSubplot:xlabel='ctr', ylabel='Count'>"
      ]
     },
     "execution_count": 13,
     "metadata": {},
     "output_type": "execute_result"
    },
    {
     "data": {
      "image/png": "[encoded data removed]",
      "text/plain": [
       "<Figure size 1152x576 with 2 Axes>"
      ]
     },
     "metadata": {
      "needs_background": "light"
     },
     "output_type": "display_data"
    }
   ],
   "source": [
    "# Посмотрим на распределение 𝑙𝑖𝑛𝑒𝑎𝑟𝑖𝑧𝑒𝑑_𝑙𝑖𝑘𝑒𝑠 и CTR в 2-х группах\n",
    "f, axs = plt.subplots(1,2, figsize=(16,8))\n",
    "sns.histplot(df_03, x='linearized_likes', hue='exp_group', palette=['r','b'], ax=axs[0])\n",
    "sns.histplot(df_03, x='ctr', hue='exp_group', palette=['r','b'], ax=axs[1])"
   ]
  },
  {
   "cell_type": "markdown",
   "id": "74d3713d-3904-40c7-9b18-2cee511b3d97",
   "metadata": {
    "tags": []
   },
   "source": [
    "### 1.3. Анализ"
   ]
  },
  {
   "cell_type": "markdown",
   "id": "38e76bb9-da5d-44c8-bf61-6111139a0fbc",
   "metadata": {},
   "source": [
    "* **Оба теста** по обеим метрикам **показали значимые различия** между контрольной (0) и экспериментальной (3) группами. \n",
    "* **p-value** по метрике 𝑙𝑖𝑛𝑒𝑎𝑟𝑖𝑧𝑒𝑑_𝑙𝑖𝑘𝑒𝑠 **стало меньше** по сравнению с метрикой CTR.\n",
    "* Форма распределения метрик примерно одинаковая, но в 𝑙𝑖𝑛𝑒𝑎𝑟𝑖𝑧𝑒𝑑_𝑙𝑖𝑘𝑒𝑠 отсутствуют выбросы по краям."
   ]
  },
  {
   "cell_type": "markdown",
   "id": "6451dfce-1807-4b36-97f3-4ca52ab6e852",
   "metadata": {},
   "source": [
    "## 2. Тест между группами 1 и 2"
   ]
  },
  {
   "cell_type": "code",
   "execution_count": 14,
   "id": "cff0add8-475f-496b-96a5-be56b74142ef",
   "metadata": {},
   "outputs": [],
   "source": [
    "# Сохраним необходимые данные в новый df\n",
    "df_12 = df.query('exp_group==1 or exp_group==2').copy()"
   ]
  },
  {
   "cell_type": "code",
   "execution_count": 15,
   "id": "35435911-8e1d-4f80-8bc8-2832deea5d31",
   "metadata": {},
   "outputs": [
    {
     "data": {
      "text/html": [
       "<div>\n",
       "<style scoped>\n",
       "    .dataframe tbody tr th:only-of-type {\n",
       "        vertical-align: middle;\n",
       "    }\n",
       "\n",
       "    .dataframe tbody tr th {\n",
       "        vertical-align: top;\n",
       "    }\n",
       "\n",
       "    .dataframe thead th {\n",
       "        text-align: right;\n",
       "    }\n",
       "</style>\n",
       "<table border=\"1\" class=\"dataframe\">\n",
       "  <thead>\n",
       "    <tr style=\"text-align: right;\">\n",
       "      <th></th>\n",
       "      <th>exp_group</th>\n",
       "      <th>user_id</th>\n",
       "      <th>likes</th>\n",
       "      <th>views</th>\n",
       "      <th>ctr</th>\n",
       "    </tr>\n",
       "  </thead>\n",
       "  <tbody>\n",
       "    <tr>\n",
       "      <th>1</th>\n",
       "      <td>1</td>\n",
       "      <td>18392</td>\n",
       "      <td>7</td>\n",
       "      <td>32</td>\n",
       "      <td>0.218750</td>\n",
       "    </tr>\n",
       "    <tr>\n",
       "      <th>3</th>\n",
       "      <td>2</td>\n",
       "      <td>131473</td>\n",
       "      <td>14</td>\n",
       "      <td>134</td>\n",
       "      <td>0.104478</td>\n",
       "    </tr>\n",
       "    <tr>\n",
       "      <th>4</th>\n",
       "      <td>2</td>\n",
       "      <td>32420</td>\n",
       "      <td>26</td>\n",
       "      <td>128</td>\n",
       "      <td>0.203125</td>\n",
       "    </tr>\n",
       "    <tr>\n",
       "      <th>5</th>\n",
       "      <td>2</td>\n",
       "      <td>24239</td>\n",
       "      <td>40</td>\n",
       "      <td>90</td>\n",
       "      <td>0.444444</td>\n",
       "    </tr>\n",
       "    <tr>\n",
       "      <th>7</th>\n",
       "      <td>1</td>\n",
       "      <td>27443</td>\n",
       "      <td>2</td>\n",
       "      <td>29</td>\n",
       "      <td>0.068966</td>\n",
       "    </tr>\n",
       "  </tbody>\n",
       "</table>\n",
       "</div>"
      ],
      "text/plain": [
       "   exp_group  user_id  likes  views       ctr\n",
       "1          1    18392      7     32  0.218750\n",
       "3          2   131473     14    134  0.104478\n",
       "4          2    32420     26    128  0.203125\n",
       "5          2    24239     40     90  0.444444\n",
       "7          1    27443      2     29  0.068966"
      ]
     },
     "execution_count": 15,
     "metadata": {},
     "output_type": "execute_result"
    }
   ],
   "source": [
    "# 1 - контрольная группа; 2 - экспериментальная группа\n",
    "df_12.head()"
   ]
  },
  {
   "cell_type": "code",
   "execution_count": 16,
   "id": "802549f8-341f-418a-8ed4-3b1c690c6b59",
   "metadata": {},
   "outputs": [],
   "source": [
    "# Рассчитаем общий CTR в контрольной группе (1)\n",
    "ctr_control_12 = df_12[df_12['exp_group']==1].likes.sum() / df_12[df_12['exp_group']==1].views.sum()\n",
    "# ctr_control_12"
   ]
  },
  {
   "cell_type": "code",
   "execution_count": 17,
   "id": "08f9b514-041e-4af0-af10-5142c0ded51b",
   "metadata": {},
   "outputs": [],
   "source": [
    "# Посчитаем в обеих группах поюзерную метрику \n",
    "linearized_likes_1 = df_12[df_12['exp_group']==1].likes - ctr_control_12 * df_12[df_12['exp_group']==1].views\n",
    "linearized_likes_2 = df_12[df_12['exp_group']==2].likes - ctr_control_12 * df_12[df_12['exp_group']==2].views\n",
    "# Добавим linearized likes в df\n",
    "df_12.loc[df_12['exp_group']==1, 'linearized_likes'] = linearized_likes_1\n",
    "df_12.loc[df_12['exp_group']==2, 'linearized_likes'] = linearized_likes_2"
   ]
  },
  {
   "cell_type": "code",
   "execution_count": 18,
   "id": "797cdb66-86af-4098-b518-774f7dd64be6",
   "metadata": {},
   "outputs": [
    {
     "data": {
      "text/html": [
       "<div>\n",
       "<style scoped>\n",
       "    .dataframe tbody tr th:only-of-type {\n",
       "        vertical-align: middle;\n",
       "    }\n",
       "\n",
       "    .dataframe tbody tr th {\n",
       "        vertical-align: top;\n",
       "    }\n",
       "\n",
       "    .dataframe thead th {\n",
       "        text-align: right;\n",
       "    }\n",
       "</style>\n",
       "<table border=\"1\" class=\"dataframe\">\n",
       "  <thead>\n",
       "    <tr style=\"text-align: right;\">\n",
       "      <th></th>\n",
       "      <th>exp_group</th>\n",
       "      <th>user_id</th>\n",
       "      <th>likes</th>\n",
       "      <th>views</th>\n",
       "      <th>ctr</th>\n",
       "      <th>linearized_likes</th>\n",
       "    </tr>\n",
       "  </thead>\n",
       "  <tbody>\n",
       "    <tr>\n",
       "      <th>1</th>\n",
       "      <td>1</td>\n",
       "      <td>18392</td>\n",
       "      <td>7</td>\n",
       "      <td>32</td>\n",
       "      <td>0.218750</td>\n",
       "      <td>0.343142</td>\n",
       "    </tr>\n",
       "    <tr>\n",
       "      <th>3</th>\n",
       "      <td>2</td>\n",
       "      <td>131473</td>\n",
       "      <td>14</td>\n",
       "      <td>134</td>\n",
       "      <td>0.104478</td>\n",
       "      <td>-13.875592</td>\n",
       "    </tr>\n",
       "    <tr>\n",
       "      <th>4</th>\n",
       "      <td>2</td>\n",
       "      <td>32420</td>\n",
       "      <td>26</td>\n",
       "      <td>128</td>\n",
       "      <td>0.203125</td>\n",
       "      <td>-0.627431</td>\n",
       "    </tr>\n",
       "    <tr>\n",
       "      <th>5</th>\n",
       "      <td>2</td>\n",
       "      <td>24239</td>\n",
       "      <td>40</td>\n",
       "      <td>90</td>\n",
       "      <td>0.444444</td>\n",
       "      <td>21.277588</td>\n",
       "    </tr>\n",
       "    <tr>\n",
       "      <th>7</th>\n",
       "      <td>1</td>\n",
       "      <td>27443</td>\n",
       "      <td>2</td>\n",
       "      <td>29</td>\n",
       "      <td>0.068966</td>\n",
       "      <td>-4.032777</td>\n",
       "    </tr>\n",
       "  </tbody>\n",
       "</table>\n",
       "</div>"
      ],
      "text/plain": [
       "   exp_group  user_id  likes  views       ctr  linearized_likes\n",
       "1          1    18392      7     32  0.218750          0.343142\n",
       "3          2   131473     14    134  0.104478        -13.875592\n",
       "4          2    32420     26    128  0.203125         -0.627431\n",
       "5          2    24239     40     90  0.444444         21.277588\n",
       "7          1    27443      2     29  0.068966         -4.032777"
      ]
     },
     "execution_count": 18,
     "metadata": {},
     "output_type": "execute_result"
    }
   ],
   "source": [
    "df_12.head()"
   ]
  },
  {
   "cell_type": "markdown",
   "id": "2eafc28f-ff23-4f90-ad49-855334abbb8d",
   "metadata": {},
   "source": [
    "### 2.1. Тесты"
   ]
  },
  {
   "cell_type": "markdown",
   "id": "f1b17f56-333a-4555-9d69-9adb21c8a090",
   "metadata": {},
   "source": [
    "**H0 - значимых различий метрик в группах нет;  \n",
    "H1 - значимые различия между группами есть.**"
   ]
  },
  {
   "cell_type": "markdown",
   "id": "5dd7f24f-a66c-478c-8fa5-72cdc76a1c4d",
   "metadata": {
    "tags": []
   },
   "source": [
    "#### t-тест Стьюдента"
   ]
  },
  {
   "cell_type": "code",
   "execution_count": 19,
   "id": "2581dc20-e076-4af1-94dc-2f0689f798c0",
   "metadata": {},
   "outputs": [
    {
     "data": {
      "text/plain": [
       "Ttest_indResult(statistic=6.122579994775974, pvalue=9.439432187037644e-10)"
      ]
     },
     "execution_count": 19,
     "metadata": {},
     "output_type": "execute_result"
    }
   ],
   "source": [
    "# Сравним t-тестом отличия в группах по метрике 𝑙𝑖𝑛𝑒𝑎𝑟𝑖𝑧𝑒𝑑_𝑙𝑖𝑘𝑒𝑠\n",
    "stats.ttest_ind(linearized_likes_1, \n",
    "                linearized_likes_2,\n",
    "                equal_var=False)"
   ]
  },
  {
   "cell_type": "code",
   "execution_count": 20,
   "id": "8bb50ad3-d64a-47c9-a347-da769bcff023",
   "metadata": {},
   "outputs": [
    {
     "data": {
      "text/plain": [
       "Ttest_indResult(statistic=0.7094392041270485, pvalue=0.4780623130874935)"
      ]
     },
     "execution_count": 20,
     "metadata": {},
     "output_type": "execute_result"
    }
   ],
   "source": [
    "# Сравним t-тестом отличия в группах по метрике CTR\n",
    "stats.ttest_ind(df[df['exp_group']==1].ctr, \n",
    "                df[df['exp_group']==2].ctr,\n",
    "                equal_var=False)"
   ]
  },
  {
   "cell_type": "markdown",
   "id": "0f3f4f2e-3f5f-48bd-8dd2-297fb77cc42b",
   "metadata": {},
   "source": [
    "* Тест Стьюдента по метрике CTR не позволяет утверждать, что имеются значимые различия (p-value > 0.05) между контрольной и экспериментальной группами. \n",
    "* А по метрике 𝑙𝑖𝑛𝑒𝑎𝑟𝑖𝑧𝑒𝑑_𝑙𝑖𝑘𝑒𝑠 - наоборот, тест показывает статистически значимые различия."
   ]
  },
  {
   "cell_type": "markdown",
   "id": "c1998740-5e24-4040-8796-263ea9c215e4",
   "metadata": {},
   "source": [
    "#### Тест Манна-Уитни"
   ]
  },
  {
   "cell_type": "code",
   "execution_count": 21,
   "id": "195b9fbe-0128-465e-bf76-a3ac6db21893",
   "metadata": {},
   "outputs": [
    {
     "data": {
      "text/plain": [
       "MannwhitneyuResult(statistic=54534537.0, pvalue=9.404319579641738e-27)"
      ]
     },
     "execution_count": 21,
     "metadata": {},
     "output_type": "execute_result"
    }
   ],
   "source": [
    "# Сравним тестом Манна-Уитни отличия в группах по метрике 𝑙𝑖𝑛𝑒𝑎𝑟𝑖𝑧𝑒𝑑_𝑙𝑖𝑘e𝑠\n",
    "stats.mannwhitneyu(linearized_likes_1, \n",
    "                   linearized_likes_2)"
   ]
  },
  {
   "cell_type": "code",
   "execution_count": 22,
   "id": "a933fbec-80a2-4ae7-9d86-ceeef16269fc",
   "metadata": {},
   "outputs": [
    {
     "data": {
      "text/plain": [
       "MannwhitneyuResult(statistic=56601260.5, pvalue=6.0376484617779035e-56)"
      ]
     },
     "execution_count": 22,
     "metadata": {},
     "output_type": "execute_result"
    }
   ],
   "source": [
    "# Сравним тестом Манна-Уитни отличия в группах по метрике CTR\n",
    "stats.mannwhitneyu(df[df['exp_group']==1].ctr, \n",
    "                   df[df['exp_group']==2].ctr)"
   ]
  },
  {
   "cell_type": "markdown",
   "id": "344fc6da-d56b-46bb-b7cb-5f4e7bf0fdb1",
   "metadata": {},
   "source": [
    "Тест Манна-Уитни по обеим метрикам показывает значимые различия между контрольной (1) и экспериментальной (2) группами."
   ]
  },
  {
   "cell_type": "markdown",
   "id": "7b91835d-264c-4427-93f3-5912d54f4be6",
   "metadata": {},
   "source": [
    "### 2.2. Визуализация"
   ]
  },
  {
   "cell_type": "code",
   "execution_count": 23,
   "id": "c5ed7f9e-4872-4586-83e6-bb04bc705986",
   "metadata": {},
   "outputs": [
    {
     "data": {
      "text/plain": [
       "<AxesSubplot:xlabel='ctr', ylabel='Count'>"
      ]
     },
     "execution_count": 23,
     "metadata": {},
     "output_type": "execute_result"
    },
    {
     "data": {
      "image/png": "[encoded data removed]",
      "text/plain": [
       "<Figure size 1152x576 with 2 Axes>"
      ]
     },
     "metadata": {
      "needs_background": "light"
     },
     "output_type": "display_data"
    }
   ],
   "source": [
    "# Посмотрим на распределение 𝑙𝑖𝑛𝑒𝑎𝑟𝑖𝑧𝑒𝑑_𝑙𝑖𝑘𝑒𝑠 и CTR в 2-х группах\n",
    "f, axs = plt.subplots(1,2, figsize=(16,8))\n",
    "sns.histplot(df_12, x='linearized_likes', hue='exp_group', palette=['r','b'], ax=axs[0])\n",
    "sns.histplot(df_12, x='ctr', hue='exp_group', palette=['r','b'], ax=axs[1])"
   ]
  },
  {
   "cell_type": "markdown",
   "id": "89ad5039-b0cb-4a49-840b-3389cd5543b5",
   "metadata": {
    "tags": []
   },
   "source": [
    "### 2.3. Анализ"
   ]
  },
  {
   "cell_type": "markdown",
   "id": "bef55ee7-65f3-42e3-8510-f2236b3c1029",
   "metadata": {},
   "source": [
    "* **Тест Стьюдента** по метрике CTR не позволяет утверждать, что имеются значимые различия (p-value > 0.05) между контрольной и экспериментальной группами. А **по метрике 𝑙𝑖𝑛𝑒𝑎𝑟𝑖𝑧𝑒𝑑_𝑙𝑖𝑘𝑒𝑠** - наоборот, **тест показывает статистически значимые различия** (p-value << 0.05).\n",
    "* **Тест Манна-Уитни** по обеим метрикам показывает **значимые различия** между контрольной (1) и экспериментальной (2) группами. Однако p-value по CTR ниже, чем по 𝑙𝑖𝑛𝑒𝑎𝑟𝑖𝑧𝑒𝑑_𝑙𝑖𝑘𝑒𝑠.\n",
    "* **p-value** по метрике 𝑙𝑖𝑛𝑒𝑎𝑟𝑖𝑧𝑒𝑑_𝑙𝑖𝑘𝑒𝑠 **стало меньше** по сравнению с метрикой CTR.\n",
    "* Распределение метрики 𝑙𝑖𝑛𝑒𝑎𝑟𝑖𝑧𝑒𝑑_𝑙𝑖𝑘𝑒𝑠 значительно отличается от распределения CTR. 𝑙𝑖𝑛𝑒𝑎𝑟𝑖𝑧𝑒𝑑_𝑙𝑖𝑘𝑒𝑠 приобрела форму близкую к нормальной, распределение в обеих группах стало уже, практически исчезли выбросы."
   ]
  }
 ],
 "metadata": {
  "kernelspec": {
   "display_name": "Python 3 (ipykernel)",
   "language": "python",
   "name": "python3"
  },
  "language_info": {
   "codemirror_mode": {
    "name": "ipython",
    "version": 3
   },
   "file_extension": ".py",
   "mimetype": "text/x-python",
   "name": "python",
   "nbconvert_exporter": "python",
   "pygments_lexer": "ipython3",
   "version": "3.9.12"
  }
 },
 "nbformat": 4,
 "nbformat_minor": 5
}
