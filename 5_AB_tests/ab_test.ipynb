{
 "cells": [
  {
   "cell_type": "markdown",
   "id": "67982479-baeb-4ab8-9a66-15496bac00cb",
   "metadata": {},
   "source": [
    "# Анализ  АB-теста."
   ]
  },
  {
   "cell_type": "markdown",
   "id": "765c91f0-97fa-4f22-b04b-71e7895c0d29",
   "metadata": {},
   "source": [
    "Пришло время проанализировать результаты эксперимента, который мы провели вместе с командой дата сайентистов. Эксперимент проходил **с 2022-04-04 по 2022-04-10** включительно. Для эксперимента были задействованы **2 (тестовая)** и **1 (контрольная)** группы.\n",
    "\n",
    "**Основная гипотеза заключается в том, что новый алгоритм во 2-й группе приведет к увеличению CTR**. \n",
    "\n",
    "Ваша задача — проанализировать данные АB-теста. \n",
    "\n",
    "1. Выбрать метод анализа и сравнить CTR в двух группах (мы разбирали: \n",
    "* t-тест, \n",
    "* Пуассоновский бутстреп, \n",
    "* тест Манна-Уитни, \n",
    "* t-тест на сглаженном ctr (α=5), а также \n",
    "* t-тест и тест Манна-Уитни поверх бакетного преобразования).\n",
    "2. Сравните данные этими тестами. Почему тесты сработали так как сработали? Опишите потенциальную ситуацию, когда такое изменение могло произойти.\n",
    "3. Напишите рекомендацию, будем ли мы раскатывать новый алгоритм на всех новых пользователей или все-таки не стоит."
   ]
  },
  {
   "cell_type": "code",
   "execution_count": 1,
   "id": "9d551821-234e-4395-8739-aff73fe09fa7",
   "metadata": {},
   "outputs": [],
   "source": [
    "# Импортируем необходимые библиотеки\n",
    "\n",
    "import pandas as pd\n",
    "import matplotlib.pyplot as plt\n",
    "import seaborn as sns\n",
    "import pandahouse\n",
    "from scipy import stats\n",
    "import numpy as np"
   ]
  },
  {
   "cell_type": "markdown",
   "id": "9424e439-89fd-4d7e-a240-24976ae909d8",
   "metadata": {},
   "source": [
    "## Загружаем данные"
   ]
  },
  {
   "cell_type": "code",
   "execution_count": 2,
   "id": "8a776e0d-9ea1-45a1-81b5-ba02b3e1e059",
   "metadata": {},
   "outputs": [],
   "source": [
    "# Загружаем датасет\n",
    "# Подключаемся к БД\n",
    "connection = {\n",
    "    'host': 'https://clickhouse.lab.karpov.courses',\n",
    "    'password': 'dpo_python_2020',\n",
    "    'user': 'student',\n",
    "    'database': 'simulator_20220420'\n",
    "}\n",
    "# Запрос к БД\n",
    "# Данные о количестве пользователей, просмотров, лайков и сообщений в приложении за неделю\n",
    "q = '''\n",
    "    SELECT \n",
    "        exp_group, user_id, \n",
    "        countIf(action='like') as likes,\n",
    "        countIf(action='view') as views,\n",
    "        countIf(action='like')/countIf(action='view') as ctr\n",
    "    FROM\n",
    "        simulator_20220420.feed_actions\n",
    "    WHERE \n",
    "        (toDate(time) BETWEEN '2022-04-04' AND '2022-04-10') \n",
    "        AND (exp_group IN (1, 2))\n",
    "    GROUP BY\n",
    "        user_id, exp_group\n",
    "'''\n",
    "# Сохраним результат запроса в pandas df\n",
    "df = pandahouse.read_clickhouse(q, connection=connection)"
   ]
  },
  {
   "cell_type": "code",
   "execution_count": 3,
   "id": "5e42c19b-9dcc-420b-9a62-476ec51fff9f",
   "metadata": {},
   "outputs": [
    {
     "data": {
      "text/html": [
       "<div>\n",
       "<style scoped>\n",
       "    .dataframe tbody tr th:only-of-type {\n",
       "        vertical-align: middle;\n",
       "    }\n",
       "\n",
       "    .dataframe tbody tr th {\n",
       "        vertical-align: top;\n",
       "    }\n",
       "\n",
       "    .dataframe thead th {\n",
       "        text-align: right;\n",
       "    }\n",
       "</style>\n",
       "<table border=\"1\" class=\"dataframe\">\n",
       "  <thead>\n",
       "    <tr style=\"text-align: right;\">\n",
       "      <th></th>\n",
       "      <th>exp_group</th>\n",
       "      <th>user_id</th>\n",
       "      <th>likes</th>\n",
       "      <th>views</th>\n",
       "      <th>ctr</th>\n",
       "    </tr>\n",
       "  </thead>\n",
       "  <tbody>\n",
       "    <tr>\n",
       "      <th>0</th>\n",
       "      <td>1</td>\n",
       "      <td>109963</td>\n",
       "      <td>3</td>\n",
       "      <td>15</td>\n",
       "      <td>0.200000</td>\n",
       "    </tr>\n",
       "    <tr>\n",
       "      <th>1</th>\n",
       "      <td>1</td>\n",
       "      <td>26117</td>\n",
       "      <td>32</td>\n",
       "      <td>141</td>\n",
       "      <td>0.226950</td>\n",
       "    </tr>\n",
       "    <tr>\n",
       "      <th>2</th>\n",
       "      <td>1</td>\n",
       "      <td>138232</td>\n",
       "      <td>18</td>\n",
       "      <td>73</td>\n",
       "      <td>0.246575</td>\n",
       "    </tr>\n",
       "    <tr>\n",
       "      <th>3</th>\n",
       "      <td>1</td>\n",
       "      <td>26295</td>\n",
       "      <td>33</td>\n",
       "      <td>122</td>\n",
       "      <td>0.270492</td>\n",
       "    </tr>\n",
       "    <tr>\n",
       "      <th>4</th>\n",
       "      <td>1</td>\n",
       "      <td>18392</td>\n",
       "      <td>7</td>\n",
       "      <td>32</td>\n",
       "      <td>0.218750</td>\n",
       "    </tr>\n",
       "    <tr>\n",
       "      <th>...</th>\n",
       "      <td>...</td>\n",
       "      <td>...</td>\n",
       "      <td>...</td>\n",
       "      <td>...</td>\n",
       "      <td>...</td>\n",
       "    </tr>\n",
       "    <tr>\n",
       "      <th>20026</th>\n",
       "      <td>1</td>\n",
       "      <td>132567</td>\n",
       "      <td>45</td>\n",
       "      <td>296</td>\n",
       "      <td>0.152027</td>\n",
       "    </tr>\n",
       "    <tr>\n",
       "      <th>20027</th>\n",
       "      <td>1</td>\n",
       "      <td>30872</td>\n",
       "      <td>11</td>\n",
       "      <td>59</td>\n",
       "      <td>0.186441</td>\n",
       "    </tr>\n",
       "    <tr>\n",
       "      <th>20028</th>\n",
       "      <td>2</td>\n",
       "      <td>25383</td>\n",
       "      <td>42</td>\n",
       "      <td>127</td>\n",
       "      <td>0.330709</td>\n",
       "    </tr>\n",
       "    <tr>\n",
       "      <th>20029</th>\n",
       "      <td>2</td>\n",
       "      <td>139020</td>\n",
       "      <td>24</td>\n",
       "      <td>114</td>\n",
       "      <td>0.210526</td>\n",
       "    </tr>\n",
       "    <tr>\n",
       "      <th>20030</th>\n",
       "      <td>2</td>\n",
       "      <td>17310</td>\n",
       "      <td>9</td>\n",
       "      <td>82</td>\n",
       "      <td>0.109756</td>\n",
       "    </tr>\n",
       "  </tbody>\n",
       "</table>\n",
       "<p>20031 rows × 5 columns</p>\n",
       "</div>"
      ],
      "text/plain": [
       "       exp_group  user_id  likes  views       ctr\n",
       "0              1   109963      3     15  0.200000\n",
       "1              1    26117     32    141  0.226950\n",
       "2              1   138232     18     73  0.246575\n",
       "3              1    26295     33    122  0.270492\n",
       "4              1    18392      7     32  0.218750\n",
       "...          ...      ...    ...    ...       ...\n",
       "20026          1   132567     45    296  0.152027\n",
       "20027          1    30872     11     59  0.186441\n",
       "20028          2    25383     42    127  0.330709\n",
       "20029          2   139020     24    114  0.210526\n",
       "20030          2    17310      9     82  0.109756\n",
       "\n",
       "[20031 rows x 5 columns]"
      ]
     },
     "execution_count": 3,
     "metadata": {},
     "output_type": "execute_result"
    }
   ],
   "source": [
    "df"
   ]
  },
  {
   "cell_type": "code",
   "execution_count": 4,
   "id": "d8d4136c-560f-4837-aabc-b83073e249a1",
   "metadata": {},
   "outputs": [
    {
     "data": {
      "image/png": "[encoded data removed]",
      "text/plain": [
       "<Figure size 864x432 with 1 Axes>"
      ]
     },
     "metadata": {},
     "output_type": "display_data"
    }
   ],
   "source": [
    "# Сразу посмотрим на распределение CTR в 2-х группах\n",
    "\n",
    "# Зададим параметры графиков\n",
    "sns.set(rc={\"figure.figsize\":(12, 6)}) \n",
    "plt.tight_layout()\n",
    "\n",
    "ax = sns.histplot(data=df, x='ctr', hue='exp_group', palette=['r', 'b'])"
   ]
  },
  {
   "cell_type": "code",
   "execution_count": 5,
   "id": "993218a2-f999-493b-b3a1-861480ed6c9c",
   "metadata": {},
   "outputs": [
    {
     "data": {
      "text/plain": [
       "count    10079.000000\n",
       "mean         0.215605\n",
       "std          0.084160\n",
       "min          0.000000\n",
       "25%          0.160097\n",
       "50%          0.203125\n",
       "75%          0.257654\n",
       "max          0.722222\n",
       "Name: ctr, dtype: float64"
      ]
     },
     "execution_count": 5,
     "metadata": {},
     "output_type": "execute_result"
    }
   ],
   "source": [
    "# Статистики по контрольной 1-й группе\n",
    "df[df['exp_group']==1].ctr.describe()"
   ]
  },
  {
   "cell_type": "code",
   "execution_count": 6,
   "id": "032a3acb-6d42-4d13-a216-8a3cc063d4bc",
   "metadata": {},
   "outputs": [
    {
     "data": {
      "text/plain": [
       "count    9952.000000\n",
       "mean        0.214419\n",
       "std         0.144180\n",
       "min         0.000000\n",
       "25%         0.095238\n",
       "50%         0.142857\n",
       "75%         0.325000\n",
       "max         0.923077\n",
       "Name: ctr, dtype: float64"
      ]
     },
     "execution_count": 6,
     "metadata": {},
     "output_type": "execute_result"
    }
   ],
   "source": [
    "# Статистики по тестовой 2-й группе\n",
    "df[df['exp_group']==2].ctr.describe()"
   ]
  },
  {
   "cell_type": "markdown",
   "id": "e0a8bb6e-1e4b-41dc-8afa-d855907e73bb",
   "metadata": {},
   "source": [
    "И среднее и медиана CTR в контрольной группе выше, чем в тестовой. Визуально все выглядит так же. Интересно, что распределение значений в контрольной группе похоже на нормальное, а в тестовой - отличается [от нормального].  \n",
    "Кажется, гипотеза о том, что новый алгоритм во 2-й группе приведет к увеличению CTR не подтверждается. Проверим это статистическими тестами. "
   ]
  },
  {
   "cell_type": "markdown",
   "id": "e81368e2-8aaf-4302-b86d-673f2bd4c413",
   "metadata": {},
   "source": [
    "## 1. t-тест Стьюдента"
   ]
  },
  {
   "cell_type": "markdown",
   "id": "3d70d92c-d0f6-4199-a821-740d41288f96",
   "metadata": {},
   "source": [
    "Проверяем **гипотезу, что новый алгоритм во 2-й группе приведет к увеличению CTR**.\n",
    "* **H0** - средние значения CTR в контрольной и экспериментальной группaх равны.\n",
    "* **H1** - средние значения CTR в тестовой группе выше, чем в контрольной.\n",
    "\n",
    "Уровень значимости альфа возьмем равным 5%."
   ]
  },
  {
   "cell_type": "code",
   "execution_count": 7,
   "id": "6ac67295-e5ff-488b-8cef-ceef865ddafd",
   "metadata": {},
   "outputs": [
    {
     "data": {
      "text/plain": [
       "Ttest_indResult(statistic=-0.7094392041270485, pvalue=0.7609688434562533)"
      ]
     },
     "execution_count": 7,
     "metadata": {},
     "output_type": "execute_result"
    }
   ],
   "source": [
    "# Параметрический t-test\n",
    "stats.ttest_ind(df[df['exp_group']==2].ctr, \n",
    "                df[df['exp_group']==1].ctr, \n",
    "                equal_var=False,\n",
    "                alternative='greater')"
   ]
  },
  {
   "cell_type": "markdown",
   "id": "c4df9dc8-d290-454d-a3d6-1f5a85473307",
   "metadata": {},
   "source": [
    "**Результат**: p-value >> 0.05, следовательно мы **не можем принять альтернативную гипотезу(H1)** о том, что средние значения CTR в тестовой группе выше, чем в контрольной."
   ]
  },
  {
   "cell_type": "code",
   "execution_count": 8,
   "id": "0d8b9631-9e6b-4110-82ce-453ae1cef390",
   "metadata": {},
   "outputs": [
    {
     "data": {
      "text/plain": [
       "Ttest_indResult(statistic=-0.7094392041270485, pvalue=0.23903115654374674)"
      ]
     },
     "execution_count": 8,
     "metadata": {},
     "output_type": "execute_result"
    }
   ],
   "source": [
    "# Проверим обратную гипотезу о том, что среднее CTR контрольной группы (1) больше, чем CTR тестовой (2)\n",
    "stats.ttest_ind(df[df['exp_group']==2].ctr, \n",
    "                df[df['exp_group']==1].ctr, \n",
    "                equal_var=False,\n",
    "                alternative='less')\n",
    "\n",
    "# Гипотеза, что среднее значение CTR контрольной группы (1) больше, чем CTR тестовой (2) также не подтверждается."
   ]
  },
  {
   "cell_type": "markdown",
   "id": "e168efea-4d5b-493b-bbf0-01a4d9044291",
   "metadata": {},
   "source": [
    "## 2. Тест Манна-Уитни"
   ]
  },
  {
   "cell_type": "code",
   "execution_count": 9,
   "id": "c15d12a2-5a3c-4ef9-8754-3c0677796d54",
   "metadata": {},
   "outputs": [
    {
     "data": {
      "text/plain": [
       "MannwhitneyuResult(statistic=43704947.5, pvalue=1.0)"
      ]
     },
     "execution_count": 9,
     "metadata": {},
     "output_type": "execute_result"
    }
   ],
   "source": [
    "# Непараметрический U-критерий Манна-Уитни\n",
    "stats.mannwhitneyu(df[df.exp_group == 2].ctr, \n",
    "                   df[df.exp_group == 1].ctr, \n",
    "                   alternative='greater')"
   ]
  },
  {
   "cell_type": "markdown",
   "id": "e04e8da3-96c8-41da-a2ac-d30f434696d0",
   "metadata": {},
   "source": [
    "**Результат**: p-value >>> 0.05, следовательно мы **не можем принять альтернативную гипотезу(H1)** о том, что средние значения CTR в тестовой группе выше, чем в контрольной."
   ]
  },
  {
   "cell_type": "code",
   "execution_count": 10,
   "id": "fcc209c8-ecf5-4315-a071-499890f81a9a",
   "metadata": {},
   "outputs": [
    {
     "data": {
      "text/plain": [
       "MannwhitneyuResult(statistic=43704947.5, pvalue=3.0188242308889518e-56)"
      ]
     },
     "execution_count": 10,
     "metadata": {},
     "output_type": "execute_result"
    }
   ],
   "source": [
    "# Проверим обратную гипотезу о том, что среднее CTR контрольной группы (1) больше, чем CTR тестовой (2)\n",
    "stats.mannwhitneyu(df[df.exp_group == 2].ctr, \n",
    "                   df[df.exp_group == 1].ctr, \n",
    "                   alternative='less')\n",
    "\n",
    "# p-value <<< 0.05, следовательно можем принять гипотезу, что среднее значение CTR контрольной группы (1) больше, чем CTR тестовой (2). \n",
    "# Т.е. новый алгоритм во 2 группе привел к снижению CTR."
   ]
  },
  {
   "cell_type": "markdown",
   "id": "5707937b-d901-468a-8099-d0b68b7f4481",
   "metadata": {},
   "source": [
    "## 3. Сглаженный CTR"
   ]
  },
  {
   "cell_type": "markdown",
   "id": "25065dae-d757-4e91-ba05-50f9da6e10a2",
   "metadata": {},
   "source": [
    "Применим \"сглаживание\" CTR для более корректной оценки CTR пользователей с низким количеством просмотров."
   ]
  },
  {
   "cell_type": "code",
   "execution_count": 11,
   "id": "2cb73306-1de1-4014-a342-1437585e8d32",
   "metadata": {},
   "outputs": [],
   "source": [
    "def get_smoothed_ctr(user_likes, user_views, global_ctr, alpha=5):\n",
    "    '''\n",
    "    функция get_smoothed_ctr преобразует пользовательский CTR в сглаженный CTR\n",
    "    \n",
    "    Параметры:\n",
    "    user_likes - лайки пользователя\n",
    "    user_views - просмотры пользователя\n",
    "    global_ctr - общий CTR по группе\n",
    "    alpha - коэффициент сглаживания\n",
    "\n",
    "    Функция возвращает: \n",
    "    smoothed_ctr - значение сглаженного CTR\n",
    "    '''\n",
    "    smoothed_ctr = (user_likes + alpha * global_ctr) / (user_views + alpha)\n",
    "    return smoothed_ctr"
   ]
  },
  {
   "cell_type": "code",
   "execution_count": 12,
   "id": "4926129f-3268-4ad4-9b07-7bf7d0bad0b8",
   "metadata": {},
   "outputs": [
    {
     "name": "stdout",
     "output_type": "stream",
     "text": [
      "Глобальный CTR 1 группы: 0.20802680490126244\n",
      "Глобальный CTR 2 группы: 0.1980601844115994\n"
     ]
    }
   ],
   "source": [
    "# Глобальный CTR контрольной 1-й группы\n",
    "global_ctr_1 = df[df['exp_group'] == 1].likes.sum()/df[df['exp_group'] == 1].views.sum()\n",
    "print('Глобальный CTR 1 группы:', global_ctr_1)\n",
    "# Глобальный CTR тестовой 2-й группы\n",
    "global_ctr_2 = df[df['exp_group'] == 2].likes.sum()/df[df['exp_group'] == 2].views.sum()\n",
    "print('Глобальный CTR 2 группы:', global_ctr_2)"
   ]
  },
  {
   "cell_type": "code",
   "execution_count": 13,
   "id": "693f96ae-1b7a-4b12-90c3-c53c503b4265",
   "metadata": {},
   "outputs": [],
   "source": [
    "# Добавим столбец smoothed_ctr в df\n",
    "df.loc[df['exp_group'] == 1, 'smoothed_ctr'] = df.apply(lambda x: get_smoothed_ctr(x['likes'], x['views'], global_ctr_1, 5), axis = 1)\n",
    "df.loc[df['exp_group'] == 2, 'smoothed_ctr'] = df.apply(lambda x: get_smoothed_ctr(x['likes'], x['views'], global_ctr_2, 5), axis = 1)"
   ]
  },
  {
   "cell_type": "code",
   "execution_count": 14,
   "id": "13a0dc4a-26e8-4fdb-89bd-e05e5909f908",
   "metadata": {},
   "outputs": [
    {
     "data": {
      "text/html": [
       "<div>\n",
       "<style scoped>\n",
       "    .dataframe tbody tr th:only-of-type {\n",
       "        vertical-align: middle;\n",
       "    }\n",
       "\n",
       "    .dataframe tbody tr th {\n",
       "        vertical-align: top;\n",
       "    }\n",
       "\n",
       "    .dataframe thead th {\n",
       "        text-align: right;\n",
       "    }\n",
       "</style>\n",
       "<table border=\"1\" class=\"dataframe\">\n",
       "  <thead>\n",
       "    <tr style=\"text-align: right;\">\n",
       "      <th></th>\n",
       "      <th>exp_group</th>\n",
       "      <th>user_id</th>\n",
       "      <th>likes</th>\n",
       "      <th>views</th>\n",
       "      <th>ctr</th>\n",
       "      <th>smoothed_ctr</th>\n",
       "    </tr>\n",
       "  </thead>\n",
       "  <tbody>\n",
       "    <tr>\n",
       "      <th>16688</th>\n",
       "      <td>2</td>\n",
       "      <td>141164</td>\n",
       "      <td>0</td>\n",
       "      <td>1</td>\n",
       "      <td>0.000000</td>\n",
       "      <td>0.165050</td>\n",
       "    </tr>\n",
       "    <tr>\n",
       "      <th>14864</th>\n",
       "      <td>2</td>\n",
       "      <td>17749</td>\n",
       "      <td>0</td>\n",
       "      <td>1</td>\n",
       "      <td>0.000000</td>\n",
       "      <td>0.165050</td>\n",
       "    </tr>\n",
       "    <tr>\n",
       "      <th>19169</th>\n",
       "      <td>2</td>\n",
       "      <td>21921</td>\n",
       "      <td>0</td>\n",
       "      <td>1</td>\n",
       "      <td>0.000000</td>\n",
       "      <td>0.165050</td>\n",
       "    </tr>\n",
       "    <tr>\n",
       "      <th>16367</th>\n",
       "      <td>1</td>\n",
       "      <td>6384</td>\n",
       "      <td>0</td>\n",
       "      <td>2</td>\n",
       "      <td>0.000000</td>\n",
       "      <td>0.148591</td>\n",
       "    </tr>\n",
       "    <tr>\n",
       "      <th>7421</th>\n",
       "      <td>1</td>\n",
       "      <td>109414</td>\n",
       "      <td>0</td>\n",
       "      <td>2</td>\n",
       "      <td>0.000000</td>\n",
       "      <td>0.148591</td>\n",
       "    </tr>\n",
       "    <tr>\n",
       "      <th>...</th>\n",
       "      <td>...</td>\n",
       "      <td>...</td>\n",
       "      <td>...</td>\n",
       "      <td>...</td>\n",
       "      <td>...</td>\n",
       "      <td>...</td>\n",
       "    </tr>\n",
       "    <tr>\n",
       "      <th>3375</th>\n",
       "      <td>2</td>\n",
       "      <td>132375</td>\n",
       "      <td>31</td>\n",
       "      <td>303</td>\n",
       "      <td>0.102310</td>\n",
       "      <td>0.103865</td>\n",
       "    </tr>\n",
       "    <tr>\n",
       "      <th>17240</th>\n",
       "      <td>1</td>\n",
       "      <td>24486</td>\n",
       "      <td>47</td>\n",
       "      <td>304</td>\n",
       "      <td>0.154605</td>\n",
       "      <td>0.155470</td>\n",
       "    </tr>\n",
       "    <tr>\n",
       "      <th>10063</th>\n",
       "      <td>1</td>\n",
       "      <td>111930</td>\n",
       "      <td>38</td>\n",
       "      <td>311</td>\n",
       "      <td>0.122186</td>\n",
       "      <td>0.123545</td>\n",
       "    </tr>\n",
       "    <tr>\n",
       "      <th>15937</th>\n",
       "      <td>2</td>\n",
       "      <td>130522</td>\n",
       "      <td>26</td>\n",
       "      <td>320</td>\n",
       "      <td>0.081250</td>\n",
       "      <td>0.083047</td>\n",
       "    </tr>\n",
       "    <tr>\n",
       "      <th>9029</th>\n",
       "      <td>2</td>\n",
       "      <td>132276</td>\n",
       "      <td>30</td>\n",
       "      <td>321</td>\n",
       "      <td>0.093458</td>\n",
       "      <td>0.095062</td>\n",
       "    </tr>\n",
       "  </tbody>\n",
       "</table>\n",
       "<p>20031 rows × 6 columns</p>\n",
       "</div>"
      ],
      "text/plain": [
       "       exp_group  user_id  likes  views       ctr  smoothed_ctr\n",
       "16688          2   141164      0      1  0.000000      0.165050\n",
       "14864          2    17749      0      1  0.000000      0.165050\n",
       "19169          2    21921      0      1  0.000000      0.165050\n",
       "16367          1     6384      0      2  0.000000      0.148591\n",
       "7421           1   109414      0      2  0.000000      0.148591\n",
       "...          ...      ...    ...    ...       ...           ...\n",
       "3375           2   132375     31    303  0.102310      0.103865\n",
       "17240          1    24486     47    304  0.154605      0.155470\n",
       "10063          1   111930     38    311  0.122186      0.123545\n",
       "15937          2   130522     26    320  0.081250      0.083047\n",
       "9029           2   132276     30    321  0.093458      0.095062\n",
       "\n",
       "[20031 rows x 6 columns]"
      ]
     },
     "execution_count": 14,
     "metadata": {},
     "output_type": "execute_result"
    }
   ],
   "source": [
    "# Мы избавились от нулевых ctr\n",
    "df.sort_values('views')"
   ]
  },
  {
   "cell_type": "code",
   "execution_count": 15,
   "id": "d64fe78b-0a9a-4d61-a093-d30090314a15",
   "metadata": {},
   "outputs": [
    {
     "data": {
      "text/plain": [
       "<AxesSubplot:xlabel='smoothed_ctr', ylabel='Count'>"
      ]
     },
     "execution_count": 15,
     "metadata": {},
     "output_type": "execute_result"
    },
    {
     "data": {
      "image/png": "[encoded data removed]",
      "text/plain": [
       "<Figure size 1152x576 with 2 Axes>"
      ]
     },
     "metadata": {},
     "output_type": "display_data"
    }
   ],
   "source": [
    "# Посмотрим, сгладились ли значения CTR\n",
    "f, axs = plt.subplots(1,2, figsize=(16,8))\n",
    "sns.histplot(df, x='ctr', hue='exp_group', palette=['r','b'], ax=axs[0])\n",
    "sns.histplot(df, x='smoothed_ctr', hue='exp_group', palette=['r','b'], ax=axs[1])"
   ]
  },
  {
   "cell_type": "markdown",
   "id": "8bac5039-b6c8-4389-be79-692d8c2048ef",
   "metadata": {},
   "source": [
    "### 3.1. t-тест Стьюдента на сглаженном CTR"
   ]
  },
  {
   "cell_type": "markdown",
   "id": "7fd9e770-ddb9-498e-a7c1-761cccdce8fb",
   "metadata": {},
   "source": [
    "Проверяем **гипотезу, что новый алгоритм во 2-й группе приведет к увеличению CTR**.\n",
    "* **H0** - средние значения *сглаженного CTR* в контрольной и экспериментальной группaх равны.\n",
    "* **H1** - средние значения *сглаженного CTR* в тестовой группе выше, чем в контрольной.\n",
    "\n",
    "Уровень значимости альфа возьмем равным 5%."
   ]
  },
  {
   "cell_type": "code",
   "execution_count": 16,
   "id": "dbc567be-f153-4da7-8f7e-a8415953938c",
   "metadata": {},
   "outputs": [
    {
     "data": {
      "text/plain": [
       "Ttest_indResult(statistic=-2.2841320431616983, pvalue=0.9888115092220721)"
      ]
     },
     "execution_count": 16,
     "metadata": {},
     "output_type": "execute_result"
    }
   ],
   "source": [
    "# Параметрический t-test\n",
    "stats.ttest_ind(df[df['exp_group']==2].smoothed_ctr, \n",
    "                df[df['exp_group']==1].smoothed_ctr, \n",
    "                equal_var=False,\n",
    "                alternative='greater')"
   ]
  },
  {
   "cell_type": "markdown",
   "id": "78db94d0-1321-415c-a52b-899a25b8c00b",
   "metadata": {},
   "source": [
    "**Результат**: p-value >>> 0.05, следовательно мы **не можем принять альтернативную гипотезу(H1)** о том, что средние значения сглаженного CTR в тестовой группе выше, чем в контрольной."
   ]
  },
  {
   "cell_type": "code",
   "execution_count": 17,
   "id": "9c7b648d-19b2-466a-baf4-995d56a7ecb8",
   "metadata": {},
   "outputs": [
    {
     "data": {
      "text/plain": [
       "Ttest_indResult(statistic=-2.2841320431616983, pvalue=0.01118849077792795)"
      ]
     },
     "execution_count": 17,
     "metadata": {},
     "output_type": "execute_result"
    }
   ],
   "source": [
    "# Проверим обратную гипотезу о том, что среднее CTR контрольной группы (1) больше, чем CTR тестовой (2)\n",
    "stats.ttest_ind(df[df['exp_group']==2].smoothed_ctr, \n",
    "                df[df['exp_group']==1].smoothed_ctr, \n",
    "                equal_var=False,\n",
    "                alternative='less')\n",
    "\n",
    "# p-value > 0.05, следовательно НЕ можем принять гипотезу, что среднее значение CTR контрольной группы (1) больше, чем CTR тестовой (2). "
   ]
  },
  {
   "cell_type": "markdown",
   "id": "f25512ad-aa6e-4059-81cc-a928cea4554d",
   "metadata": {},
   "source": [
    "## 4. Бутстреп"
   ]
  },
  {
   "cell_type": "markdown",
   "id": "828224eb-2628-41f5-93b6-b80f17db9cba",
   "metadata": {},
   "source": [
    "Будем многократно (например, 2000 раз) считать общегрупповой CTR по псевдовыборкам из тестовой (2) и контрольной (1) групп."
   ]
  },
  {
   "cell_type": "code",
   "execution_count": 18,
   "id": "b4b1685e-efd6-41cb-88ea-4623755089f6",
   "metadata": {},
   "outputs": [],
   "source": [
    "def bootstrap(likes1, views1, likes2, views2, n_bootstrap=2000):\n",
    "    '''\n",
    "    функция bootstrap многократно рассчитывает глобальный CTR по псевдовыборкам из каждой группы\n",
    "    \n",
    "    Параметры:\n",
    "    likes1 - количество лайков пользователей из 1-й группы\n",
    "    likes2 - количество лайков пользователей из 2-й группы\n",
    "    views1 - количество просмотров пользователей из 1-й группы\n",
    "    views2 - количество просмотров пользователей из 2-й группы\n",
    "\n",
    "    Функция возвращает: \n",
    "    globalCTR1 - общий CTR по 1-й группе \n",
    "    globalCTR2 - общий CTR по 2-й группе \n",
    "    '''\n",
    "    # Из распределения Пуассона генерируем «сколько раз этот пользователь попал в псевдовыборку» для 1-й и 2-й группы\n",
    "    poisson_bootstraps1 = stats.poisson(1).rvs((n_bootstrap, len(likes1))).astype(np.int64)\n",
    "    poisson_bootstraps2 = stats.poisson(1).rvs((n_bootstrap, len(likes2))).astype(np.int64)\n",
    "    # Считаем глобальный CTR для каждой группы\n",
    "    globalCTR1 = (poisson_bootstraps1*likes1).sum(axis=1)/(poisson_bootstraps1*views1).sum(axis=1)\n",
    "    globalCTR2 = (poisson_bootstraps2*likes2).sum(axis=1)/(poisson_bootstraps2*views2).sum(axis=1)\n",
    "    return globalCTR1, globalCTR2"
   ]
  },
  {
   "cell_type": "code",
   "execution_count": 19,
   "id": "81400256-2165-4409-95bb-6a28daef395f",
   "metadata": {},
   "outputs": [],
   "source": [
    "# Лайки и просмотры для 1-й (контрольной) группы\n",
    "likes1 = df[df.exp_group == 1].likes.to_numpy()\n",
    "views1 = df[df.exp_group == 1].views.to_numpy()\n",
    "# Лайки и просмотры для 2-й (тестовой) группы\n",
    "likes2 = df[df.exp_group == 2].likes.to_numpy()\n",
    "views2 = df[df.exp_group == 2].views.to_numpy()"
   ]
  },
  {
   "cell_type": "code",
   "execution_count": 20,
   "id": "aa3583d8-a9b8-411c-baee-fce108d0e2aa",
   "metadata": {},
   "outputs": [],
   "source": [
    "# Глобальный CTR для 1-й и 2-й групп\n",
    "ctr1, ctr2 = bootstrap(likes1, views1, likes2, views2)"
   ]
  },
  {
   "cell_type": "code",
   "execution_count": 21,
   "id": "6b54b4b7-6860-4c5a-9314-caab99f3f0a7",
   "metadata": {},
   "outputs": [
    {
     "name": "stdout",
     "output_type": "stream",
     "text": [
      "Среднее по 1 группе: 0.208034\n",
      "Медиана по 1 группе: 0.208015\n"
     ]
    }
   ],
   "source": [
    "# Статистики по контрольной 1-й группе\n",
    "print('Среднее по 1 группе:', round(ctr1.mean(), 6))\n",
    "print('Медиана по 1 группе:', round(np.median(ctr1), 6))"
   ]
  },
  {
   "cell_type": "code",
   "execution_count": 22,
   "id": "da52a6ad-3bbe-44c0-aac9-bbcf99adab4b",
   "metadata": {},
   "outputs": [
    {
     "name": "stdout",
     "output_type": "stream",
     "text": [
      "Среднее по 2 группе: 0.198022\n",
      "Медиана по 2 группе: 0.19802\n"
     ]
    }
   ],
   "source": [
    "# Статистики по тестовой 2-й группе\n",
    "print('Среднее по 2 группе:', round(ctr2.mean(), 6))\n",
    "print('Медиана по 2 группе:', round(np.median(ctr2), 6))"
   ]
  },
  {
   "cell_type": "code",
   "execution_count": 23,
   "id": "5d2c58c0-4524-45a5-9bbe-a1a196996504",
   "metadata": {},
   "outputs": [
    {
     "data": {
      "text/plain": [
       "<AxesSubplot:ylabel='Count'>"
      ]
     },
     "execution_count": 23,
     "metadata": {},
     "output_type": "execute_result"
    },
    {
     "data": {
      "image/png": "[encoded data removed]",
      "text/plain": [
       "<Figure size 864x432 with 1 Axes>"
      ]
     },
     "metadata": {},
     "output_type": "display_data"
    }
   ],
   "source": [
    "# Визуализируем глобальные CTR-ы \n",
    "sns.histplot(ctr1)\n",
    "sns.histplot(ctr2)"
   ]
  },
  {
   "cell_type": "code",
   "execution_count": 24,
   "id": "9977af18-2743-4382-a235-c200a8c954bc",
   "metadata": {},
   "outputs": [
    {
     "data": {
      "text/plain": [
       "<AxesSubplot:ylabel='Count'>"
      ]
     },
     "execution_count": 24,
     "metadata": {},
     "output_type": "execute_result"
    },
    {
     "data": {
      "image/png": "[encoded data removed]",
      "text/plain": [
       "<Figure size 864x432 with 1 Axes>"
      ]
     },
     "metadata": {},
     "output_type": "display_data"
    }
   ],
   "source": [
    "#Разница между глобальными CTR\n",
    "sns.histplot(ctr2 - ctr1)"
   ]
  },
  {
   "cell_type": "markdown",
   "id": "2a2b8f6a-dc7e-45ec-84cc-85d8c4c2f8be",
   "metadata": {},
   "source": [
    "Разница отрицательная. Более того, **ВСЕ** значения в 1 группе больше, чем во 2-й. Соответственно, можем утверждать, что новый алгоритм (группа 2) не приведет к увеличению CTR пользователей.  \n",
    "Проверим тестами."
   ]
  },
  {
   "cell_type": "markdown",
   "id": "6ed98851-87fb-4963-ac3f-17ff2e5929e5",
   "metadata": {},
   "source": [
    "### 4.1. t-тест Стьюдента"
   ]
  },
  {
   "cell_type": "markdown",
   "id": "ec7ff26a-4532-4e42-a2fe-74d74199a548",
   "metadata": {},
   "source": [
    "Проверяем **гипотезу, что новый алгоритм во 2-й группе приведет к увеличению CTR**.\n",
    "* **H0** - средние значения CTR в контрольной и экспериментальной группaх равны.\n",
    "* **H1** - средние значения CTR в тестовой группе выше, чем в контрольной.\n",
    "\n",
    "Уровень значимости альфа возьмем равным 5%."
   ]
  },
  {
   "cell_type": "code",
   "execution_count": 25,
   "id": "5bde19ba-e5c1-4408-81d2-2e4fd91b6bcc",
   "metadata": {},
   "outputs": [
    {
     "data": {
      "text/plain": [
       "Ttest_indResult(statistic=-276.233701305466, pvalue=1.0)"
      ]
     },
     "execution_count": 25,
     "metadata": {},
     "output_type": "execute_result"
    }
   ],
   "source": [
    "# Параметрический t-test\n",
    "stats.ttest_ind(ctr2, ctr1, equal_var=False, alternative='greater')"
   ]
  },
  {
   "cell_type": "markdown",
   "id": "de6c1ba8-a297-42fc-bc9c-ca472eb5f1ef",
   "metadata": {},
   "source": [
    "Результат: p-value >>> 0.05, следовательно мы не можем принять альтернативную гипотезу(H1) о том, что средние значения сглаженного CTR в тестовой группе выше, чем в контрольной."
   ]
  },
  {
   "cell_type": "code",
   "execution_count": 26,
   "id": "a7c9eb32-6776-46a0-a919-7d611edbffc7",
   "metadata": {},
   "outputs": [
    {
     "data": {
      "text/plain": [
       "Ttest_indResult(statistic=-276.233701305466, pvalue=0.0)"
      ]
     },
     "execution_count": 26,
     "metadata": {},
     "output_type": "execute_result"
    }
   ],
   "source": [
    "# Проверим обратную гипотезу о том, что среднее CTR контрольной группы (1) больше, чем CTR тестовой (2)\n",
    "stats.ttest_ind(ctr2, ctr1, equal_var=False, alternative='less')\n",
    "\n",
    "# p-value <<< 0.05, следовательно можем принять гипотезу, что среднее значение CTR контрольной группы (1) больше, чем CTR тестовой (2). \n",
    "# Т.е. новый алгоритм во 2 группе привел к снижению CTR."
   ]
  },
  {
   "cell_type": "markdown",
   "id": "58a4a8a5-3d21-41b9-9ff1-f6665e2c61da",
   "metadata": {},
   "source": [
    "### 4.2. Тест Манна-Уитни"
   ]
  },
  {
   "cell_type": "code",
   "execution_count": 27,
   "id": "eb9e20e5-e5ca-4538-9a1b-1dee323c3e08",
   "metadata": {},
   "outputs": [
    {
     "data": {
      "text/plain": [
       "MannwhitneyuResult(statistic=0.0, pvalue=1.0)"
      ]
     },
     "execution_count": 27,
     "metadata": {},
     "output_type": "execute_result"
    }
   ],
   "source": [
    "# Непараметрический U-критерий Манна-Уитни\n",
    "stats.mannwhitneyu(ctr2, ctr1, alternative='greater')"
   ]
  },
  {
   "cell_type": "markdown",
   "id": "b81ba0cc-27c8-4320-a355-b1559107fb14",
   "metadata": {},
   "source": [
    "**Результат**: p-value >>>> 0.05, следовательно мы **не можем принять альтернативную гипотезу(H1)** о том, что средние значения CTR в тестовой группе выше, чем в контрольной."
   ]
  },
  {
   "cell_type": "code",
   "execution_count": 28,
   "id": "60cdbfe4-d404-470c-9833-685b7bc58751",
   "metadata": {},
   "outputs": [
    {
     "data": {
      "text/plain": [
       "MannwhitneyuResult(statistic=0.0, pvalue=0.0)"
      ]
     },
     "execution_count": 28,
     "metadata": {},
     "output_type": "execute_result"
    }
   ],
   "source": [
    "# Проверим обратную гипотезу о том, что среднее CTR контрольной группы (1) больше, чем CTR тестовой (2)\n",
    "stats.mannwhitneyu(ctr2, ctr1, alternative='less')\n",
    "\n",
    "# p-value <<< 0.05, следовательно можем принять гипотезу, что среднее значение CTR контрольной группы (1) больше, чем CTR тестовой (2). \n",
    "# Т.е. новый алгоритм во 2 группе привел к снижению CTR."
   ]
  },
  {
   "cell_type": "markdown",
   "id": "f47b5fd4-99e2-4034-bf55-8a495617f66d",
   "metadata": {},
   "source": [
    "## 5. Бакетное преобразование"
   ]
  },
  {
   "cell_type": "markdown",
   "id": "5bd6fc46-0ffa-4b44-89f2-372bd4c209c2",
   "metadata": {},
   "source": [
    "Разобъем пользователей на n=50 бакетов. И для каждого бакета рассчитаем статистику - среднее."
   ]
  },
  {
   "cell_type": "code",
   "execution_count": 29,
   "id": "48527f6f-0bcd-46b1-b57e-343b1ee279ac",
   "metadata": {},
   "outputs": [],
   "source": [
    "# Запрос для разбиения групп на бакеты\n",
    "q = \"\"\"\n",
    "    SELECT \n",
    "        exp_group, bucket,\n",
    "        sum(likes)/sum(views) as bucket_ctr\n",
    "    FROM \n",
    "        (SELECT \n",
    "            exp_group,\n",
    "            xxHash64(user_id)%50 as bucket,\n",
    "            user_id,\n",
    "            sum(action = 'like') as likes,\n",
    "            sum(action = 'view') as views,\n",
    "            likes/views as ctr\n",
    "        FROM \n",
    "            simulator_20220420.feed_actions\n",
    "        WHERE \n",
    "            (toDate(time) BETWEEN '2022-04-04' AND '2022-04-10')\n",
    "            AND (exp_group IN (1, 2))\n",
    "        GROUP BY \n",
    "            exp_group, bucket, user_id)\n",
    "    GROUP BY \n",
    "        exp_group, bucket\n",
    "\"\"\"\n",
    "# Сохраним результат запроса в pandas df\n",
    "df_b = pandahouse.read_clickhouse(q, connection=connection)"
   ]
  },
  {
   "cell_type": "code",
   "execution_count": 30,
   "id": "aa4116ab-01b0-492a-a9a3-0b0fee8cdce6",
   "metadata": {},
   "outputs": [
    {
     "data": {
      "text/html": [
       "<div>\n",
       "<style scoped>\n",
       "    .dataframe tbody tr th:only-of-type {\n",
       "        vertical-align: middle;\n",
       "    }\n",
       "\n",
       "    .dataframe tbody tr th {\n",
       "        vertical-align: top;\n",
       "    }\n",
       "\n",
       "    .dataframe thead th {\n",
       "        text-align: right;\n",
       "    }\n",
       "</style>\n",
       "<table border=\"1\" class=\"dataframe\">\n",
       "  <thead>\n",
       "    <tr style=\"text-align: right;\">\n",
       "      <th></th>\n",
       "      <th>exp_group</th>\n",
       "      <th>bucket</th>\n",
       "      <th>bucket_ctr</th>\n",
       "    </tr>\n",
       "  </thead>\n",
       "  <tbody>\n",
       "    <tr>\n",
       "      <th>0</th>\n",
       "      <td>1</td>\n",
       "      <td>0</td>\n",
       "      <td>0.196481</td>\n",
       "    </tr>\n",
       "    <tr>\n",
       "      <th>1</th>\n",
       "      <td>2</td>\n",
       "      <td>0</td>\n",
       "      <td>0.194262</td>\n",
       "    </tr>\n",
       "    <tr>\n",
       "      <th>2</th>\n",
       "      <td>1</td>\n",
       "      <td>1</td>\n",
       "      <td>0.211887</td>\n",
       "    </tr>\n",
       "    <tr>\n",
       "      <th>3</th>\n",
       "      <td>2</td>\n",
       "      <td>1</td>\n",
       "      <td>0.215328</td>\n",
       "    </tr>\n",
       "    <tr>\n",
       "      <th>4</th>\n",
       "      <td>1</td>\n",
       "      <td>2</td>\n",
       "      <td>0.206271</td>\n",
       "    </tr>\n",
       "  </tbody>\n",
       "</table>\n",
       "</div>"
      ],
      "text/plain": [
       "   exp_group  bucket  bucket_ctr\n",
       "0          1       0    0.196481\n",
       "1          2       0    0.194262\n",
       "2          1       1    0.211887\n",
       "3          2       1    0.215328\n",
       "4          1       2    0.206271"
      ]
     },
     "execution_count": 30,
     "metadata": {},
     "output_type": "execute_result"
    }
   ],
   "source": [
    "df_b.head() "
   ]
  },
  {
   "cell_type": "markdown",
   "id": "f05bc1f1-05a3-4c21-a9dc-19cdc97aea24",
   "metadata": {},
   "source": [
    "### 5.1. t-тест Стьюдента"
   ]
  },
  {
   "cell_type": "markdown",
   "id": "336e86c8-8c9e-4d8d-b192-535589444558",
   "metadata": {},
   "source": [
    "Проверяем **гипотезу, что новый алгоритм во 2-й группе приведет к увеличению CTR**.\n",
    "* **H0** - средние значения CTR в контрольной и экспериментальной группaх равны.\n",
    "* **H1** - средние значения CTR в тестовой группе выше, чем в контрольной.\n",
    "\n",
    "Уровень значимости альфа возьмем равным 5%."
   ]
  },
  {
   "cell_type": "code",
   "execution_count": 31,
   "id": "04c3af03-41b4-4ff1-8275-a84e0592a547",
   "metadata": {},
   "outputs": [
    {
     "data": {
      "text/plain": [
       "Ttest_indResult(statistic=-5.668234732053979, pvalue=0.9999998277202418)"
      ]
     },
     "execution_count": 31,
     "metadata": {},
     "output_type": "execute_result"
    }
   ],
   "source": [
    "# Параметрический t-test\n",
    "stats.ttest_ind(df_b[df_b['exp_group']==2].bucket_ctr, \n",
    "                df_b[df_b['exp_group']==1].bucket_ctr, \n",
    "                equal_var=False, \n",
    "                alternative='greater')"
   ]
  },
  {
   "cell_type": "markdown",
   "id": "07b1ecda-3233-40cc-b57e-1f80f321210a",
   "metadata": {},
   "source": [
    "Результат: p-value >> 0.05, следовательно мы **не можем принять альтернативную гипотезу(H1)** о том, что средние значения сглаженного CTR в тестовой группе выше, чем в контрольной."
   ]
  },
  {
   "cell_type": "code",
   "execution_count": 32,
   "id": "014cb801-bf78-48d3-8664-262f7a918fe0",
   "metadata": {},
   "outputs": [
    {
     "data": {
      "text/plain": [
       "Ttest_indResult(statistic=-5.668234732053979, pvalue=1.7227975824972953e-07)"
      ]
     },
     "execution_count": 32,
     "metadata": {},
     "output_type": "execute_result"
    }
   ],
   "source": [
    "# Проверим обратную гипотезу о том, что среднее CTR контрольной группы (1) больше, чем CTR тестовой (2)\n",
    "stats.ttest_ind(df_b[df_b['exp_group']==2].bucket_ctr, \n",
    "                df_b[df_b['exp_group']==1].bucket_ctr, \n",
    "                equal_var=False, \n",
    "                alternative='less')\n",
    "\n",
    "# p-value << 0.05, следовательно можем принять гипотезу, что среднее значение CTR контрольной группы (1) больше, чем CTR тестовой (2). \n",
    "# Т.е. новый алгоритм во 2 группе привел к снижению CTR."
   ]
  },
  {
   "cell_type": "markdown",
   "id": "cc90ae5f-d232-4951-843f-6e2a3e8c6496",
   "metadata": {},
   "source": [
    "### 5.2. Тест Манна-Уитни"
   ]
  },
  {
   "cell_type": "code",
   "execution_count": 33,
   "id": "3f50f340-651d-4332-9e61-91e460082013",
   "metadata": {},
   "outputs": [
    {
     "data": {
      "text/plain": [
       "MannwhitneyuResult(statistic=505.0, pvalue=0.9999998621494246)"
      ]
     },
     "execution_count": 33,
     "metadata": {},
     "output_type": "execute_result"
    }
   ],
   "source": [
    "# Непараметрический U-критерий Манна-Уитни\n",
    "stats.mannwhitneyu(df_b[df_b['exp_group']==2].bucket_ctr, \n",
    "                   df_b[df_b['exp_group']==1].bucket_ctr, \n",
    "                   alternative='greater')"
   ]
  },
  {
   "cell_type": "markdown",
   "id": "17ca2dd9-6316-4d80-a3b4-57346fee3c42",
   "metadata": {},
   "source": [
    "**Результат**: p-value >>> 0.05, следовательно мы **не можем принять альтернативную гипотезу(H1)** о том, что средние значения CTR в тестовой группе выше, чем в контрольной."
   ]
  },
  {
   "cell_type": "code",
   "execution_count": 34,
   "id": "801b8058-b853-47c6-8a69-f116aa55dda4",
   "metadata": {},
   "outputs": [
    {
     "data": {
      "text/plain": [
       "MannwhitneyuResult(statistic=505.0, pvalue=1.429981968246323e-07)"
      ]
     },
     "execution_count": 34,
     "metadata": {},
     "output_type": "execute_result"
    }
   ],
   "source": [
    "# Проверим обратную гипотезу о том, что среднее CTR контрольной группы (1) больше, чем CTR тестовой (2)\n",
    "stats.mannwhitneyu(df_b[df_b['exp_group']==2].bucket_ctr, \n",
    "                   df_b[df_b['exp_group']==1].bucket_ctr, \n",
    "                   alternative='less')\n",
    "\n",
    "# p-value << 0.05, следовательно можем принять гипотезу, что среднее значение CTR контрольной группы (1) больше, чем CTR тестовой (2). \n",
    "# Т.е. новый алгоритм во 2 группе привел к снижению CTR."
   ]
  },
  {
   "cell_type": "markdown",
   "id": "b240a32f-66ae-4a7a-a696-a753e026b6e4",
   "metadata": {},
   "source": [
    "## 6. Выводы"
   ]
  },
  {
   "cell_type": "markdown",
   "id": "b990d8ae-458b-449d-9d4f-89abb184bf86",
   "metadata": {},
   "source": [
    "Мы провели несколько тестов:\n",
    "* t-тест, \n",
    "* тест Манна-Уитни, \n",
    "* Пуассоновский бутстреп\n",
    "* t-тест на сглаженном ctr (α=5)\n",
    "* t-тест и тест Манна-Уитни поверх бакетного преобразования.  \n",
    "\n",
    "Результаты всех тестов показали, что с 2022-04-04 по 2022-04-10 средний CTR в тестовой группе (2) не выше среднего CTR в контрольной группе (1), а даже наоборот. То же самое подтвердилось и визуально.\n",
    "\n",
    "Соответственно, **можем отвергнуть гипотезу о том, что новый алгоритм во 2-й группе приведет к увеличению CTR**."
   ]
  },
  {
   "cell_type": "markdown",
   "id": "4ae10c4d-6bf1-4aeb-8835-4c34d144d1be",
   "metadata": {},
   "source": [
    "**Почему так произошло?**\n",
    "\n",
    "Самый очевидный вариант - что-то не так с алгоритмом, новый алгоритм стал выдавать менее интересные посты пользователям. Нужно обращаться ML-щикам.\n",
    "\n",
    "Возможно, в экспериментальной 2 группе существенно выросло количество просмотров или количество показываемых постов. Немного исследуем данные."
   ]
  },
  {
   "cell_type": "markdown",
   "id": "47d00b37-1f98-4f9b-8084-b62c5373a453",
   "metadata": {},
   "source": [
    "### 6.1. Как изменились просмотры в группах?"
   ]
  },
  {
   "cell_type": "code",
   "execution_count": 46,
   "id": "ba414db1-9d5d-4e22-bf35-b50491917cd4",
   "metadata": {},
   "outputs": [
    {
     "data": {
      "text/plain": [
       "<AxesSubplot:xlabel='views', ylabel='Count'>"
      ]
     },
     "execution_count": 46,
     "metadata": {},
     "output_type": "execute_result"
    },
    {
     "data": {
      "image/png": "[encoded data removed]",
      "text/plain": [
       "<Figure size 864x432 with 1 Axes>"
      ]
     },
     "metadata": {},
     "output_type": "display_data"
    }
   ],
   "source": [
    "# Гистограмма количества просмотров по группам\n",
    "sns.histplot(data=df, x='views', hue='exp_group', palette=['r', 'b'])"
   ]
  },
  {
   "cell_type": "markdown",
   "id": "b4746f2e-c5ef-4cd2-9b56-71a0a0cb1692",
   "metadata": {},
   "source": [
    "**Является ли изменение количества просмотров в группах статистически значимым?**"
   ]
  },
  {
   "cell_type": "code",
   "execution_count": 43,
   "id": "980d09a3-f07a-4c12-88dc-d33141d5a58d",
   "metadata": {},
   "outputs": [
    {
     "data": {
      "text/plain": [
       "MannwhitneyuResult(statistic=49994123.5, pvalue=0.651188457751096)"
      ]
     },
     "execution_count": 43,
     "metadata": {},
     "output_type": "execute_result"
    }
   ],
   "source": [
    "# Проверим критерием Манна-Уитни с уровнем значимости 5%, стало ли в экспериментальной группе больше просмотров, чем в контрольной\n",
    "# H0 - количество просмотров в группах равно; # H1 - количество просмотров во 2-й группе больше, чем в 1-й\n",
    "\n",
    "stats.mannwhitneyu(df[df['exp_group']==2].views, \n",
    "                   df[df['exp_group']==1].views, \n",
    "                   alternative='greater')\n",
    "\n",
    "# p-value > 0.05. Принимаем нулевую гипотезу, разница в просмотрах статистически незначима."
   ]
  },
  {
   "cell_type": "code",
   "execution_count": 45,
   "id": "5b00bcfa-22a2-4628-87e0-13faa22a837e",
   "metadata": {},
   "outputs": [
    {
     "data": {
      "text/plain": [
       "MannwhitneyuResult(statistic=49994123.5, pvalue=0.3488124463375471)"
      ]
     },
     "execution_count": 45,
     "metadata": {},
     "output_type": "execute_result"
    }
   ],
   "source": [
    "# Проверим критерием Манна-Уитни с уровнем значимости 5% обратное, стало ли в экспериментальной группе меньше просмотров, чем в контрольной\n",
    "# H0 - количество просмотров в группах равно; # H1 - количество просмотров во 2-й группе меньше, чем в 1-й\n",
    "\n",
    "stats.mannwhitneyu(df[df['exp_group']==2].views, \n",
    "                   df[df['exp_group']==1].views, \n",
    "                   alternative='less')\n",
    "\n",
    "# p-value > 0.05. Принимаем нулевую гипотезу, разница в просмотрах статистически незначима."
   ]
  },
  {
   "cell_type": "markdown",
   "id": "18ff7475-4b71-4051-8b0a-177f9cc6396a",
   "metadata": {},
   "source": [
    "### 6.2. Как изменились лайки в группах?"
   ]
  },
  {
   "cell_type": "code",
   "execution_count": 52,
   "id": "e046fc83-4813-40b4-abbd-f04ba05fe5d2",
   "metadata": {},
   "outputs": [
    {
     "data": {
      "text/plain": [
       "<AxesSubplot:xlabel='likes', ylabel='Count'>"
      ]
     },
     "execution_count": 52,
     "metadata": {},
     "output_type": "execute_result"
    },
    {
     "data": {
      "image/png": "[encoded data removed]",
      "text/plain": [
       "<Figure size 864x432 with 1 Axes>"
      ]
     },
     "metadata": {},
     "output_type": "display_data"
    }
   ],
   "source": [
    "# Гистограмма количества лайков по группам\n",
    "sns.histplot(data=df, x='likes', hue='exp_group', palette=['r', 'b'], bins=50)"
   ]
  },
  {
   "cell_type": "markdown",
   "id": "b8a76c48-521d-4711-8a35-2b8d4a18d4b2",
   "metadata": {},
   "source": [
    "**Является ли изменение количества лайков в группах статистически значимым?**"
   ]
  },
  {
   "cell_type": "code",
   "execution_count": 54,
   "id": "6a76ba44-02ac-4590-8288-214ec43e5717",
   "metadata": {},
   "outputs": [
    {
     "data": {
      "text/plain": [
       "MannwhitneyuResult(statistic=44792538.0, pvalue=1.0)"
      ]
     },
     "execution_count": 54,
     "metadata": {},
     "output_type": "execute_result"
    }
   ],
   "source": [
    "# Проверим критерием Манна-Уитни с уровнем значимости 5%, стало ли в экспериментальной группе больше лайков, чем в контрольной\n",
    "# H0 - количество лайков в группах равно; # H1 - количество лайков во 2-й группе больше, чем в 1-й\n",
    "\n",
    "stats.mannwhitneyu(df[df['exp_group']==2].likes, \n",
    "                   df[df['exp_group']==1].likes, \n",
    "                   alternative='greater')\n",
    "\n",
    "# p-value >> 0.05. Принимаем нулевую гипотезу, разница в лайках статистически незначима."
   ]
  },
  {
   "cell_type": "code",
   "execution_count": 56,
   "id": "e76d9b52-99c0-42d5-97fe-792d012d353b",
   "metadata": {},
   "outputs": [
    {
     "data": {
      "text/plain": [
       "MannwhitneyuResult(statistic=44792538.0, pvalue=1.4300962888572648e-39)"
      ]
     },
     "execution_count": 56,
     "metadata": {},
     "output_type": "execute_result"
    }
   ],
   "source": [
    "# Проверим критерием Манна-Уитни с уровнем значимости 5% обратное, стало ли в экспериментальной группе меньше лайков, чем в контрольной\n",
    "# H0 - количество лайков в группах равно; # H1 - количество лайков во 2-й группе меньше, чем в 1-й\n",
    "\n",
    "stats.mannwhitneyu(df[df['exp_group']==2].likes, \n",
    "                   df[df['exp_group']==1].likes, \n",
    "                   alternative='less')\n",
    "\n",
    "# p-value << 0.05. Принимаем альтернативную гипотезу, количество лайков в 1-й группе больше, чем во 2-й с уровнем значимости 5%."
   ]
  },
  {
   "cell_type": "markdown",
   "id": "f2ccc810-fa1e-4b35-8748-f90dd0efde93",
   "metadata": {},
   "source": [
    "Исходя из проведенных тестов, мы видим, что разница в  CTR в тестовой и контрольной группах обусловлено только изменением количества лайков пользователями. Значит, **пользователям стали меньше нравится посты, предлагаемые новым алгоритмом**."
   ]
  },
  {
   "cell_type": "markdown",
   "id": "29960a60-e44b-488c-8244-1f9f14b1ec51",
   "metadata": {},
   "source": [
    "### 6.3. Количество показываемых постов в группах"
   ]
  },
  {
   "cell_type": "markdown",
   "id": "6ce27359-a760-47f4-8f2e-8d082ffb0a8f",
   "metadata": {},
   "source": [
    "Возможно, количество показываемых постов пользователям в экспериментальной группе просто слишком возросло, что привело к падению CTR."
   ]
  },
  {
   "cell_type": "code",
   "execution_count": 58,
   "id": "ac189fce-e125-46d5-9396-af19d3ec15d0",
   "metadata": {},
   "outputs": [],
   "source": [
    "# Данные о количестве пользователей, постов, просмотров, лайков и сообщений в приложении за неделю\n",
    "q = '''\n",
    "    SELECT \n",
    "        exp_group, user_id, \n",
    "        COUNT(DISTINCT post_id) as posts,\n",
    "        countIf(action='like') as likes,\n",
    "        countIf(action='view') as views,\n",
    "        countIf(action='like')/countIf(action='view') as ctr\n",
    "    FROM\n",
    "        simulator_20220420.feed_actions\n",
    "    WHERE \n",
    "        (toDate(time) BETWEEN '2022-04-04' AND '2022-04-10') \n",
    "        AND (exp_group IN (1, 2))\n",
    "    GROUP BY\n",
    "        user_id, exp_group\n",
    "'''\n",
    "# Сохраним результат запроса в pandas df\n",
    "df_p = pandahouse.read_clickhouse(q, connection=connection)"
   ]
  },
  {
   "cell_type": "code",
   "execution_count": 60,
   "id": "a0752a44-e05a-43a2-89d4-d658d1153a52",
   "metadata": {},
   "outputs": [
    {
     "data": {
      "text/html": [
       "<div>\n",
       "<style scoped>\n",
       "    .dataframe tbody tr th:only-of-type {\n",
       "        vertical-align: middle;\n",
       "    }\n",
       "\n",
       "    .dataframe tbody tr th {\n",
       "        vertical-align: top;\n",
       "    }\n",
       "\n",
       "    .dataframe thead th {\n",
       "        text-align: right;\n",
       "    }\n",
       "</style>\n",
       "<table border=\"1\" class=\"dataframe\">\n",
       "  <thead>\n",
       "    <tr style=\"text-align: right;\">\n",
       "      <th></th>\n",
       "      <th>exp_group</th>\n",
       "      <th>user_id</th>\n",
       "      <th>posts</th>\n",
       "      <th>likes</th>\n",
       "      <th>views</th>\n",
       "      <th>ctr</th>\n",
       "    </tr>\n",
       "  </thead>\n",
       "  <tbody>\n",
       "    <tr>\n",
       "      <th>0</th>\n",
       "      <td>1</td>\n",
       "      <td>109963</td>\n",
       "      <td>15</td>\n",
       "      <td>3</td>\n",
       "      <td>15</td>\n",
       "      <td>0.200000</td>\n",
       "    </tr>\n",
       "    <tr>\n",
       "      <th>1</th>\n",
       "      <td>1</td>\n",
       "      <td>26117</td>\n",
       "      <td>91</td>\n",
       "      <td>32</td>\n",
       "      <td>141</td>\n",
       "      <td>0.226950</td>\n",
       "    </tr>\n",
       "    <tr>\n",
       "      <th>2</th>\n",
       "      <td>1</td>\n",
       "      <td>138232</td>\n",
       "      <td>55</td>\n",
       "      <td>18</td>\n",
       "      <td>73</td>\n",
       "      <td>0.246575</td>\n",
       "    </tr>\n",
       "    <tr>\n",
       "      <th>3</th>\n",
       "      <td>1</td>\n",
       "      <td>26295</td>\n",
       "      <td>87</td>\n",
       "      <td>33</td>\n",
       "      <td>122</td>\n",
       "      <td>0.270492</td>\n",
       "    </tr>\n",
       "    <tr>\n",
       "      <th>4</th>\n",
       "      <td>1</td>\n",
       "      <td>18392</td>\n",
       "      <td>27</td>\n",
       "      <td>7</td>\n",
       "      <td>32</td>\n",
       "      <td>0.218750</td>\n",
       "    </tr>\n",
       "  </tbody>\n",
       "</table>\n",
       "</div>"
      ],
      "text/plain": [
       "   exp_group  user_id  posts  likes  views       ctr\n",
       "0          1   109963     15      3     15  0.200000\n",
       "1          1    26117     91     32    141  0.226950\n",
       "2          1   138232     55     18     73  0.246575\n",
       "3          1    26295     87     33    122  0.270492\n",
       "4          1    18392     27      7     32  0.218750"
      ]
     },
     "execution_count": 60,
     "metadata": {},
     "output_type": "execute_result"
    }
   ],
   "source": [
    "df_p.head()"
   ]
  },
  {
   "cell_type": "code",
   "execution_count": 61,
   "id": "d12fc5f6-2762-4201-ad3d-b1afef58ce49",
   "metadata": {},
   "outputs": [
    {
     "data": {
      "text/plain": [
       "<AxesSubplot:xlabel='posts', ylabel='Count'>"
      ]
     },
     "execution_count": 61,
     "metadata": {},
     "output_type": "execute_result"
    },
    {
     "data": {
      "image/png": "[encoded data removed]",
      "text/plain": [
       "<Figure size 864x432 with 1 Axes>"
      ]
     },
     "metadata": {},
     "output_type": "display_data"
    }
   ],
   "source": [
    "# Гистограмма количества постов по группам\n",
    "sns.histplot(data=df_p, x='posts', hue='exp_group', palette=['r', 'b'])"
   ]
  },
  {
   "cell_type": "markdown",
   "id": "bbd2a6da-a561-44ef-b67f-b17e22d8f9cf",
   "metadata": {},
   "source": [
    "**Является ли изменение количества постов в группах статистически значимым?**"
   ]
  },
  {
   "cell_type": "code",
   "execution_count": 62,
   "id": "df783ffb-b18b-4d72-b8ff-4bbeb8e321cc",
   "metadata": {},
   "outputs": [
    {
     "data": {
      "text/plain": [
       "MannwhitneyuResult(statistic=49994123.5, pvalue=0.6976248926750942)"
      ]
     },
     "execution_count": 62,
     "metadata": {},
     "output_type": "execute_result"
    }
   ],
   "source": [
    "# Проверим критерием Манна-Уитни с уровнем значимости 5%, отличается ли количество постов в экспериментальной группе от постов в контрольной\n",
    "# H0 - количество постов в группах равно; # H1 - количество постов во 2-й группе и в 1-й группе не равно\n",
    "\n",
    "stats.mannwhitneyu(df[df['exp_group']==2].views, \n",
    "                   df[df['exp_group']==1].views, \n",
    "                   alternative='two-sided')\n",
    "\n",
    "# p-value > 0.05. Принимаем нулевую гипотезу, разница в количестве постов статистически незначима."
   ]
  },
  {
   "cell_type": "markdown",
   "id": "5b06b608-e733-4bfd-9b98-5eec193090e9",
   "metadata": {},
   "source": [
    "## 7. Рекомендации"
   ]
  },
  {
   "cell_type": "markdown",
   "id": "9a7b0903-4b8d-41a9-b85a-8db2f9dd2cd2",
   "metadata": {},
   "source": [
    "По результатам AB-тестов с 2022-04-04 по 2022-04-10 **гипотеза о том, что новый алгоритм приведет к увеличению CTR была опровергнута**.\n",
    "\n",
    "Падение CTR вызвано уменьшением (стат. значимым) количества лайков. Т.е. новый алгоритм стал рекомендовать пользователям \"не те\" посты.\n",
    "\n",
    "**Не рекомендую раскатывать новый алгоритм на всех новых пользователей**."
   ]
  }
 ],
 "metadata": {
  "kernelspec": {
   "display_name": "Python 3 (ipykernel)",
   "language": "python",
   "name": "python3"
  },
  "language_info": {
   "codemirror_mode": {
    "name": "ipython",
    "version": 3
   },
   "file_extension": ".py",
   "mimetype": "text/x-python",
   "name": "python",
   "nbconvert_exporter": "python",
   "pygments_lexer": "ipython3",
   "version": "3.9.12"
  }
 },
 "nbformat": 4,
 "nbformat_minor": 5
}
